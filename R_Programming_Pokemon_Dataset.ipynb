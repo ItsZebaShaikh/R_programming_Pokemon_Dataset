{
 "cells": [
  {
   "cell_type": "markdown",
   "metadata": {},
   "source": [
    "Dataset is Taken from kaggle website"
   ]
  },
  {
   "cell_type": "markdown",
   "metadata": {},
   "source": [
    "__This Dataset is Pokemon dataset where we have Pokemon names and their characteristics like attack,defence speed etc.\n",
    "So First we are going to select the best pokemons for the fight and then we are going to see what are the factors influencing a Pokemon Attack. And lastly we will see if the Pokemon is Legendary or Not.__"
   ]
  },
  {
   "cell_type": "markdown",
   "metadata": {},
   "source": [
    "#### A) Load the data and show first four rows"
   ]
  },
  {
   "cell_type": "code",
   "execution_count": 2,
   "metadata": {},
   "outputs": [],
   "source": [
    "pokemon <- read.csv('datasets_2619_4359_pokemon.csv')"
   ]
  },
  {
   "cell_type": "code",
   "execution_count": 3,
   "metadata": {},
   "outputs": [
    {
     "data": {
      "text/html": [
       "<table>\n",
       "<thead><tr><th scope=col>X.</th><th scope=col>Name</th><th scope=col>Type.1</th><th scope=col>Type.2</th><th scope=col>HP</th><th scope=col>Attack</th><th scope=col>Defense</th><th scope=col>Sp..Atk</th><th scope=col>Sp..Def</th><th scope=col>Speed</th><th scope=col>Generation</th><th scope=col>Legendary</th></tr></thead>\n",
       "<tbody>\n",
       "\t<tr><td>1            </td><td>Bulbasaur    </td><td>Grass        </td><td>Poison       </td><td>45           </td><td> 49          </td><td> 49          </td><td> 65          </td><td> 65          </td><td>45           </td><td>1            </td><td>False        </td></tr>\n",
       "\t<tr><td>2            </td><td>Ivysaur      </td><td>Grass        </td><td>Poison       </td><td>60           </td><td> 62          </td><td> 63          </td><td> 80          </td><td> 80          </td><td>60           </td><td>1            </td><td>False        </td></tr>\n",
       "\t<tr><td>3            </td><td>Venusaur     </td><td>Grass        </td><td>Poison       </td><td>80           </td><td> 82          </td><td> 83          </td><td>100          </td><td>100          </td><td>80           </td><td>1            </td><td>False        </td></tr>\n",
       "\t<tr><td>4            </td><td>Mega Venusaur</td><td>Grass        </td><td>Poison       </td><td>80           </td><td>100          </td><td>123          </td><td>122          </td><td>120          </td><td>80           </td><td>1            </td><td>False        </td></tr>\n",
       "</tbody>\n",
       "</table>\n"
      ],
      "text/latex": [
       "\\begin{tabular}{r|llllllllllll}\n",
       " X. & Name & Type.1 & Type.2 & HP & Attack & Defense & Sp..Atk & Sp..Def & Speed & Generation & Legendary\\\\\n",
       "\\hline\n",
       "\t 1             & Bulbasaur     & Grass         & Poison        & 45            &  49           &  49           &  65           &  65           & 45            & 1             & False        \\\\\n",
       "\t 2             & Ivysaur       & Grass         & Poison        & 60            &  62           &  63           &  80           &  80           & 60            & 1             & False        \\\\\n",
       "\t 3             & Venusaur      & Grass         & Poison        & 80            &  82           &  83           & 100           & 100           & 80            & 1             & False        \\\\\n",
       "\t 4             & Mega Venusaur & Grass         & Poison        & 80            & 100           & 123           & 122           & 120           & 80            & 1             & False        \\\\\n",
       "\\end{tabular}\n"
      ],
      "text/markdown": [
       "\n",
       "| X. | Name | Type.1 | Type.2 | HP | Attack | Defense | Sp..Atk | Sp..Def | Speed | Generation | Legendary |\n",
       "|---|---|---|---|---|---|---|---|---|---|---|---|\n",
       "| 1             | Bulbasaur     | Grass         | Poison        | 45            |  49           |  49           |  65           |  65           | 45            | 1             | False         |\n",
       "| 2             | Ivysaur       | Grass         | Poison        | 60            |  62           |  63           |  80           |  80           | 60            | 1             | False         |\n",
       "| 3             | Venusaur      | Grass         | Poison        | 80            |  82           |  83           | 100           | 100           | 80            | 1             | False         |\n",
       "| 4             | Mega Venusaur | Grass         | Poison        | 80            | 100           | 123           | 122           | 120           | 80            | 1             | False         |\n",
       "\n"
      ],
      "text/plain": [
       "  X. Name          Type.1 Type.2 HP Attack Defense Sp..Atk Sp..Def Speed\n",
       "1 1  Bulbasaur     Grass  Poison 45  49     49      65      65     45   \n",
       "2 2  Ivysaur       Grass  Poison 60  62     63      80      80     60   \n",
       "3 3  Venusaur      Grass  Poison 80  82     83     100     100     80   \n",
       "4 4  Mega Venusaur Grass  Poison 80 100    123     122     120     80   \n",
       "  Generation Legendary\n",
       "1 1          False    \n",
       "2 1          False    \n",
       "3 1          False    \n",
       "4 1          False    "
      ]
     },
     "metadata": {},
     "output_type": "display_data"
    }
   ],
   "source": [
    "head(pokemon,4)"
   ]
  },
  {
   "cell_type": "markdown",
   "metadata": {},
   "source": [
    "Here we can see there is no need of the first column because its just row numbers\n",
    "So lets remove it "
   ]
  },
  {
   "cell_type": "code",
   "execution_count": 4,
   "metadata": {},
   "outputs": [
    {
     "name": "stderr",
     "output_type": "stream",
     "text": [
      "Warning message:\n",
      "\"package 'dplyr' was built under R version 3.6.3\"\n",
      "Attaching package: 'dplyr'\n",
      "\n",
      "The following objects are masked from 'package:stats':\n",
      "\n",
      "    filter, lag\n",
      "\n",
      "The following objects are masked from 'package:base':\n",
      "\n",
      "    intersect, setdiff, setequal, union\n",
      "\n"
     ]
    }
   ],
   "source": [
    "library('dplyr')"
   ]
  },
  {
   "cell_type": "code",
   "execution_count": 5,
   "metadata": {},
   "outputs": [],
   "source": [
    "pokemon <- pokemon %>% select(-1) "
   ]
  },
  {
   "cell_type": "code",
   "execution_count": 6,
   "metadata": {},
   "outputs": [
    {
     "data": {
      "text/html": [
       "<table>\n",
       "<thead><tr><th scope=col>Name</th><th scope=col>Type.1</th><th scope=col>Type.2</th><th scope=col>HP</th><th scope=col>Attack</th><th scope=col>Defense</th><th scope=col>Sp..Atk</th><th scope=col>Sp..Def</th><th scope=col>Speed</th><th scope=col>Generation</th><th scope=col>Legendary</th></tr></thead>\n",
       "<tbody>\n",
       "\t<tr><td>Bulbasaur    </td><td>Grass        </td><td>Poison       </td><td>45           </td><td> 49          </td><td> 49          </td><td> 65          </td><td> 65          </td><td>45           </td><td>1            </td><td>False        </td></tr>\n",
       "\t<tr><td>Ivysaur      </td><td>Grass        </td><td>Poison       </td><td>60           </td><td> 62          </td><td> 63          </td><td> 80          </td><td> 80          </td><td>60           </td><td>1            </td><td>False        </td></tr>\n",
       "\t<tr><td>Venusaur     </td><td>Grass        </td><td>Poison       </td><td>80           </td><td> 82          </td><td> 83          </td><td>100          </td><td>100          </td><td>80           </td><td>1            </td><td>False        </td></tr>\n",
       "\t<tr><td>Mega Venusaur</td><td>Grass        </td><td>Poison       </td><td>80           </td><td>100          </td><td>123          </td><td>122          </td><td>120          </td><td>80           </td><td>1            </td><td>False        </td></tr>\n",
       "</tbody>\n",
       "</table>\n"
      ],
      "text/latex": [
       "\\begin{tabular}{r|lllllllllll}\n",
       " Name & Type.1 & Type.2 & HP & Attack & Defense & Sp..Atk & Sp..Def & Speed & Generation & Legendary\\\\\n",
       "\\hline\n",
       "\t Bulbasaur     & Grass         & Poison        & 45            &  49           &  49           &  65           &  65           & 45            & 1             & False        \\\\\n",
       "\t Ivysaur       & Grass         & Poison        & 60            &  62           &  63           &  80           &  80           & 60            & 1             & False        \\\\\n",
       "\t Venusaur      & Grass         & Poison        & 80            &  82           &  83           & 100           & 100           & 80            & 1             & False        \\\\\n",
       "\t Mega Venusaur & Grass         & Poison        & 80            & 100           & 123           & 122           & 120           & 80            & 1             & False        \\\\\n",
       "\\end{tabular}\n"
      ],
      "text/markdown": [
       "\n",
       "| Name | Type.1 | Type.2 | HP | Attack | Defense | Sp..Atk | Sp..Def | Speed | Generation | Legendary |\n",
       "|---|---|---|---|---|---|---|---|---|---|---|\n",
       "| Bulbasaur     | Grass         | Poison        | 45            |  49           |  49           |  65           |  65           | 45            | 1             | False         |\n",
       "| Ivysaur       | Grass         | Poison        | 60            |  62           |  63           |  80           |  80           | 60            | 1             | False         |\n",
       "| Venusaur      | Grass         | Poison        | 80            |  82           |  83           | 100           | 100           | 80            | 1             | False         |\n",
       "| Mega Venusaur | Grass         | Poison        | 80            | 100           | 123           | 122           | 120           | 80            | 1             | False         |\n",
       "\n"
      ],
      "text/plain": [
       "  Name          Type.1 Type.2 HP Attack Defense Sp..Atk Sp..Def Speed\n",
       "1 Bulbasaur     Grass  Poison 45  49     49      65      65     45   \n",
       "2 Ivysaur       Grass  Poison 60  62     63      80      80     60   \n",
       "3 Venusaur      Grass  Poison 80  82     83     100     100     80   \n",
       "4 Mega Venusaur Grass  Poison 80 100    123     122     120     80   \n",
       "  Generation Legendary\n",
       "1 1          False    \n",
       "2 1          False    \n",
       "3 1          False    \n",
       "4 1          False    "
      ]
     },
     "metadata": {},
     "output_type": "display_data"
    }
   ],
   "source": [
    "head(pokemon,4)"
   ]
  },
  {
   "cell_type": "code",
   "execution_count": 7,
   "metadata": {},
   "outputs": [
    {
     "data": {
      "text/html": [
       "800"
      ],
      "text/latex": [
       "800"
      ],
      "text/markdown": [
       "800"
      ],
      "text/plain": [
       "[1] 800"
      ]
     },
     "metadata": {},
     "output_type": "display_data"
    }
   ],
   "source": [
    "nrow(pokemon)"
   ]
  },
  {
   "cell_type": "code",
   "execution_count": 8,
   "metadata": {},
   "outputs": [
    {
     "data": {
      "text/html": [
       "11"
      ],
      "text/latex": [
       "11"
      ],
      "text/markdown": [
       "11"
      ],
      "text/plain": [
       "[1] 11"
      ]
     },
     "metadata": {},
     "output_type": "display_data"
    }
   ],
   "source": [
    "ncol(pokemon)"
   ]
  },
  {
   "cell_type": "markdown",
   "metadata": {},
   "source": [
    "Renaming some columns for better understanding"
   ]
  },
  {
   "cell_type": "code",
   "execution_count": 9,
   "metadata": {},
   "outputs": [],
   "source": [
    "\"Primary_Type\" -> colnames(pokemon)[2]\n",
    "\"Secondary_Type\" -> colnames(pokemon)[3]\n",
    "\"Health_Points\" -> colnames(pokemon)[4]\n",
    "\"Special_Attack\" -> colnames(pokemon)[7]\n",
    "\"Special_Defence\" -> colnames(pokemon)[8]"
   ]
  },
  {
   "cell_type": "code",
   "execution_count": 10,
   "metadata": {},
   "outputs": [
    {
     "data": {
      "text/html": [
       "<table>\n",
       "<thead><tr><th scope=col>Name</th><th scope=col>Primary_Type</th><th scope=col>Secondary_Type</th><th scope=col>Health_Points</th><th scope=col>Attack</th><th scope=col>Defense</th><th scope=col>Special_Attack</th><th scope=col>Special_Defence</th><th scope=col>Speed</th><th scope=col>Generation</th><th scope=col>Legendary</th></tr></thead>\n",
       "<tbody>\n",
       "\t<tr><td>Bulbasaur    </td><td>Grass        </td><td>Poison       </td><td>45           </td><td> 49          </td><td> 49          </td><td> 65          </td><td> 65          </td><td>45           </td><td>1            </td><td>False        </td></tr>\n",
       "\t<tr><td>Ivysaur      </td><td>Grass        </td><td>Poison       </td><td>60           </td><td> 62          </td><td> 63          </td><td> 80          </td><td> 80          </td><td>60           </td><td>1            </td><td>False        </td></tr>\n",
       "\t<tr><td>Venusaur     </td><td>Grass        </td><td>Poison       </td><td>80           </td><td> 82          </td><td> 83          </td><td>100          </td><td>100          </td><td>80           </td><td>1            </td><td>False        </td></tr>\n",
       "\t<tr><td>Mega Venusaur</td><td>Grass        </td><td>Poison       </td><td>80           </td><td>100          </td><td>123          </td><td>122          </td><td>120          </td><td>80           </td><td>1            </td><td>False        </td></tr>\n",
       "</tbody>\n",
       "</table>\n"
      ],
      "text/latex": [
       "\\begin{tabular}{r|lllllllllll}\n",
       " Name & Primary\\_Type & Secondary\\_Type & Health\\_Points & Attack & Defense & Special\\_Attack & Special\\_Defence & Speed & Generation & Legendary\\\\\n",
       "\\hline\n",
       "\t Bulbasaur     & Grass         & Poison        & 45            &  49           &  49           &  65           &  65           & 45            & 1             & False        \\\\\n",
       "\t Ivysaur       & Grass         & Poison        & 60            &  62           &  63           &  80           &  80           & 60            & 1             & False        \\\\\n",
       "\t Venusaur      & Grass         & Poison        & 80            &  82           &  83           & 100           & 100           & 80            & 1             & False        \\\\\n",
       "\t Mega Venusaur & Grass         & Poison        & 80            & 100           & 123           & 122           & 120           & 80            & 1             & False        \\\\\n",
       "\\end{tabular}\n"
      ],
      "text/markdown": [
       "\n",
       "| Name | Primary_Type | Secondary_Type | Health_Points | Attack | Defense | Special_Attack | Special_Defence | Speed | Generation | Legendary |\n",
       "|---|---|---|---|---|---|---|---|---|---|---|\n",
       "| Bulbasaur     | Grass         | Poison        | 45            |  49           |  49           |  65           |  65           | 45            | 1             | False         |\n",
       "| Ivysaur       | Grass         | Poison        | 60            |  62           |  63           |  80           |  80           | 60            | 1             | False         |\n",
       "| Venusaur      | Grass         | Poison        | 80            |  82           |  83           | 100           | 100           | 80            | 1             | False         |\n",
       "| Mega Venusaur | Grass         | Poison        | 80            | 100           | 123           | 122           | 120           | 80            | 1             | False         |\n",
       "\n"
      ],
      "text/plain": [
       "  Name          Primary_Type Secondary_Type Health_Points Attack Defense\n",
       "1 Bulbasaur     Grass        Poison         45             49     49    \n",
       "2 Ivysaur       Grass        Poison         60             62     63    \n",
       "3 Venusaur      Grass        Poison         80             82     83    \n",
       "4 Mega Venusaur Grass        Poison         80            100    123    \n",
       "  Special_Attack Special_Defence Speed Generation Legendary\n",
       "1  65             65             45    1          False    \n",
       "2  80             80             60    1          False    \n",
       "3 100            100             80    1          False    \n",
       "4 122            120             80    1          False    "
      ]
     },
     "metadata": {},
     "output_type": "display_data"
    }
   ],
   "source": [
    "head(pokemon,4)"
   ]
  },
  {
   "cell_type": "code",
   "execution_count": 11,
   "metadata": {},
   "outputs": [
    {
     "name": "stdout",
     "output_type": "stream",
     "text": [
      "'data.frame':\t800 obs. of  11 variables:\n",
      " $ Name           : Factor w/ 800 levels \"\",\"Abomasnow\",..: 70 309 746 454 89 90 88 420 421 669 ...\n",
      " $ Primary_Type   : Factor w/ 18 levels \"Bug\",\"Dark\",\"Dragon\",..: 10 10 10 10 7 7 7 7 7 18 ...\n",
      " $ Secondary_Type : Factor w/ 19 levels \"\",\"Bug\",\"Dark\",..: 15 15 15 15 1 1 9 4 9 1 ...\n",
      " $ Health_Points  : int  45 60 80 80 39 58 78 78 78 44 ...\n",
      " $ Attack         : int  49 62 82 100 52 64 84 130 104 48 ...\n",
      " $ Defense        : int  49 63 83 123 43 58 78 111 78 65 ...\n",
      " $ Special_Attack : int  65 80 100 122 60 80 109 130 159 50 ...\n",
      " $ Special_Defence: int  65 80 100 120 50 65 85 85 115 64 ...\n",
      " $ Speed          : int  45 60 80 80 65 80 100 100 100 43 ...\n",
      " $ Generation     : int  1 1 1 1 1 1 1 1 1 1 ...\n",
      " $ Legendary      : Factor w/ 2 levels \"False\",\"True\": 1 1 1 1 1 1 1 1 1 1 ...\n"
     ]
    }
   ],
   "source": [
    "str(pokemon)"
   ]
  },
  {
   "cell_type": "markdown",
   "metadata": {},
   "source": [
    "## (DATA WRANGLING)\n",
    "###  Choose one best Pokemon from each type Grass,Water and Fire . "
   ]
  },
  {
   "cell_type": "code",
   "execution_count": 12,
   "metadata": {},
   "outputs": [
    {
     "data": {
      "text/plain": [
       "\n",
       "     Bug     Dark   Dragon Electric    Fairy Fighting     Fire   Flying \n",
       "      69       31       32       44       17       27       52        4 \n",
       "   Ghost    Grass   Ground      Ice   Normal   Poison  Psychic     Rock \n",
       "      32       70       32       24       98       28       57       44 \n",
       "   Steel    Water \n",
       "      27      112 "
      ]
     },
     "metadata": {},
     "output_type": "display_data"
    }
   ],
   "source": [
    "table(pokemon$Primary_Type)"
   ]
  },
  {
   "cell_type": "markdown",
   "metadata": {},
   "source": [
    "__Select a Grass Pokemon which is Poisonous and has the Maximum Speed__"
   ]
  },
  {
   "cell_type": "code",
   "execution_count": 13,
   "metadata": {},
   "outputs": [],
   "source": [
    "Grass_pokemon <- pokemon %>% filter(Primary_Type==\"Grass\")"
   ]
  },
  {
   "cell_type": "code",
   "execution_count": 14,
   "metadata": {
    "scrolled": true
   },
   "outputs": [
    {
     "data": {
      "text/html": [
       "<table>\n",
       "<thead><tr><th scope=col>Name</th><th scope=col>Primary_Type</th><th scope=col>Secondary_Type</th><th scope=col>Health_Points</th><th scope=col>Attack</th><th scope=col>Defense</th><th scope=col>Special_Attack</th><th scope=col>Special_Defence</th><th scope=col>Speed</th><th scope=col>Generation</th><th scope=col>Legendary</th></tr></thead>\n",
       "<tbody>\n",
       "\t<tr><td>Bulbasaur    </td><td>Grass        </td><td>Poison       </td><td>45           </td><td> 49          </td><td> 49          </td><td> 65          </td><td> 65          </td><td> 45          </td><td>1            </td><td>False        </td></tr>\n",
       "\t<tr><td>Ivysaur      </td><td>Grass        </td><td>Poison       </td><td>60           </td><td> 62          </td><td> 63          </td><td> 80          </td><td> 80          </td><td> 60          </td><td>1            </td><td>False        </td></tr>\n",
       "\t<tr><td>Venusaur     </td><td>Grass        </td><td>Poison       </td><td>80           </td><td> 82          </td><td> 83          </td><td>100          </td><td>100          </td><td> 80          </td><td>1            </td><td>False        </td></tr>\n",
       "\t<tr><td>Mega Venusaur</td><td>Grass        </td><td>Poison       </td><td>80           </td><td>100          </td><td>123          </td><td>122          </td><td>120          </td><td> 80          </td><td>1            </td><td>False        </td></tr>\n",
       "\t<tr><td>Oddish       </td><td>Grass        </td><td>Poison       </td><td>45           </td><td> 50          </td><td> 55          </td><td> 75          </td><td> 65          </td><td> 30          </td><td>1            </td><td>False        </td></tr>\n",
       "\t<tr><td>Gloom        </td><td>Grass        </td><td>Poison       </td><td>60           </td><td> 65          </td><td> 70          </td><td> 85          </td><td> 75          </td><td> 40          </td><td>1            </td><td>False        </td></tr>\n",
       "\t<tr><td>Vileplume    </td><td>Grass        </td><td>Poison       </td><td>75           </td><td> 80          </td><td> 85          </td><td>110          </td><td> 90          </td><td> 50          </td><td>1            </td><td>False        </td></tr>\n",
       "\t<tr><td>Bellsprout   </td><td>Grass        </td><td>Poison       </td><td>50           </td><td> 75          </td><td> 35          </td><td> 70          </td><td> 30          </td><td> 40          </td><td>1            </td><td>False        </td></tr>\n",
       "\t<tr><td>Weepinbell   </td><td>Grass        </td><td>Poison       </td><td>65           </td><td> 90          </td><td> 50          </td><td> 85          </td><td> 45          </td><td> 55          </td><td>1            </td><td>False        </td></tr>\n",
       "\t<tr><td>Victreebel   </td><td>Grass        </td><td>Poison       </td><td>80           </td><td>105          </td><td> 65          </td><td>100          </td><td> 70          </td><td> 70          </td><td>1            </td><td>False        </td></tr>\n",
       "\t<tr><td>Exeggcute    </td><td>Grass        </td><td>Psychic      </td><td>60           </td><td> 40          </td><td> 80          </td><td> 60          </td><td> 45          </td><td> 40          </td><td>1            </td><td>False        </td></tr>\n",
       "\t<tr><td>Exeggutor    </td><td>Grass        </td><td>Psychic      </td><td>95           </td><td> 95          </td><td> 85          </td><td>125          </td><td> 65          </td><td> 55          </td><td>1            </td><td>False        </td></tr>\n",
       "\t<tr><td>Tangela      </td><td>Grass        </td><td>             </td><td>65           </td><td> 55          </td><td>115          </td><td>100          </td><td> 40          </td><td> 60          </td><td>1            </td><td>False        </td></tr>\n",
       "\t<tr><td>Chikorita    </td><td>Grass        </td><td>             </td><td>45           </td><td> 49          </td><td> 65          </td><td> 49          </td><td> 65          </td><td> 45          </td><td>2            </td><td>False        </td></tr>\n",
       "\t<tr><td>Bayleef      </td><td>Grass        </td><td>             </td><td>60           </td><td> 62          </td><td> 80          </td><td> 63          </td><td> 80          </td><td> 60          </td><td>2            </td><td>False        </td></tr>\n",
       "\t<tr><td>Meganium     </td><td>Grass        </td><td>             </td><td>80           </td><td> 82          </td><td>100          </td><td> 83          </td><td>100          </td><td> 80          </td><td>2            </td><td>False        </td></tr>\n",
       "\t<tr><td>Bellossom    </td><td>Grass        </td><td>             </td><td>75           </td><td> 80          </td><td> 95          </td><td> 90          </td><td>100          </td><td> 50          </td><td>2            </td><td>False        </td></tr>\n",
       "\t<tr><td>Hoppip       </td><td>Grass        </td><td>Flying       </td><td>35           </td><td> 35          </td><td> 40          </td><td> 35          </td><td> 55          </td><td> 50          </td><td>2            </td><td>False        </td></tr>\n",
       "\t<tr><td>Skiploom     </td><td>Grass        </td><td>Flying       </td><td>55           </td><td> 45          </td><td> 50          </td><td> 45          </td><td> 65          </td><td> 80          </td><td>2            </td><td>False        </td></tr>\n",
       "\t<tr><td>Jumpluff     </td><td>Grass        </td><td>Flying       </td><td>75           </td><td> 55          </td><td> 70          </td><td> 55          </td><td> 95          </td><td>110          </td><td>2            </td><td>False        </td></tr>\n",
       "\t<tr><td>Sunkern      </td><td>Grass        </td><td>             </td><td>30           </td><td> 30          </td><td> 30          </td><td> 30          </td><td> 30          </td><td> 30          </td><td>2            </td><td>False        </td></tr>\n",
       "\t<tr><td>Sunflora     </td><td>Grass        </td><td>             </td><td>75           </td><td> 75          </td><td> 55          </td><td>105          </td><td> 85          </td><td> 30          </td><td>2            </td><td>False        </td></tr>\n",
       "\t<tr><td>Treecko      </td><td>Grass        </td><td>             </td><td>40           </td><td> 45          </td><td> 35          </td><td> 65          </td><td> 55          </td><td> 70          </td><td>3            </td><td>False        </td></tr>\n",
       "\t<tr><td>Grovyle      </td><td>Grass        </td><td>             </td><td>50           </td><td> 65          </td><td> 45          </td><td> 85          </td><td> 65          </td><td> 95          </td><td>3            </td><td>False        </td></tr>\n",
       "\t<tr><td>Sceptile     </td><td>Grass        </td><td>             </td><td>70           </td><td> 85          </td><td> 65          </td><td>105          </td><td> 85          </td><td>120          </td><td>3            </td><td>False        </td></tr>\n",
       "\t<tr><td>Mega Sceptile</td><td>Grass        </td><td>Dragon       </td><td>70           </td><td>110          </td><td> 75          </td><td>145          </td><td> 85          </td><td>145          </td><td>3            </td><td>False        </td></tr>\n",
       "\t<tr><td>Seedot       </td><td>Grass        </td><td>             </td><td>40           </td><td> 40          </td><td> 50          </td><td> 30          </td><td> 30          </td><td> 30          </td><td>3            </td><td>False        </td></tr>\n",
       "\t<tr><td>Nuzleaf      </td><td>Grass        </td><td>Dark         </td><td>70           </td><td> 70          </td><td> 40          </td><td> 60          </td><td> 40          </td><td> 60          </td><td>3            </td><td>False        </td></tr>\n",
       "\t<tr><td>Shiftry      </td><td>Grass        </td><td>Dark         </td><td>90           </td><td>100          </td><td> 60          </td><td> 90          </td><td> 60          </td><td> 80          </td><td>3            </td><td>False        </td></tr>\n",
       "\t<tr><td>Shroomish    </td><td>Grass        </td><td>             </td><td>60           </td><td> 40          </td><td> 60          </td><td> 40          </td><td> 60          </td><td> 35          </td><td>3            </td><td>False        </td></tr>\n",
       "\t<tr><td>...</td><td>...</td><td>...</td><td>...</td><td>...</td><td>...</td><td>...</td><td>...</td><td>...</td><td>...</td><td>...</td></tr>\n",
       "\t<tr><td>Cherubi           </td><td>Grass             </td><td>                  </td><td> 45               </td><td> 35               </td><td> 45               </td><td> 62               </td><td> 53               </td><td> 35               </td><td>4                 </td><td>False             </td></tr>\n",
       "\t<tr><td>Cherrim           </td><td>Grass             </td><td>                  </td><td> 70               </td><td> 60               </td><td> 70               </td><td> 87               </td><td> 78               </td><td> 85               </td><td>4                 </td><td>False             </td></tr>\n",
       "\t<tr><td>Carnivine         </td><td>Grass             </td><td>                  </td><td> 74               </td><td>100               </td><td> 72               </td><td> 90               </td><td> 72               </td><td> 46               </td><td>4                 </td><td>False             </td></tr>\n",
       "\t<tr><td>Snover            </td><td>Grass             </td><td>Ice               </td><td> 60               </td><td> 62               </td><td> 50               </td><td> 62               </td><td> 60               </td><td> 40               </td><td>4                 </td><td>False             </td></tr>\n",
       "\t<tr><td>Abomasnow         </td><td>Grass             </td><td>Ice               </td><td> 90               </td><td> 92               </td><td> 75               </td><td> 92               </td><td> 85               </td><td> 60               </td><td>4                 </td><td>False             </td></tr>\n",
       "\t<tr><td>Mega Abomasnow    </td><td>Grass             </td><td>Ice               </td><td> 90               </td><td>132               </td><td>105               </td><td>132               </td><td>105               </td><td> 30               </td><td>4                 </td><td>False             </td></tr>\n",
       "\t<tr><td>Tangrowth         </td><td>Grass             </td><td>                  </td><td>100               </td><td>100               </td><td>125               </td><td>110               </td><td> 50               </td><td> 50               </td><td>4                 </td><td>False             </td></tr>\n",
       "\t<tr><td>Leafeon           </td><td>Grass             </td><td>                  </td><td> 65               </td><td>110               </td><td>130               </td><td> 60               </td><td> 65               </td><td> 95               </td><td>4                 </td><td>False             </td></tr>\n",
       "\t<tr><td>Shaymin Land Forme</td><td>Grass             </td><td>                  </td><td>100               </td><td>100               </td><td>100               </td><td>100               </td><td>100               </td><td>100               </td><td>4                 </td><td>True              </td></tr>\n",
       "\t<tr><td>Shaymin Sky Forme </td><td>Grass             </td><td>Flying            </td><td>100               </td><td>103               </td><td> 75               </td><td>120               </td><td> 75               </td><td>127               </td><td>4                 </td><td>True              </td></tr>\n",
       "\t<tr><td>Snivy             </td><td>Grass             </td><td>                  </td><td> 45               </td><td> 45               </td><td> 55               </td><td> 45               </td><td> 55               </td><td> 63               </td><td>5                 </td><td>False             </td></tr>\n",
       "\t<tr><td>Servine           </td><td>Grass             </td><td>                  </td><td> 60               </td><td> 60               </td><td> 75               </td><td> 60               </td><td> 75               </td><td> 83               </td><td>5                 </td><td>False             </td></tr>\n",
       "\t<tr><td>Serperior         </td><td>Grass             </td><td>                  </td><td> 75               </td><td> 75               </td><td> 95               </td><td> 75               </td><td> 95               </td><td>113               </td><td>5                 </td><td>False             </td></tr>\n",
       "\t<tr><td>Pansage           </td><td>Grass             </td><td>                  </td><td> 50               </td><td> 53               </td><td> 48               </td><td> 53               </td><td> 48               </td><td> 64               </td><td>5                 </td><td>False             </td></tr>\n",
       "\t<tr><td>Simisage          </td><td>Grass             </td><td>                  </td><td> 75               </td><td> 98               </td><td> 63               </td><td> 98               </td><td> 63               </td><td>101               </td><td>5                 </td><td>False             </td></tr>\n",
       "\t<tr><td>Cottonee          </td><td>Grass             </td><td>Fairy             </td><td> 40               </td><td> 27               </td><td> 60               </td><td> 37               </td><td> 50               </td><td> 66               </td><td>5                 </td><td>False             </td></tr>\n",
       "\t<tr><td>Whimsicott        </td><td>Grass             </td><td>Fairy             </td><td> 60               </td><td> 67               </td><td> 85               </td><td> 77               </td><td> 75               </td><td>116               </td><td>5                 </td><td>False             </td></tr>\n",
       "\t<tr><td>Petilil           </td><td>Grass             </td><td>                  </td><td> 45               </td><td> 35               </td><td> 50               </td><td> 70               </td><td> 50               </td><td> 30               </td><td>5                 </td><td>False             </td></tr>\n",
       "\t<tr><td>Lilligant         </td><td>Grass             </td><td>                  </td><td> 70               </td><td> 60               </td><td> 75               </td><td>110               </td><td> 75               </td><td> 90               </td><td>5                 </td><td>False             </td></tr>\n",
       "\t<tr><td>Maractus          </td><td>Grass             </td><td>                  </td><td> 75               </td><td> 86               </td><td> 67               </td><td>106               </td><td> 67               </td><td> 60               </td><td>5                 </td><td>False             </td></tr>\n",
       "\t<tr><td>Foongus           </td><td>Grass             </td><td>Poison            </td><td> 69               </td><td> 55               </td><td> 45               </td><td> 55               </td><td> 55               </td><td> 15               </td><td>5                 </td><td>False             </td></tr>\n",
       "\t<tr><td>Amoonguss         </td><td>Grass             </td><td>Poison            </td><td>114               </td><td> 85               </td><td> 70               </td><td> 85               </td><td> 80               </td><td> 30               </td><td>5                 </td><td>False             </td></tr>\n",
       "\t<tr><td>Ferroseed         </td><td>Grass             </td><td>Steel             </td><td> 44               </td><td> 50               </td><td> 91               </td><td> 24               </td><td> 86               </td><td> 10               </td><td>5                 </td><td>False             </td></tr>\n",
       "\t<tr><td>Ferrothorn        </td><td>Grass             </td><td>Steel             </td><td> 74               </td><td> 94               </td><td>131               </td><td> 54               </td><td>116               </td><td> 20               </td><td>5                 </td><td>False             </td></tr>\n",
       "\t<tr><td>Virizion          </td><td>Grass             </td><td>Fighting          </td><td> 91               </td><td> 90               </td><td> 72               </td><td> 90               </td><td>129               </td><td>108               </td><td>5                 </td><td>True              </td></tr>\n",
       "\t<tr><td>Chespin           </td><td>Grass             </td><td>                  </td><td> 56               </td><td> 61               </td><td> 65               </td><td> 48               </td><td> 45               </td><td> 38               </td><td>6                 </td><td>False             </td></tr>\n",
       "\t<tr><td>Quilladin         </td><td>Grass             </td><td>                  </td><td> 61               </td><td> 78               </td><td> 95               </td><td> 56               </td><td> 58               </td><td> 57               </td><td>6                 </td><td>False             </td></tr>\n",
       "\t<tr><td>Chesnaught        </td><td>Grass             </td><td>Fighting          </td><td> 88               </td><td>107               </td><td>122               </td><td> 74               </td><td> 75               </td><td> 64               </td><td>6                 </td><td>False             </td></tr>\n",
       "\t<tr><td>Skiddo            </td><td>Grass             </td><td>                  </td><td> 66               </td><td> 65               </td><td> 48               </td><td> 62               </td><td> 57               </td><td> 52               </td><td>6                 </td><td>False             </td></tr>\n",
       "\t<tr><td>Gogoat            </td><td>Grass             </td><td>                  </td><td>123               </td><td>100               </td><td> 62               </td><td> 97               </td><td> 81               </td><td> 68               </td><td>6                 </td><td>False             </td></tr>\n",
       "</tbody>\n",
       "</table>\n"
      ],
      "text/latex": [
       "\\begin{tabular}{r|lllllllllll}\n",
       " Name & Primary\\_Type & Secondary\\_Type & Health\\_Points & Attack & Defense & Special\\_Attack & Special\\_Defence & Speed & Generation & Legendary\\\\\n",
       "\\hline\n",
       "\t Bulbasaur     & Grass         & Poison        & 45            &  49           &  49           &  65           &  65           &  45           & 1             & False        \\\\\n",
       "\t Ivysaur       & Grass         & Poison        & 60            &  62           &  63           &  80           &  80           &  60           & 1             & False        \\\\\n",
       "\t Venusaur      & Grass         & Poison        & 80            &  82           &  83           & 100           & 100           &  80           & 1             & False        \\\\\n",
       "\t Mega Venusaur & Grass         & Poison        & 80            & 100           & 123           & 122           & 120           &  80           & 1             & False        \\\\\n",
       "\t Oddish        & Grass         & Poison        & 45            &  50           &  55           &  75           &  65           &  30           & 1             & False        \\\\\n",
       "\t Gloom         & Grass         & Poison        & 60            &  65           &  70           &  85           &  75           &  40           & 1             & False        \\\\\n",
       "\t Vileplume     & Grass         & Poison        & 75            &  80           &  85           & 110           &  90           &  50           & 1             & False        \\\\\n",
       "\t Bellsprout    & Grass         & Poison        & 50            &  75           &  35           &  70           &  30           &  40           & 1             & False        \\\\\n",
       "\t Weepinbell    & Grass         & Poison        & 65            &  90           &  50           &  85           &  45           &  55           & 1             & False        \\\\\n",
       "\t Victreebel    & Grass         & Poison        & 80            & 105           &  65           & 100           &  70           &  70           & 1             & False        \\\\\n",
       "\t Exeggcute     & Grass         & Psychic       & 60            &  40           &  80           &  60           &  45           &  40           & 1             & False        \\\\\n",
       "\t Exeggutor     & Grass         & Psychic       & 95            &  95           &  85           & 125           &  65           &  55           & 1             & False        \\\\\n",
       "\t Tangela       & Grass         &               & 65            &  55           & 115           & 100           &  40           &  60           & 1             & False        \\\\\n",
       "\t Chikorita     & Grass         &               & 45            &  49           &  65           &  49           &  65           &  45           & 2             & False        \\\\\n",
       "\t Bayleef       & Grass         &               & 60            &  62           &  80           &  63           &  80           &  60           & 2             & False        \\\\\n",
       "\t Meganium      & Grass         &               & 80            &  82           & 100           &  83           & 100           &  80           & 2             & False        \\\\\n",
       "\t Bellossom     & Grass         &               & 75            &  80           &  95           &  90           & 100           &  50           & 2             & False        \\\\\n",
       "\t Hoppip        & Grass         & Flying        & 35            &  35           &  40           &  35           &  55           &  50           & 2             & False        \\\\\n",
       "\t Skiploom      & Grass         & Flying        & 55            &  45           &  50           &  45           &  65           &  80           & 2             & False        \\\\\n",
       "\t Jumpluff      & Grass         & Flying        & 75            &  55           &  70           &  55           &  95           & 110           & 2             & False        \\\\\n",
       "\t Sunkern       & Grass         &               & 30            &  30           &  30           &  30           &  30           &  30           & 2             & False        \\\\\n",
       "\t Sunflora      & Grass         &               & 75            &  75           &  55           & 105           &  85           &  30           & 2             & False        \\\\\n",
       "\t Treecko       & Grass         &               & 40            &  45           &  35           &  65           &  55           &  70           & 3             & False        \\\\\n",
       "\t Grovyle       & Grass         &               & 50            &  65           &  45           &  85           &  65           &  95           & 3             & False        \\\\\n",
       "\t Sceptile      & Grass         &               & 70            &  85           &  65           & 105           &  85           & 120           & 3             & False        \\\\\n",
       "\t Mega Sceptile & Grass         & Dragon        & 70            & 110           &  75           & 145           &  85           & 145           & 3             & False        \\\\\n",
       "\t Seedot        & Grass         &               & 40            &  40           &  50           &  30           &  30           &  30           & 3             & False        \\\\\n",
       "\t Nuzleaf       & Grass         & Dark          & 70            &  70           &  40           &  60           &  40           &  60           & 3             & False        \\\\\n",
       "\t Shiftry       & Grass         & Dark          & 90            & 100           &  60           &  90           &  60           &  80           & 3             & False        \\\\\n",
       "\t Shroomish     & Grass         &               & 60            &  40           &  60           &  40           &  60           &  35           & 3             & False        \\\\\n",
       "\t ... & ... & ... & ... & ... & ... & ... & ... & ... & ... & ...\\\\\n",
       "\t Cherubi            & Grass              &                    &  45                &  35                &  45                &  62                &  53                &  35                & 4                  & False             \\\\\n",
       "\t Cherrim            & Grass              &                    &  70                &  60                &  70                &  87                &  78                &  85                & 4                  & False             \\\\\n",
       "\t Carnivine          & Grass              &                    &  74                & 100                &  72                &  90                &  72                &  46                & 4                  & False             \\\\\n",
       "\t Snover             & Grass              & Ice                &  60                &  62                &  50                &  62                &  60                &  40                & 4                  & False             \\\\\n",
       "\t Abomasnow          & Grass              & Ice                &  90                &  92                &  75                &  92                &  85                &  60                & 4                  & False             \\\\\n",
       "\t Mega Abomasnow     & Grass              & Ice                &  90                & 132                & 105                & 132                & 105                &  30                & 4                  & False             \\\\\n",
       "\t Tangrowth          & Grass              &                    & 100                & 100                & 125                & 110                &  50                &  50                & 4                  & False             \\\\\n",
       "\t Leafeon            & Grass              &                    &  65                & 110                & 130                &  60                &  65                &  95                & 4                  & False             \\\\\n",
       "\t Shaymin Land Forme & Grass              &                    & 100                & 100                & 100                & 100                & 100                & 100                & 4                  & True              \\\\\n",
       "\t Shaymin Sky Forme  & Grass              & Flying             & 100                & 103                &  75                & 120                &  75                & 127                & 4                  & True              \\\\\n",
       "\t Snivy              & Grass              &                    &  45                &  45                &  55                &  45                &  55                &  63                & 5                  & False             \\\\\n",
       "\t Servine            & Grass              &                    &  60                &  60                &  75                &  60                &  75                &  83                & 5                  & False             \\\\\n",
       "\t Serperior          & Grass              &                    &  75                &  75                &  95                &  75                &  95                & 113                & 5                  & False             \\\\\n",
       "\t Pansage            & Grass              &                    &  50                &  53                &  48                &  53                &  48                &  64                & 5                  & False             \\\\\n",
       "\t Simisage           & Grass              &                    &  75                &  98                &  63                &  98                &  63                & 101                & 5                  & False             \\\\\n",
       "\t Cottonee           & Grass              & Fairy              &  40                &  27                &  60                &  37                &  50                &  66                & 5                  & False             \\\\\n",
       "\t Whimsicott         & Grass              & Fairy              &  60                &  67                &  85                &  77                &  75                & 116                & 5                  & False             \\\\\n",
       "\t Petilil            & Grass              &                    &  45                &  35                &  50                &  70                &  50                &  30                & 5                  & False             \\\\\n",
       "\t Lilligant          & Grass              &                    &  70                &  60                &  75                & 110                &  75                &  90                & 5                  & False             \\\\\n",
       "\t Maractus           & Grass              &                    &  75                &  86                &  67                & 106                &  67                &  60                & 5                  & False             \\\\\n",
       "\t Foongus            & Grass              & Poison             &  69                &  55                &  45                &  55                &  55                &  15                & 5                  & False             \\\\\n",
       "\t Amoonguss          & Grass              & Poison             & 114                &  85                &  70                &  85                &  80                &  30                & 5                  & False             \\\\\n",
       "\t Ferroseed          & Grass              & Steel              &  44                &  50                &  91                &  24                &  86                &  10                & 5                  & False             \\\\\n",
       "\t Ferrothorn         & Grass              & Steel              &  74                &  94                & 131                &  54                & 116                &  20                & 5                  & False             \\\\\n",
       "\t Virizion           & Grass              & Fighting           &  91                &  90                &  72                &  90                & 129                & 108                & 5                  & True              \\\\\n",
       "\t Chespin            & Grass              &                    &  56                &  61                &  65                &  48                &  45                &  38                & 6                  & False             \\\\\n",
       "\t Quilladin          & Grass              &                    &  61                &  78                &  95                &  56                &  58                &  57                & 6                  & False             \\\\\n",
       "\t Chesnaught         & Grass              & Fighting           &  88                & 107                & 122                &  74                &  75                &  64                & 6                  & False             \\\\\n",
       "\t Skiddo             & Grass              &                    &  66                &  65                &  48                &  62                &  57                &  52                & 6                  & False             \\\\\n",
       "\t Gogoat             & Grass              &                    & 123                & 100                &  62                &  97                &  81                &  68                & 6                  & False             \\\\\n",
       "\\end{tabular}\n"
      ],
      "text/markdown": [
       "\n",
       "| Name | Primary_Type | Secondary_Type | Health_Points | Attack | Defense | Special_Attack | Special_Defence | Speed | Generation | Legendary |\n",
       "|---|---|---|---|---|---|---|---|---|---|---|\n",
       "| Bulbasaur     | Grass         | Poison        | 45            |  49           |  49           |  65           |  65           |  45           | 1             | False         |\n",
       "| Ivysaur       | Grass         | Poison        | 60            |  62           |  63           |  80           |  80           |  60           | 1             | False         |\n",
       "| Venusaur      | Grass         | Poison        | 80            |  82           |  83           | 100           | 100           |  80           | 1             | False         |\n",
       "| Mega Venusaur | Grass         | Poison        | 80            | 100           | 123           | 122           | 120           |  80           | 1             | False         |\n",
       "| Oddish        | Grass         | Poison        | 45            |  50           |  55           |  75           |  65           |  30           | 1             | False         |\n",
       "| Gloom         | Grass         | Poison        | 60            |  65           |  70           |  85           |  75           |  40           | 1             | False         |\n",
       "| Vileplume     | Grass         | Poison        | 75            |  80           |  85           | 110           |  90           |  50           | 1             | False         |\n",
       "| Bellsprout    | Grass         | Poison        | 50            |  75           |  35           |  70           |  30           |  40           | 1             | False         |\n",
       "| Weepinbell    | Grass         | Poison        | 65            |  90           |  50           |  85           |  45           |  55           | 1             | False         |\n",
       "| Victreebel    | Grass         | Poison        | 80            | 105           |  65           | 100           |  70           |  70           | 1             | False         |\n",
       "| Exeggcute     | Grass         | Psychic       | 60            |  40           |  80           |  60           |  45           |  40           | 1             | False         |\n",
       "| Exeggutor     | Grass         | Psychic       | 95            |  95           |  85           | 125           |  65           |  55           | 1             | False         |\n",
       "| Tangela       | Grass         |               | 65            |  55           | 115           | 100           |  40           |  60           | 1             | False         |\n",
       "| Chikorita     | Grass         |               | 45            |  49           |  65           |  49           |  65           |  45           | 2             | False         |\n",
       "| Bayleef       | Grass         |               | 60            |  62           |  80           |  63           |  80           |  60           | 2             | False         |\n",
       "| Meganium      | Grass         |               | 80            |  82           | 100           |  83           | 100           |  80           | 2             | False         |\n",
       "| Bellossom     | Grass         |               | 75            |  80           |  95           |  90           | 100           |  50           | 2             | False         |\n",
       "| Hoppip        | Grass         | Flying        | 35            |  35           |  40           |  35           |  55           |  50           | 2             | False         |\n",
       "| Skiploom      | Grass         | Flying        | 55            |  45           |  50           |  45           |  65           |  80           | 2             | False         |\n",
       "| Jumpluff      | Grass         | Flying        | 75            |  55           |  70           |  55           |  95           | 110           | 2             | False         |\n",
       "| Sunkern       | Grass         |               | 30            |  30           |  30           |  30           |  30           |  30           | 2             | False         |\n",
       "| Sunflora      | Grass         |               | 75            |  75           |  55           | 105           |  85           |  30           | 2             | False         |\n",
       "| Treecko       | Grass         |               | 40            |  45           |  35           |  65           |  55           |  70           | 3             | False         |\n",
       "| Grovyle       | Grass         |               | 50            |  65           |  45           |  85           |  65           |  95           | 3             | False         |\n",
       "| Sceptile      | Grass         |               | 70            |  85           |  65           | 105           |  85           | 120           | 3             | False         |\n",
       "| Mega Sceptile | Grass         | Dragon        | 70            | 110           |  75           | 145           |  85           | 145           | 3             | False         |\n",
       "| Seedot        | Grass         |               | 40            |  40           |  50           |  30           |  30           |  30           | 3             | False         |\n",
       "| Nuzleaf       | Grass         | Dark          | 70            |  70           |  40           |  60           |  40           |  60           | 3             | False         |\n",
       "| Shiftry       | Grass         | Dark          | 90            | 100           |  60           |  90           |  60           |  80           | 3             | False         |\n",
       "| Shroomish     | Grass         |               | 60            |  40           |  60           |  40           |  60           |  35           | 3             | False         |\n",
       "| ... | ... | ... | ... | ... | ... | ... | ... | ... | ... | ... |\n",
       "| Cherubi            | Grass              |                    |  45                |  35                |  45                |  62                |  53                |  35                | 4                  | False              |\n",
       "| Cherrim            | Grass              |                    |  70                |  60                |  70                |  87                |  78                |  85                | 4                  | False              |\n",
       "| Carnivine          | Grass              |                    |  74                | 100                |  72                |  90                |  72                |  46                | 4                  | False              |\n",
       "| Snover             | Grass              | Ice                |  60                |  62                |  50                |  62                |  60                |  40                | 4                  | False              |\n",
       "| Abomasnow          | Grass              | Ice                |  90                |  92                |  75                |  92                |  85                |  60                | 4                  | False              |\n",
       "| Mega Abomasnow     | Grass              | Ice                |  90                | 132                | 105                | 132                | 105                |  30                | 4                  | False              |\n",
       "| Tangrowth          | Grass              |                    | 100                | 100                | 125                | 110                |  50                |  50                | 4                  | False              |\n",
       "| Leafeon            | Grass              |                    |  65                | 110                | 130                |  60                |  65                |  95                | 4                  | False              |\n",
       "| Shaymin Land Forme | Grass              |                    | 100                | 100                | 100                | 100                | 100                | 100                | 4                  | True               |\n",
       "| Shaymin Sky Forme  | Grass              | Flying             | 100                | 103                |  75                | 120                |  75                | 127                | 4                  | True               |\n",
       "| Snivy              | Grass              |                    |  45                |  45                |  55                |  45                |  55                |  63                | 5                  | False              |\n",
       "| Servine            | Grass              |                    |  60                |  60                |  75                |  60                |  75                |  83                | 5                  | False              |\n",
       "| Serperior          | Grass              |                    |  75                |  75                |  95                |  75                |  95                | 113                | 5                  | False              |\n",
       "| Pansage            | Grass              |                    |  50                |  53                |  48                |  53                |  48                |  64                | 5                  | False              |\n",
       "| Simisage           | Grass              |                    |  75                |  98                |  63                |  98                |  63                | 101                | 5                  | False              |\n",
       "| Cottonee           | Grass              | Fairy              |  40                |  27                |  60                |  37                |  50                |  66                | 5                  | False              |\n",
       "| Whimsicott         | Grass              | Fairy              |  60                |  67                |  85                |  77                |  75                | 116                | 5                  | False              |\n",
       "| Petilil            | Grass              |                    |  45                |  35                |  50                |  70                |  50                |  30                | 5                  | False              |\n",
       "| Lilligant          | Grass              |                    |  70                |  60                |  75                | 110                |  75                |  90                | 5                  | False              |\n",
       "| Maractus           | Grass              |                    |  75                |  86                |  67                | 106                |  67                |  60                | 5                  | False              |\n",
       "| Foongus            | Grass              | Poison             |  69                |  55                |  45                |  55                |  55                |  15                | 5                  | False              |\n",
       "| Amoonguss          | Grass              | Poison             | 114                |  85                |  70                |  85                |  80                |  30                | 5                  | False              |\n",
       "| Ferroseed          | Grass              | Steel              |  44                |  50                |  91                |  24                |  86                |  10                | 5                  | False              |\n",
       "| Ferrothorn         | Grass              | Steel              |  74                |  94                | 131                |  54                | 116                |  20                | 5                  | False              |\n",
       "| Virizion           | Grass              | Fighting           |  91                |  90                |  72                |  90                | 129                | 108                | 5                  | True               |\n",
       "| Chespin            | Grass              |                    |  56                |  61                |  65                |  48                |  45                |  38                | 6                  | False              |\n",
       "| Quilladin          | Grass              |                    |  61                |  78                |  95                |  56                |  58                |  57                | 6                  | False              |\n",
       "| Chesnaught         | Grass              | Fighting           |  88                | 107                | 122                |  74                |  75                |  64                | 6                  | False              |\n",
       "| Skiddo             | Grass              |                    |  66                |  65                |  48                |  62                |  57                |  52                | 6                  | False              |\n",
       "| Gogoat             | Grass              |                    | 123                | 100                |  62                |  97                |  81                |  68                | 6                  | False              |\n",
       "\n"
      ],
      "text/plain": [
       "    Name               Primary_Type Secondary_Type Health_Points Attack Defense\n",
       "1   Bulbasaur          Grass        Poison         45             49     49    \n",
       "2   Ivysaur            Grass        Poison         60             62     63    \n",
       "3   Venusaur           Grass        Poison         80             82     83    \n",
       "4   Mega Venusaur      Grass        Poison         80            100    123    \n",
       "5   Oddish             Grass        Poison         45             50     55    \n",
       "6   Gloom              Grass        Poison         60             65     70    \n",
       "7   Vileplume          Grass        Poison         75             80     85    \n",
       "8   Bellsprout         Grass        Poison         50             75     35    \n",
       "9   Weepinbell         Grass        Poison         65             90     50    \n",
       "10  Victreebel         Grass        Poison         80            105     65    \n",
       "11  Exeggcute          Grass        Psychic        60             40     80    \n",
       "12  Exeggutor          Grass        Psychic        95             95     85    \n",
       "13  Tangela            Grass                       65             55    115    \n",
       "14  Chikorita          Grass                       45             49     65    \n",
       "15  Bayleef            Grass                       60             62     80    \n",
       "16  Meganium           Grass                       80             82    100    \n",
       "17  Bellossom          Grass                       75             80     95    \n",
       "18  Hoppip             Grass        Flying         35             35     40    \n",
       "19  Skiploom           Grass        Flying         55             45     50    \n",
       "20  Jumpluff           Grass        Flying         75             55     70    \n",
       "21  Sunkern            Grass                       30             30     30    \n",
       "22  Sunflora           Grass                       75             75     55    \n",
       "23  Treecko            Grass                       40             45     35    \n",
       "24  Grovyle            Grass                       50             65     45    \n",
       "25  Sceptile           Grass                       70             85     65    \n",
       "26  Mega Sceptile      Grass        Dragon         70            110     75    \n",
       "27  Seedot             Grass                       40             40     50    \n",
       "28  Nuzleaf            Grass        Dark           70             70     40    \n",
       "29  Shiftry            Grass        Dark           90            100     60    \n",
       "30  Shroomish          Grass                       60             40     60    \n",
       "... ...                ...          ...            ...           ...    ...    \n",
       "41  Cherubi            Grass                        45            35     45    \n",
       "42  Cherrim            Grass                        70            60     70    \n",
       "43  Carnivine          Grass                        74           100     72    \n",
       "44  Snover             Grass        Ice             60            62     50    \n",
       "45  Abomasnow          Grass        Ice             90            92     75    \n",
       "46  Mega Abomasnow     Grass        Ice             90           132    105    \n",
       "47  Tangrowth          Grass                       100           100    125    \n",
       "48  Leafeon            Grass                        65           110    130    \n",
       "49  Shaymin Land Forme Grass                       100           100    100    \n",
       "50  Shaymin Sky Forme  Grass        Flying         100           103     75    \n",
       "51  Snivy              Grass                        45            45     55    \n",
       "52  Servine            Grass                        60            60     75    \n",
       "53  Serperior          Grass                        75            75     95    \n",
       "54  Pansage            Grass                        50            53     48    \n",
       "55  Simisage           Grass                        75            98     63    \n",
       "56  Cottonee           Grass        Fairy           40            27     60    \n",
       "57  Whimsicott         Grass        Fairy           60            67     85    \n",
       "58  Petilil            Grass                        45            35     50    \n",
       "59  Lilligant          Grass                        70            60     75    \n",
       "60  Maractus           Grass                        75            86     67    \n",
       "61  Foongus            Grass        Poison          69            55     45    \n",
       "62  Amoonguss          Grass        Poison         114            85     70    \n",
       "63  Ferroseed          Grass        Steel           44            50     91    \n",
       "64  Ferrothorn         Grass        Steel           74            94    131    \n",
       "65  Virizion           Grass        Fighting        91            90     72    \n",
       "66  Chespin            Grass                        56            61     65    \n",
       "67  Quilladin          Grass                        61            78     95    \n",
       "68  Chesnaught         Grass        Fighting        88           107    122    \n",
       "69  Skiddo             Grass                        66            65     48    \n",
       "70  Gogoat             Grass                       123           100     62    \n",
       "    Special_Attack Special_Defence Speed Generation Legendary\n",
       "1    65             65              45   1          False    \n",
       "2    80             80              60   1          False    \n",
       "3   100            100              80   1          False    \n",
       "4   122            120              80   1          False    \n",
       "5    75             65              30   1          False    \n",
       "6    85             75              40   1          False    \n",
       "7   110             90              50   1          False    \n",
       "8    70             30              40   1          False    \n",
       "9    85             45              55   1          False    \n",
       "10  100             70              70   1          False    \n",
       "11   60             45              40   1          False    \n",
       "12  125             65              55   1          False    \n",
       "13  100             40              60   1          False    \n",
       "14   49             65              45   2          False    \n",
       "15   63             80              60   2          False    \n",
       "16   83            100              80   2          False    \n",
       "17   90            100              50   2          False    \n",
       "18   35             55              50   2          False    \n",
       "19   45             65              80   2          False    \n",
       "20   55             95             110   2          False    \n",
       "21   30             30              30   2          False    \n",
       "22  105             85              30   2          False    \n",
       "23   65             55              70   3          False    \n",
       "24   85             65              95   3          False    \n",
       "25  105             85             120   3          False    \n",
       "26  145             85             145   3          False    \n",
       "27   30             30              30   3          False    \n",
       "28   60             40              60   3          False    \n",
       "29   90             60              80   3          False    \n",
       "30   40             60              35   3          False    \n",
       "... ...            ...             ...   ...        ...      \n",
       "41   62             53              35   4          False    \n",
       "42   87             78              85   4          False    \n",
       "43   90             72              46   4          False    \n",
       "44   62             60              40   4          False    \n",
       "45   92             85              60   4          False    \n",
       "46  132            105              30   4          False    \n",
       "47  110             50              50   4          False    \n",
       "48   60             65              95   4          False    \n",
       "49  100            100             100   4          True     \n",
       "50  120             75             127   4          True     \n",
       "51   45             55              63   5          False    \n",
       "52   60             75              83   5          False    \n",
       "53   75             95             113   5          False    \n",
       "54   53             48              64   5          False    \n",
       "55   98             63             101   5          False    \n",
       "56   37             50              66   5          False    \n",
       "57   77             75             116   5          False    \n",
       "58   70             50              30   5          False    \n",
       "59  110             75              90   5          False    \n",
       "60  106             67              60   5          False    \n",
       "61   55             55              15   5          False    \n",
       "62   85             80              30   5          False    \n",
       "63   24             86              10   5          False    \n",
       "64   54            116              20   5          False    \n",
       "65   90            129             108   5          True     \n",
       "66   48             45              38   6          False    \n",
       "67   56             58              57   6          False    \n",
       "68   74             75              64   6          False    \n",
       "69   62             57              52   6          False    \n",
       "70   97             81              68   6          False    "
      ]
     },
     "metadata": {},
     "output_type": "display_data"
    }
   ],
   "source": [
    "Grass_pokemon"
   ]
  },
  {
   "cell_type": "code",
   "execution_count": 15,
   "metadata": {},
   "outputs": [
    {
     "data": {
      "text/html": [
       "70"
      ],
      "text/latex": [
       "70"
      ],
      "text/markdown": [
       "70"
      ],
      "text/plain": [
       "[1] 70"
      ]
     },
     "metadata": {},
     "output_type": "display_data"
    }
   ],
   "source": [
    "nrow(Grass_pokemon)"
   ]
  },
  {
   "cell_type": "code",
   "execution_count": 16,
   "metadata": {},
   "outputs": [],
   "source": [
    "Grass_Poison_pokemon <- Grass_pokemon %>% filter(Secondary_Type==\"Poison\")"
   ]
  },
  {
   "cell_type": "code",
   "execution_count": 17,
   "metadata": {},
   "outputs": [
    {
     "data": {
      "text/html": [
       "<table>\n",
       "<thead><tr><th scope=col>Name</th><th scope=col>Primary_Type</th><th scope=col>Secondary_Type</th><th scope=col>Health_Points</th><th scope=col>Attack</th><th scope=col>Defense</th><th scope=col>Special_Attack</th><th scope=col>Special_Defence</th><th scope=col>Speed</th><th scope=col>Generation</th><th scope=col>Legendary</th></tr></thead>\n",
       "<tbody>\n",
       "\t<tr><td>Bulbasaur    </td><td>Grass        </td><td>Poison       </td><td> 45          </td><td> 49          </td><td> 49          </td><td> 65          </td><td> 65          </td><td>45           </td><td>1            </td><td>False        </td></tr>\n",
       "\t<tr><td>Ivysaur      </td><td>Grass        </td><td>Poison       </td><td> 60          </td><td> 62          </td><td> 63          </td><td> 80          </td><td> 80          </td><td>60           </td><td>1            </td><td>False        </td></tr>\n",
       "\t<tr><td>Venusaur     </td><td>Grass        </td><td>Poison       </td><td> 80          </td><td> 82          </td><td> 83          </td><td>100          </td><td>100          </td><td>80           </td><td>1            </td><td>False        </td></tr>\n",
       "\t<tr><td>Mega Venusaur</td><td>Grass        </td><td>Poison       </td><td> 80          </td><td>100          </td><td>123          </td><td>122          </td><td>120          </td><td>80           </td><td>1            </td><td>False        </td></tr>\n",
       "\t<tr><td>Oddish       </td><td>Grass        </td><td>Poison       </td><td> 45          </td><td> 50          </td><td> 55          </td><td> 75          </td><td> 65          </td><td>30           </td><td>1            </td><td>False        </td></tr>\n",
       "\t<tr><td>Gloom        </td><td>Grass        </td><td>Poison       </td><td> 60          </td><td> 65          </td><td> 70          </td><td> 85          </td><td> 75          </td><td>40           </td><td>1            </td><td>False        </td></tr>\n",
       "\t<tr><td>Vileplume    </td><td>Grass        </td><td>Poison       </td><td> 75          </td><td> 80          </td><td> 85          </td><td>110          </td><td> 90          </td><td>50           </td><td>1            </td><td>False        </td></tr>\n",
       "\t<tr><td>Bellsprout   </td><td>Grass        </td><td>Poison       </td><td> 50          </td><td> 75          </td><td> 35          </td><td> 70          </td><td> 30          </td><td>40           </td><td>1            </td><td>False        </td></tr>\n",
       "\t<tr><td>Weepinbell   </td><td>Grass        </td><td>Poison       </td><td> 65          </td><td> 90          </td><td> 50          </td><td> 85          </td><td> 45          </td><td>55           </td><td>1            </td><td>False        </td></tr>\n",
       "\t<tr><td>Victreebel   </td><td>Grass        </td><td>Poison       </td><td> 80          </td><td>105          </td><td> 65          </td><td>100          </td><td> 70          </td><td>70           </td><td>1            </td><td>False        </td></tr>\n",
       "\t<tr><td>Roselia      </td><td>Grass        </td><td>Poison       </td><td> 50          </td><td> 60          </td><td> 45          </td><td>100          </td><td> 80          </td><td>65           </td><td>3            </td><td>False        </td></tr>\n",
       "\t<tr><td>Budew        </td><td>Grass        </td><td>Poison       </td><td> 40          </td><td> 30          </td><td> 35          </td><td> 50          </td><td> 70          </td><td>55           </td><td>4            </td><td>False        </td></tr>\n",
       "\t<tr><td>Roserade     </td><td>Grass        </td><td>Poison       </td><td> 60          </td><td> 70          </td><td> 65          </td><td>125          </td><td>105          </td><td>90           </td><td>4            </td><td>False        </td></tr>\n",
       "\t<tr><td>Foongus      </td><td>Grass        </td><td>Poison       </td><td> 69          </td><td> 55          </td><td> 45          </td><td> 55          </td><td> 55          </td><td>15           </td><td>5            </td><td>False        </td></tr>\n",
       "\t<tr><td>Amoonguss    </td><td>Grass        </td><td>Poison       </td><td>114          </td><td> 85          </td><td> 70          </td><td> 85          </td><td> 80          </td><td>30           </td><td>5            </td><td>False        </td></tr>\n",
       "</tbody>\n",
       "</table>\n"
      ],
      "text/latex": [
       "\\begin{tabular}{r|lllllllllll}\n",
       " Name & Primary\\_Type & Secondary\\_Type & Health\\_Points & Attack & Defense & Special\\_Attack & Special\\_Defence & Speed & Generation & Legendary\\\\\n",
       "\\hline\n",
       "\t Bulbasaur     & Grass         & Poison        &  45           &  49           &  49           &  65           &  65           & 45            & 1             & False        \\\\\n",
       "\t Ivysaur       & Grass         & Poison        &  60           &  62           &  63           &  80           &  80           & 60            & 1             & False        \\\\\n",
       "\t Venusaur      & Grass         & Poison        &  80           &  82           &  83           & 100           & 100           & 80            & 1             & False        \\\\\n",
       "\t Mega Venusaur & Grass         & Poison        &  80           & 100           & 123           & 122           & 120           & 80            & 1             & False        \\\\\n",
       "\t Oddish        & Grass         & Poison        &  45           &  50           &  55           &  75           &  65           & 30            & 1             & False        \\\\\n",
       "\t Gloom         & Grass         & Poison        &  60           &  65           &  70           &  85           &  75           & 40            & 1             & False        \\\\\n",
       "\t Vileplume     & Grass         & Poison        &  75           &  80           &  85           & 110           &  90           & 50            & 1             & False        \\\\\n",
       "\t Bellsprout    & Grass         & Poison        &  50           &  75           &  35           &  70           &  30           & 40            & 1             & False        \\\\\n",
       "\t Weepinbell    & Grass         & Poison        &  65           &  90           &  50           &  85           &  45           & 55            & 1             & False        \\\\\n",
       "\t Victreebel    & Grass         & Poison        &  80           & 105           &  65           & 100           &  70           & 70            & 1             & False        \\\\\n",
       "\t Roselia       & Grass         & Poison        &  50           &  60           &  45           & 100           &  80           & 65            & 3             & False        \\\\\n",
       "\t Budew         & Grass         & Poison        &  40           &  30           &  35           &  50           &  70           & 55            & 4             & False        \\\\\n",
       "\t Roserade      & Grass         & Poison        &  60           &  70           &  65           & 125           & 105           & 90            & 4             & False        \\\\\n",
       "\t Foongus       & Grass         & Poison        &  69           &  55           &  45           &  55           &  55           & 15            & 5             & False        \\\\\n",
       "\t Amoonguss     & Grass         & Poison        & 114           &  85           &  70           &  85           &  80           & 30            & 5             & False        \\\\\n",
       "\\end{tabular}\n"
      ],
      "text/markdown": [
       "\n",
       "| Name | Primary_Type | Secondary_Type | Health_Points | Attack | Defense | Special_Attack | Special_Defence | Speed | Generation | Legendary |\n",
       "|---|---|---|---|---|---|---|---|---|---|---|\n",
       "| Bulbasaur     | Grass         | Poison        |  45           |  49           |  49           |  65           |  65           | 45            | 1             | False         |\n",
       "| Ivysaur       | Grass         | Poison        |  60           |  62           |  63           |  80           |  80           | 60            | 1             | False         |\n",
       "| Venusaur      | Grass         | Poison        |  80           |  82           |  83           | 100           | 100           | 80            | 1             | False         |\n",
       "| Mega Venusaur | Grass         | Poison        |  80           | 100           | 123           | 122           | 120           | 80            | 1             | False         |\n",
       "| Oddish        | Grass         | Poison        |  45           |  50           |  55           |  75           |  65           | 30            | 1             | False         |\n",
       "| Gloom         | Grass         | Poison        |  60           |  65           |  70           |  85           |  75           | 40            | 1             | False         |\n",
       "| Vileplume     | Grass         | Poison        |  75           |  80           |  85           | 110           |  90           | 50            | 1             | False         |\n",
       "| Bellsprout    | Grass         | Poison        |  50           |  75           |  35           |  70           |  30           | 40            | 1             | False         |\n",
       "| Weepinbell    | Grass         | Poison        |  65           |  90           |  50           |  85           |  45           | 55            | 1             | False         |\n",
       "| Victreebel    | Grass         | Poison        |  80           | 105           |  65           | 100           |  70           | 70            | 1             | False         |\n",
       "| Roselia       | Grass         | Poison        |  50           |  60           |  45           | 100           |  80           | 65            | 3             | False         |\n",
       "| Budew         | Grass         | Poison        |  40           |  30           |  35           |  50           |  70           | 55            | 4             | False         |\n",
       "| Roserade      | Grass         | Poison        |  60           |  70           |  65           | 125           | 105           | 90            | 4             | False         |\n",
       "| Foongus       | Grass         | Poison        |  69           |  55           |  45           |  55           |  55           | 15            | 5             | False         |\n",
       "| Amoonguss     | Grass         | Poison        | 114           |  85           |  70           |  85           |  80           | 30            | 5             | False         |\n",
       "\n"
      ],
      "text/plain": [
       "   Name          Primary_Type Secondary_Type Health_Points Attack Defense\n",
       "1  Bulbasaur     Grass        Poison          45            49     49    \n",
       "2  Ivysaur       Grass        Poison          60            62     63    \n",
       "3  Venusaur      Grass        Poison          80            82     83    \n",
       "4  Mega Venusaur Grass        Poison          80           100    123    \n",
       "5  Oddish        Grass        Poison          45            50     55    \n",
       "6  Gloom         Grass        Poison          60            65     70    \n",
       "7  Vileplume     Grass        Poison          75            80     85    \n",
       "8  Bellsprout    Grass        Poison          50            75     35    \n",
       "9  Weepinbell    Grass        Poison          65            90     50    \n",
       "10 Victreebel    Grass        Poison          80           105     65    \n",
       "11 Roselia       Grass        Poison          50            60     45    \n",
       "12 Budew         Grass        Poison          40            30     35    \n",
       "13 Roserade      Grass        Poison          60            70     65    \n",
       "14 Foongus       Grass        Poison          69            55     45    \n",
       "15 Amoonguss     Grass        Poison         114            85     70    \n",
       "   Special_Attack Special_Defence Speed Generation Legendary\n",
       "1   65             65             45    1          False    \n",
       "2   80             80             60    1          False    \n",
       "3  100            100             80    1          False    \n",
       "4  122            120             80    1          False    \n",
       "5   75             65             30    1          False    \n",
       "6   85             75             40    1          False    \n",
       "7  110             90             50    1          False    \n",
       "8   70             30             40    1          False    \n",
       "9   85             45             55    1          False    \n",
       "10 100             70             70    1          False    \n",
       "11 100             80             65    3          False    \n",
       "12  50             70             55    4          False    \n",
       "13 125            105             90    4          False    \n",
       "14  55             55             15    5          False    \n",
       "15  85             80             30    5          False    "
      ]
     },
     "metadata": {},
     "output_type": "display_data"
    }
   ],
   "source": [
    "Grass_Poison_pokemon"
   ]
  },
  {
   "cell_type": "code",
   "execution_count": 18,
   "metadata": {},
   "outputs": [
    {
     "data": {
      "text/html": [
       "15"
      ],
      "text/latex": [
       "15"
      ],
      "text/markdown": [
       "15"
      ],
      "text/plain": [
       "[1] 15"
      ]
     },
     "metadata": {},
     "output_type": "display_data"
    }
   ],
   "source": [
    "nrow(Grass_Poison_pokemon)"
   ]
  },
  {
   "cell_type": "code",
   "execution_count": 19,
   "metadata": {},
   "outputs": [
    {
     "data": {
      "text/html": [
       "<ol class=list-inline>\n",
       "\t<li>15</li>\n",
       "\t<li>90</li>\n",
       "</ol>\n"
      ],
      "text/latex": [
       "\\begin{enumerate*}\n",
       "\\item 15\n",
       "\\item 90\n",
       "\\end{enumerate*}\n"
      ],
      "text/markdown": [
       "1. 15\n",
       "2. 90\n",
       "\n",
       "\n"
      ],
      "text/plain": [
       "[1] 15 90"
      ]
     },
     "metadata": {},
     "output_type": "display_data"
    }
   ],
   "source": [
    "range(Grass_Poison_pokemon$Speed)"
   ]
  },
  {
   "cell_type": "markdown",
   "metadata": {},
   "source": [
    "So there is one pokemon having the maximum speed as 90. we will select that pokemon."
   ]
  },
  {
   "cell_type": "code",
   "execution_count": 20,
   "metadata": {},
   "outputs": [],
   "source": [
    "My_Grass_Pokemon <- Grass_Poison_pokemon %>% filter(Speed==90)"
   ]
  },
  {
   "cell_type": "code",
   "execution_count": 21,
   "metadata": {},
   "outputs": [
    {
     "data": {
      "text/html": [
       "<table>\n",
       "<thead><tr><th scope=col>Name</th><th scope=col>Primary_Type</th><th scope=col>Secondary_Type</th><th scope=col>Health_Points</th><th scope=col>Attack</th><th scope=col>Defense</th><th scope=col>Special_Attack</th><th scope=col>Special_Defence</th><th scope=col>Speed</th><th scope=col>Generation</th><th scope=col>Legendary</th></tr></thead>\n",
       "<tbody>\n",
       "\t<tr><td>Roserade</td><td>Grass   </td><td>Poison  </td><td>60      </td><td>70      </td><td>65      </td><td>125     </td><td>105     </td><td>90      </td><td>4       </td><td>False   </td></tr>\n",
       "</tbody>\n",
       "</table>\n"
      ],
      "text/latex": [
       "\\begin{tabular}{r|lllllllllll}\n",
       " Name & Primary\\_Type & Secondary\\_Type & Health\\_Points & Attack & Defense & Special\\_Attack & Special\\_Defence & Speed & Generation & Legendary\\\\\n",
       "\\hline\n",
       "\t Roserade & Grass    & Poison   & 60       & 70       & 65       & 125      & 105      & 90       & 4        & False   \\\\\n",
       "\\end{tabular}\n"
      ],
      "text/markdown": [
       "\n",
       "| Name | Primary_Type | Secondary_Type | Health_Points | Attack | Defense | Special_Attack | Special_Defence | Speed | Generation | Legendary |\n",
       "|---|---|---|---|---|---|---|---|---|---|---|\n",
       "| Roserade | Grass    | Poison   | 60       | 70       | 65       | 125      | 105      | 90       | 4        | False    |\n",
       "\n"
      ],
      "text/plain": [
       "  Name     Primary_Type Secondary_Type Health_Points Attack Defense\n",
       "1 Roserade Grass        Poison         60            70     65     \n",
       "  Special_Attack Special_Defence Speed Generation Legendary\n",
       "1 125            105             90    4          False    "
      ]
     },
     "metadata": {},
     "output_type": "display_data"
    }
   ],
   "source": [
    "My_Grass_Pokemon"
   ]
  },
  {
   "cell_type": "markdown",
   "metadata": {},
   "source": [
    "Here we selected our Grass Pokemon that is Roserade."
   ]
  },
  {
   "cell_type": "markdown",
   "metadata": {},
   "source": [
    "__Now we will select our Water Pokemon__"
   ]
  },
  {
   "cell_type": "code",
   "execution_count": 22,
   "metadata": {},
   "outputs": [],
   "source": [
    "Water_pokemon <- pokemon %>% filter(Primary_Type==\"Water\")"
   ]
  },
  {
   "cell_type": "code",
   "execution_count": 23,
   "metadata": {},
   "outputs": [
    {
     "data": {
      "text/html": [
       "<table>\n",
       "<thead><tr><th scope=col>Name</th><th scope=col>Primary_Type</th><th scope=col>Secondary_Type</th><th scope=col>Health_Points</th><th scope=col>Attack</th><th scope=col>Defense</th><th scope=col>Special_Attack</th><th scope=col>Special_Defence</th><th scope=col>Speed</th><th scope=col>Generation</th><th scope=col>Legendary</th></tr></thead>\n",
       "<tbody>\n",
       "\t<tr><td>Squirtle      </td><td>Water         </td><td>              </td><td> 44           </td><td> 48           </td><td> 65           </td><td> 50           </td><td> 64           </td><td> 43           </td><td>1             </td><td>False         </td></tr>\n",
       "\t<tr><td>Wartortle     </td><td>Water         </td><td>              </td><td> 59           </td><td> 63           </td><td> 80           </td><td> 65           </td><td> 80           </td><td> 58           </td><td>1             </td><td>False         </td></tr>\n",
       "\t<tr><td>Blastoise     </td><td>Water         </td><td>              </td><td> 79           </td><td> 83           </td><td>100           </td><td> 85           </td><td>105           </td><td> 78           </td><td>1             </td><td>False         </td></tr>\n",
       "\t<tr><td>Mega Blastoise</td><td>Water         </td><td>              </td><td> 79           </td><td>103           </td><td>120           </td><td>135           </td><td>115           </td><td> 78           </td><td>1             </td><td>False         </td></tr>\n",
       "\t<tr><td>Psyduck       </td><td>Water         </td><td>              </td><td> 50           </td><td> 52           </td><td> 48           </td><td> 65           </td><td> 50           </td><td> 55           </td><td>1             </td><td>False         </td></tr>\n",
       "\t<tr><td>Golduck       </td><td>Water         </td><td>              </td><td> 80           </td><td> 82           </td><td> 78           </td><td> 95           </td><td> 80           </td><td> 85           </td><td>1             </td><td>False         </td></tr>\n",
       "\t<tr><td>Poliwag       </td><td>Water         </td><td>              </td><td> 40           </td><td> 50           </td><td> 40           </td><td> 40           </td><td> 40           </td><td> 90           </td><td>1             </td><td>False         </td></tr>\n",
       "\t<tr><td>Poliwhirl     </td><td>Water         </td><td>              </td><td> 65           </td><td> 65           </td><td> 65           </td><td> 50           </td><td> 50           </td><td> 90           </td><td>1             </td><td>False         </td></tr>\n",
       "\t<tr><td>Poliwrath     </td><td>Water         </td><td>Fighting      </td><td> 90           </td><td> 95           </td><td> 95           </td><td> 70           </td><td> 90           </td><td> 70           </td><td>1             </td><td>False         </td></tr>\n",
       "\t<tr><td>Tentacool     </td><td>Water         </td><td>Poison        </td><td> 40           </td><td> 40           </td><td> 35           </td><td> 50           </td><td>100           </td><td> 70           </td><td>1             </td><td>False         </td></tr>\n",
       "\t<tr><td>Tentacruel    </td><td>Water         </td><td>Poison        </td><td> 80           </td><td> 70           </td><td> 65           </td><td> 80           </td><td>120           </td><td>100           </td><td>1             </td><td>False         </td></tr>\n",
       "\t<tr><td>Slowpoke      </td><td>Water         </td><td>Psychic       </td><td> 90           </td><td> 65           </td><td> 65           </td><td> 40           </td><td> 40           </td><td> 15           </td><td>1             </td><td>False         </td></tr>\n",
       "\t<tr><td>Slowbro       </td><td>Water         </td><td>Psychic       </td><td> 95           </td><td> 75           </td><td>110           </td><td>100           </td><td> 80           </td><td> 30           </td><td>1             </td><td>False         </td></tr>\n",
       "\t<tr><td>Mega Slowbro  </td><td>Water         </td><td>Psychic       </td><td> 95           </td><td> 75           </td><td>180           </td><td>130           </td><td> 80           </td><td> 30           </td><td>1             </td><td>False         </td></tr>\n",
       "\t<tr><td>Seel          </td><td>Water         </td><td>              </td><td> 65           </td><td> 45           </td><td> 55           </td><td> 45           </td><td> 70           </td><td> 45           </td><td>1             </td><td>False         </td></tr>\n",
       "\t<tr><td>Dewgong       </td><td>Water         </td><td>Ice           </td><td> 90           </td><td> 70           </td><td> 80           </td><td> 70           </td><td> 95           </td><td> 70           </td><td>1             </td><td>False         </td></tr>\n",
       "\t<tr><td>Shellder      </td><td>Water         </td><td>              </td><td> 30           </td><td> 65           </td><td>100           </td><td> 45           </td><td> 25           </td><td> 40           </td><td>1             </td><td>False         </td></tr>\n",
       "\t<tr><td>Cloyster      </td><td>Water         </td><td>Ice           </td><td> 50           </td><td> 95           </td><td>180           </td><td> 85           </td><td> 45           </td><td> 70           </td><td>1             </td><td>False         </td></tr>\n",
       "\t<tr><td>Krabby        </td><td>Water         </td><td>              </td><td> 30           </td><td>105           </td><td> 90           </td><td> 25           </td><td> 25           </td><td> 50           </td><td>1             </td><td>False         </td></tr>\n",
       "\t<tr><td>Kingler       </td><td>Water         </td><td>              </td><td> 55           </td><td>130           </td><td>115           </td><td> 50           </td><td> 50           </td><td> 75           </td><td>1             </td><td>False         </td></tr>\n",
       "\t<tr><td>Horsea        </td><td>Water         </td><td>              </td><td> 30           </td><td> 40           </td><td> 70           </td><td> 70           </td><td> 25           </td><td> 60           </td><td>1             </td><td>False         </td></tr>\n",
       "\t<tr><td>Seadra        </td><td>Water         </td><td>              </td><td> 55           </td><td> 65           </td><td> 95           </td><td> 95           </td><td> 45           </td><td> 85           </td><td>1             </td><td>False         </td></tr>\n",
       "\t<tr><td>Goldeen       </td><td>Water         </td><td>              </td><td> 45           </td><td> 67           </td><td> 60           </td><td> 35           </td><td> 50           </td><td> 63           </td><td>1             </td><td>False         </td></tr>\n",
       "\t<tr><td>Seaking       </td><td>Water         </td><td>              </td><td> 80           </td><td> 92           </td><td> 65           </td><td> 65           </td><td> 80           </td><td> 68           </td><td>1             </td><td>False         </td></tr>\n",
       "\t<tr><td>Staryu        </td><td>Water         </td><td>              </td><td> 30           </td><td> 45           </td><td> 55           </td><td> 70           </td><td> 55           </td><td> 85           </td><td>1             </td><td>False         </td></tr>\n",
       "\t<tr><td>Starmie       </td><td>Water         </td><td>Psychic       </td><td> 60           </td><td> 75           </td><td> 85           </td><td>100           </td><td> 85           </td><td>115           </td><td>1             </td><td>False         </td></tr>\n",
       "\t<tr><td>Magikarp      </td><td>Water         </td><td>              </td><td> 20           </td><td> 10           </td><td> 55           </td><td> 15           </td><td> 20           </td><td> 80           </td><td>1             </td><td>False         </td></tr>\n",
       "\t<tr><td>Gyarados      </td><td>Water         </td><td>Flying        </td><td> 95           </td><td>125           </td><td> 79           </td><td> 60           </td><td>100           </td><td> 81           </td><td>1             </td><td>False         </td></tr>\n",
       "\t<tr><td>Mega Gyarados </td><td>Water         </td><td>Dark          </td><td> 95           </td><td>155           </td><td>109           </td><td> 70           </td><td>130           </td><td> 81           </td><td>1             </td><td>False         </td></tr>\n",
       "\t<tr><td>Lapras        </td><td>Water         </td><td>Ice           </td><td>130           </td><td> 85           </td><td> 80           </td><td> 85           </td><td> 95           </td><td> 60           </td><td>1             </td><td>False         </td></tr>\n",
       "\t<tr><td>...</td><td>...</td><td>...</td><td>...</td><td>...</td><td>...</td><td>...</td><td>...</td><td>...</td><td>...</td><td>...</td></tr>\n",
       "\t<tr><td>Gastrodon            </td><td>Water                </td><td>Ground               </td><td>111                  </td><td> 83                  </td><td> 68                  </td><td> 92                  </td><td> 82                  </td><td> 39                  </td><td>4                    </td><td>False                </td></tr>\n",
       "\t<tr><td>Finneon              </td><td>Water                </td><td>                     </td><td> 49                  </td><td> 49                  </td><td> 56                  </td><td> 49                  </td><td> 61                  </td><td> 66                  </td><td>4                    </td><td>False                </td></tr>\n",
       "\t<tr><td>Lumineon             </td><td>Water                </td><td>                     </td><td> 69                  </td><td> 69                  </td><td> 76                  </td><td> 69                  </td><td> 86                  </td><td> 91                  </td><td>4                    </td><td>False                </td></tr>\n",
       "\t<tr><td>Mantyke              </td><td>Water                </td><td>Flying               </td><td> 45                  </td><td> 20                  </td><td> 50                  </td><td> 60                  </td><td>120                  </td><td> 50                  </td><td>4                    </td><td>False                </td></tr>\n",
       "\t<tr><td>Palkia               </td><td>Water                </td><td>Dragon               </td><td> 90                  </td><td>120                  </td><td>100                  </td><td>150                  </td><td>120                  </td><td>100                  </td><td>4                    </td><td>True                 </td></tr>\n",
       "\t<tr><td>Phione               </td><td>Water                </td><td>                     </td><td> 80                  </td><td> 80                  </td><td> 80                  </td><td> 80                  </td><td> 80                  </td><td> 80                  </td><td>4                    </td><td>False                </td></tr>\n",
       "\t<tr><td>Manaphy              </td><td>Water                </td><td>                     </td><td>100                  </td><td>100                  </td><td>100                  </td><td>100                  </td><td>100                  </td><td>100                  </td><td>4                    </td><td>False                </td></tr>\n",
       "\t<tr><td>Oshawott             </td><td>Water                </td><td>                     </td><td> 55                  </td><td> 55                  </td><td> 45                  </td><td> 63                  </td><td> 45                  </td><td> 45                  </td><td>5                    </td><td>False                </td></tr>\n",
       "\t<tr><td>Dewott               </td><td>Water                </td><td>                     </td><td> 75                  </td><td> 75                  </td><td> 60                  </td><td> 83                  </td><td> 60                  </td><td> 60                  </td><td>5                    </td><td>False                </td></tr>\n",
       "\t<tr><td>Samurott             </td><td>Water                </td><td>                     </td><td> 95                  </td><td>100                  </td><td> 85                  </td><td>108                  </td><td> 70                  </td><td> 70                  </td><td>5                    </td><td>False                </td></tr>\n",
       "\t<tr><td>Panpour              </td><td>Water                </td><td>                     </td><td> 50                  </td><td> 53                  </td><td> 48                  </td><td> 53                  </td><td> 48                  </td><td> 64                  </td><td>5                    </td><td>False                </td></tr>\n",
       "\t<tr><td>Simipour             </td><td>Water                </td><td>                     </td><td> 75                  </td><td> 98                  </td><td> 63                  </td><td> 98                  </td><td> 63                  </td><td>101                  </td><td>5                    </td><td>False                </td></tr>\n",
       "\t<tr><td>Tympole              </td><td>Water                </td><td>                     </td><td> 50                  </td><td> 50                  </td><td> 40                  </td><td> 50                  </td><td> 40                  </td><td> 64                  </td><td>5                    </td><td>False                </td></tr>\n",
       "\t<tr><td>Palpitoad            </td><td>Water                </td><td>Ground               </td><td> 75                  </td><td> 65                  </td><td> 55                  </td><td> 65                  </td><td> 55                  </td><td> 69                  </td><td>5                    </td><td>False                </td></tr>\n",
       "\t<tr><td>Seismitoad           </td><td>Water                </td><td>Ground               </td><td>105                  </td><td> 95                  </td><td> 75                  </td><td> 85                  </td><td> 75                  </td><td> 74                  </td><td>5                    </td><td>False                </td></tr>\n",
       "\t<tr><td>Basculin             </td><td>Water                </td><td>                     </td><td> 70                  </td><td> 92                  </td><td> 65                  </td><td> 80                  </td><td> 55                  </td><td> 98                  </td><td>5                    </td><td>False                </td></tr>\n",
       "\t<tr><td>Tirtouga             </td><td>Water                </td><td>Rock                 </td><td> 54                  </td><td> 78                  </td><td>103                  </td><td> 53                  </td><td> 45                  </td><td> 22                  </td><td>5                    </td><td>False                </td></tr>\n",
       "\t<tr><td>Carracosta           </td><td>Water                </td><td>Rock                 </td><td> 74                  </td><td>108                  </td><td>133                  </td><td> 83                  </td><td> 65                  </td><td> 32                  </td><td>5                    </td><td>False                </td></tr>\n",
       "\t<tr><td>Ducklett             </td><td>Water                </td><td>Flying               </td><td> 62                  </td><td> 44                  </td><td> 50                  </td><td> 44                  </td><td> 50                  </td><td> 55                  </td><td>5                    </td><td>False                </td></tr>\n",
       "\t<tr><td>Swanna               </td><td>Water                </td><td>Flying               </td><td> 75                  </td><td> 87                  </td><td> 63                  </td><td> 87                  </td><td> 63                  </td><td> 98                  </td><td>5                    </td><td>False                </td></tr>\n",
       "\t<tr><td>Frillish             </td><td>Water                </td><td>Ghost                </td><td> 55                  </td><td> 40                  </td><td> 50                  </td><td> 65                  </td><td> 85                  </td><td> 40                  </td><td>5                    </td><td>False                </td></tr>\n",
       "\t<tr><td>Jellicent            </td><td>Water                </td><td>Ghost                </td><td>100                  </td><td> 60                  </td><td> 70                  </td><td> 85                  </td><td>105                  </td><td> 60                  </td><td>5                    </td><td>False                </td></tr>\n",
       "\t<tr><td>Alomomola            </td><td>Water                </td><td>                     </td><td>165                  </td><td> 75                  </td><td> 80                  </td><td> 40                  </td><td> 45                  </td><td> 65                  </td><td>5                    </td><td>False                </td></tr>\n",
       "\t<tr><td>Keldeo Ordinary Forme</td><td>Water                </td><td>Fighting             </td><td> 91                  </td><td> 72                  </td><td> 90                  </td><td>129                  </td><td> 90                  </td><td>108                  </td><td>5                    </td><td>False                </td></tr>\n",
       "\t<tr><td>Keldeo Resolute Forme</td><td>Water                </td><td>Fighting             </td><td> 91                  </td><td> 72                  </td><td> 90                  </td><td>129                  </td><td> 90                  </td><td>108                  </td><td>5                    </td><td>False                </td></tr>\n",
       "\t<tr><td>Froakie              </td><td>Water                </td><td>                     </td><td> 41                  </td><td> 56                  </td><td> 40                  </td><td> 62                  </td><td> 44                  </td><td> 71                  </td><td>6                    </td><td>False                </td></tr>\n",
       "\t<tr><td>Frogadier            </td><td>Water                </td><td>                     </td><td> 54                  </td><td> 63                  </td><td> 52                  </td><td> 83                  </td><td> 56                  </td><td> 97                  </td><td>6                    </td><td>False                </td></tr>\n",
       "\t<tr><td>Greninja             </td><td>Water                </td><td>Dark                 </td><td> 72                  </td><td> 95                  </td><td> 67                  </td><td>103                  </td><td> 71                  </td><td>122                  </td><td>6                    </td><td>False                </td></tr>\n",
       "\t<tr><td>Clauncher            </td><td>Water                </td><td>                     </td><td> 50                  </td><td> 53                  </td><td> 62                  </td><td> 58                  </td><td> 63                  </td><td> 44                  </td><td>6                    </td><td>False                </td></tr>\n",
       "\t<tr><td>Clawitzer            </td><td>Water                </td><td>                     </td><td> 71                  </td><td> 73                  </td><td> 88                  </td><td>120                  </td><td> 89                  </td><td> 59                  </td><td>6                    </td><td>False                </td></tr>\n",
       "</tbody>\n",
       "</table>\n"
      ],
      "text/latex": [
       "\\begin{tabular}{r|lllllllllll}\n",
       " Name & Primary\\_Type & Secondary\\_Type & Health\\_Points & Attack & Defense & Special\\_Attack & Special\\_Defence & Speed & Generation & Legendary\\\\\n",
       "\\hline\n",
       "\t Squirtle       & Water          &                &  44            &  48            &  65            &  50            &  64            &  43            & 1              & False         \\\\\n",
       "\t Wartortle      & Water          &                &  59            &  63            &  80            &  65            &  80            &  58            & 1              & False         \\\\\n",
       "\t Blastoise      & Water          &                &  79            &  83            & 100            &  85            & 105            &  78            & 1              & False         \\\\\n",
       "\t Mega Blastoise & Water          &                &  79            & 103            & 120            & 135            & 115            &  78            & 1              & False         \\\\\n",
       "\t Psyduck        & Water          &                &  50            &  52            &  48            &  65            &  50            &  55            & 1              & False         \\\\\n",
       "\t Golduck        & Water          &                &  80            &  82            &  78            &  95            &  80            &  85            & 1              & False         \\\\\n",
       "\t Poliwag        & Water          &                &  40            &  50            &  40            &  40            &  40            &  90            & 1              & False         \\\\\n",
       "\t Poliwhirl      & Water          &                &  65            &  65            &  65            &  50            &  50            &  90            & 1              & False         \\\\\n",
       "\t Poliwrath      & Water          & Fighting       &  90            &  95            &  95            &  70            &  90            &  70            & 1              & False         \\\\\n",
       "\t Tentacool      & Water          & Poison         &  40            &  40            &  35            &  50            & 100            &  70            & 1              & False         \\\\\n",
       "\t Tentacruel     & Water          & Poison         &  80            &  70            &  65            &  80            & 120            & 100            & 1              & False         \\\\\n",
       "\t Slowpoke       & Water          & Psychic        &  90            &  65            &  65            &  40            &  40            &  15            & 1              & False         \\\\\n",
       "\t Slowbro        & Water          & Psychic        &  95            &  75            & 110            & 100            &  80            &  30            & 1              & False         \\\\\n",
       "\t Mega Slowbro   & Water          & Psychic        &  95            &  75            & 180            & 130            &  80            &  30            & 1              & False         \\\\\n",
       "\t Seel           & Water          &                &  65            &  45            &  55            &  45            &  70            &  45            & 1              & False         \\\\\n",
       "\t Dewgong        & Water          & Ice            &  90            &  70            &  80            &  70            &  95            &  70            & 1              & False         \\\\\n",
       "\t Shellder       & Water          &                &  30            &  65            & 100            &  45            &  25            &  40            & 1              & False         \\\\\n",
       "\t Cloyster       & Water          & Ice            &  50            &  95            & 180            &  85            &  45            &  70            & 1              & False         \\\\\n",
       "\t Krabby         & Water          &                &  30            & 105            &  90            &  25            &  25            &  50            & 1              & False         \\\\\n",
       "\t Kingler        & Water          &                &  55            & 130            & 115            &  50            &  50            &  75            & 1              & False         \\\\\n",
       "\t Horsea         & Water          &                &  30            &  40            &  70            &  70            &  25            &  60            & 1              & False         \\\\\n",
       "\t Seadra         & Water          &                &  55            &  65            &  95            &  95            &  45            &  85            & 1              & False         \\\\\n",
       "\t Goldeen        & Water          &                &  45            &  67            &  60            &  35            &  50            &  63            & 1              & False         \\\\\n",
       "\t Seaking        & Water          &                &  80            &  92            &  65            &  65            &  80            &  68            & 1              & False         \\\\\n",
       "\t Staryu         & Water          &                &  30            &  45            &  55            &  70            &  55            &  85            & 1              & False         \\\\\n",
       "\t Starmie        & Water          & Psychic        &  60            &  75            &  85            & 100            &  85            & 115            & 1              & False         \\\\\n",
       "\t Magikarp       & Water          &                &  20            &  10            &  55            &  15            &  20            &  80            & 1              & False         \\\\\n",
       "\t Gyarados       & Water          & Flying         &  95            & 125            &  79            &  60            & 100            &  81            & 1              & False         \\\\\n",
       "\t Mega Gyarados  & Water          & Dark           &  95            & 155            & 109            &  70            & 130            &  81            & 1              & False         \\\\\n",
       "\t Lapras         & Water          & Ice            & 130            &  85            &  80            &  85            &  95            &  60            & 1              & False         \\\\\n",
       "\t ... & ... & ... & ... & ... & ... & ... & ... & ... & ... & ...\\\\\n",
       "\t Gastrodon             & Water                 & Ground                & 111                   &  83                   &  68                   &  92                   &  82                   &  39                   & 4                     & False                \\\\\n",
       "\t Finneon               & Water                 &                       &  49                   &  49                   &  56                   &  49                   &  61                   &  66                   & 4                     & False                \\\\\n",
       "\t Lumineon              & Water                 &                       &  69                   &  69                   &  76                   &  69                   &  86                   &  91                   & 4                     & False                \\\\\n",
       "\t Mantyke               & Water                 & Flying                &  45                   &  20                   &  50                   &  60                   & 120                   &  50                   & 4                     & False                \\\\\n",
       "\t Palkia                & Water                 & Dragon                &  90                   & 120                   & 100                   & 150                   & 120                   & 100                   & 4                     & True                 \\\\\n",
       "\t Phione                & Water                 &                       &  80                   &  80                   &  80                   &  80                   &  80                   &  80                   & 4                     & False                \\\\\n",
       "\t Manaphy               & Water                 &                       & 100                   & 100                   & 100                   & 100                   & 100                   & 100                   & 4                     & False                \\\\\n",
       "\t Oshawott              & Water                 &                       &  55                   &  55                   &  45                   &  63                   &  45                   &  45                   & 5                     & False                \\\\\n",
       "\t Dewott                & Water                 &                       &  75                   &  75                   &  60                   &  83                   &  60                   &  60                   & 5                     & False                \\\\\n",
       "\t Samurott              & Water                 &                       &  95                   & 100                   &  85                   & 108                   &  70                   &  70                   & 5                     & False                \\\\\n",
       "\t Panpour               & Water                 &                       &  50                   &  53                   &  48                   &  53                   &  48                   &  64                   & 5                     & False                \\\\\n",
       "\t Simipour              & Water                 &                       &  75                   &  98                   &  63                   &  98                   &  63                   & 101                   & 5                     & False                \\\\\n",
       "\t Tympole               & Water                 &                       &  50                   &  50                   &  40                   &  50                   &  40                   &  64                   & 5                     & False                \\\\\n",
       "\t Palpitoad             & Water                 & Ground                &  75                   &  65                   &  55                   &  65                   &  55                   &  69                   & 5                     & False                \\\\\n",
       "\t Seismitoad            & Water                 & Ground                & 105                   &  95                   &  75                   &  85                   &  75                   &  74                   & 5                     & False                \\\\\n",
       "\t Basculin              & Water                 &                       &  70                   &  92                   &  65                   &  80                   &  55                   &  98                   & 5                     & False                \\\\\n",
       "\t Tirtouga              & Water                 & Rock                  &  54                   &  78                   & 103                   &  53                   &  45                   &  22                   & 5                     & False                \\\\\n",
       "\t Carracosta            & Water                 & Rock                  &  74                   & 108                   & 133                   &  83                   &  65                   &  32                   & 5                     & False                \\\\\n",
       "\t Ducklett              & Water                 & Flying                &  62                   &  44                   &  50                   &  44                   &  50                   &  55                   & 5                     & False                \\\\\n",
       "\t Swanna                & Water                 & Flying                &  75                   &  87                   &  63                   &  87                   &  63                   &  98                   & 5                     & False                \\\\\n",
       "\t Frillish              & Water                 & Ghost                 &  55                   &  40                   &  50                   &  65                   &  85                   &  40                   & 5                     & False                \\\\\n",
       "\t Jellicent             & Water                 & Ghost                 & 100                   &  60                   &  70                   &  85                   & 105                   &  60                   & 5                     & False                \\\\\n",
       "\t Alomomola             & Water                 &                       & 165                   &  75                   &  80                   &  40                   &  45                   &  65                   & 5                     & False                \\\\\n",
       "\t Keldeo Ordinary Forme & Water                 & Fighting              &  91                   &  72                   &  90                   & 129                   &  90                   & 108                   & 5                     & False                \\\\\n",
       "\t Keldeo Resolute Forme & Water                 & Fighting              &  91                   &  72                   &  90                   & 129                   &  90                   & 108                   & 5                     & False                \\\\\n",
       "\t Froakie               & Water                 &                       &  41                   &  56                   &  40                   &  62                   &  44                   &  71                   & 6                     & False                \\\\\n",
       "\t Frogadier             & Water                 &                       &  54                   &  63                   &  52                   &  83                   &  56                   &  97                   & 6                     & False                \\\\\n",
       "\t Greninja              & Water                 & Dark                  &  72                   &  95                   &  67                   & 103                   &  71                   & 122                   & 6                     & False                \\\\\n",
       "\t Clauncher             & Water                 &                       &  50                   &  53                   &  62                   &  58                   &  63                   &  44                   & 6                     & False                \\\\\n",
       "\t Clawitzer             & Water                 &                       &  71                   &  73                   &  88                   & 120                   &  89                   &  59                   & 6                     & False                \\\\\n",
       "\\end{tabular}\n"
      ],
      "text/markdown": [
       "\n",
       "| Name | Primary_Type | Secondary_Type | Health_Points | Attack | Defense | Special_Attack | Special_Defence | Speed | Generation | Legendary |\n",
       "|---|---|---|---|---|---|---|---|---|---|---|\n",
       "| Squirtle       | Water          |                |  44            |  48            |  65            |  50            |  64            |  43            | 1              | False          |\n",
       "| Wartortle      | Water          |                |  59            |  63            |  80            |  65            |  80            |  58            | 1              | False          |\n",
       "| Blastoise      | Water          |                |  79            |  83            | 100            |  85            | 105            |  78            | 1              | False          |\n",
       "| Mega Blastoise | Water          |                |  79            | 103            | 120            | 135            | 115            |  78            | 1              | False          |\n",
       "| Psyduck        | Water          |                |  50            |  52            |  48            |  65            |  50            |  55            | 1              | False          |\n",
       "| Golduck        | Water          |                |  80            |  82            |  78            |  95            |  80            |  85            | 1              | False          |\n",
       "| Poliwag        | Water          |                |  40            |  50            |  40            |  40            |  40            |  90            | 1              | False          |\n",
       "| Poliwhirl      | Water          |                |  65            |  65            |  65            |  50            |  50            |  90            | 1              | False          |\n",
       "| Poliwrath      | Water          | Fighting       |  90            |  95            |  95            |  70            |  90            |  70            | 1              | False          |\n",
       "| Tentacool      | Water          | Poison         |  40            |  40            |  35            |  50            | 100            |  70            | 1              | False          |\n",
       "| Tentacruel     | Water          | Poison         |  80            |  70            |  65            |  80            | 120            | 100            | 1              | False          |\n",
       "| Slowpoke       | Water          | Psychic        |  90            |  65            |  65            |  40            |  40            |  15            | 1              | False          |\n",
       "| Slowbro        | Water          | Psychic        |  95            |  75            | 110            | 100            |  80            |  30            | 1              | False          |\n",
       "| Mega Slowbro   | Water          | Psychic        |  95            |  75            | 180            | 130            |  80            |  30            | 1              | False          |\n",
       "| Seel           | Water          |                |  65            |  45            |  55            |  45            |  70            |  45            | 1              | False          |\n",
       "| Dewgong        | Water          | Ice            |  90            |  70            |  80            |  70            |  95            |  70            | 1              | False          |\n",
       "| Shellder       | Water          |                |  30            |  65            | 100            |  45            |  25            |  40            | 1              | False          |\n",
       "| Cloyster       | Water          | Ice            |  50            |  95            | 180            |  85            |  45            |  70            | 1              | False          |\n",
       "| Krabby         | Water          |                |  30            | 105            |  90            |  25            |  25            |  50            | 1              | False          |\n",
       "| Kingler        | Water          |                |  55            | 130            | 115            |  50            |  50            |  75            | 1              | False          |\n",
       "| Horsea         | Water          |                |  30            |  40            |  70            |  70            |  25            |  60            | 1              | False          |\n",
       "| Seadra         | Water          |                |  55            |  65            |  95            |  95            |  45            |  85            | 1              | False          |\n",
       "| Goldeen        | Water          |                |  45            |  67            |  60            |  35            |  50            |  63            | 1              | False          |\n",
       "| Seaking        | Water          |                |  80            |  92            |  65            |  65            |  80            |  68            | 1              | False          |\n",
       "| Staryu         | Water          |                |  30            |  45            |  55            |  70            |  55            |  85            | 1              | False          |\n",
       "| Starmie        | Water          | Psychic        |  60            |  75            |  85            | 100            |  85            | 115            | 1              | False          |\n",
       "| Magikarp       | Water          |                |  20            |  10            |  55            |  15            |  20            |  80            | 1              | False          |\n",
       "| Gyarados       | Water          | Flying         |  95            | 125            |  79            |  60            | 100            |  81            | 1              | False          |\n",
       "| Mega Gyarados  | Water          | Dark           |  95            | 155            | 109            |  70            | 130            |  81            | 1              | False          |\n",
       "| Lapras         | Water          | Ice            | 130            |  85            |  80            |  85            |  95            |  60            | 1              | False          |\n",
       "| ... | ... | ... | ... | ... | ... | ... | ... | ... | ... | ... |\n",
       "| Gastrodon             | Water                 | Ground                | 111                   |  83                   |  68                   |  92                   |  82                   |  39                   | 4                     | False                 |\n",
       "| Finneon               | Water                 |                       |  49                   |  49                   |  56                   |  49                   |  61                   |  66                   | 4                     | False                 |\n",
       "| Lumineon              | Water                 |                       |  69                   |  69                   |  76                   |  69                   |  86                   |  91                   | 4                     | False                 |\n",
       "| Mantyke               | Water                 | Flying                |  45                   |  20                   |  50                   |  60                   | 120                   |  50                   | 4                     | False                 |\n",
       "| Palkia                | Water                 | Dragon                |  90                   | 120                   | 100                   | 150                   | 120                   | 100                   | 4                     | True                  |\n",
       "| Phione                | Water                 |                       |  80                   |  80                   |  80                   |  80                   |  80                   |  80                   | 4                     | False                 |\n",
       "| Manaphy               | Water                 |                       | 100                   | 100                   | 100                   | 100                   | 100                   | 100                   | 4                     | False                 |\n",
       "| Oshawott              | Water                 |                       |  55                   |  55                   |  45                   |  63                   |  45                   |  45                   | 5                     | False                 |\n",
       "| Dewott                | Water                 |                       |  75                   |  75                   |  60                   |  83                   |  60                   |  60                   | 5                     | False                 |\n",
       "| Samurott              | Water                 |                       |  95                   | 100                   |  85                   | 108                   |  70                   |  70                   | 5                     | False                 |\n",
       "| Panpour               | Water                 |                       |  50                   |  53                   |  48                   |  53                   |  48                   |  64                   | 5                     | False                 |\n",
       "| Simipour              | Water                 |                       |  75                   |  98                   |  63                   |  98                   |  63                   | 101                   | 5                     | False                 |\n",
       "| Tympole               | Water                 |                       |  50                   |  50                   |  40                   |  50                   |  40                   |  64                   | 5                     | False                 |\n",
       "| Palpitoad             | Water                 | Ground                |  75                   |  65                   |  55                   |  65                   |  55                   |  69                   | 5                     | False                 |\n",
       "| Seismitoad            | Water                 | Ground                | 105                   |  95                   |  75                   |  85                   |  75                   |  74                   | 5                     | False                 |\n",
       "| Basculin              | Water                 |                       |  70                   |  92                   |  65                   |  80                   |  55                   |  98                   | 5                     | False                 |\n",
       "| Tirtouga              | Water                 | Rock                  |  54                   |  78                   | 103                   |  53                   |  45                   |  22                   | 5                     | False                 |\n",
       "| Carracosta            | Water                 | Rock                  |  74                   | 108                   | 133                   |  83                   |  65                   |  32                   | 5                     | False                 |\n",
       "| Ducklett              | Water                 | Flying                |  62                   |  44                   |  50                   |  44                   |  50                   |  55                   | 5                     | False                 |\n",
       "| Swanna                | Water                 | Flying                |  75                   |  87                   |  63                   |  87                   |  63                   |  98                   | 5                     | False                 |\n",
       "| Frillish              | Water                 | Ghost                 |  55                   |  40                   |  50                   |  65                   |  85                   |  40                   | 5                     | False                 |\n",
       "| Jellicent             | Water                 | Ghost                 | 100                   |  60                   |  70                   |  85                   | 105                   |  60                   | 5                     | False                 |\n",
       "| Alomomola             | Water                 |                       | 165                   |  75                   |  80                   |  40                   |  45                   |  65                   | 5                     | False                 |\n",
       "| Keldeo Ordinary Forme | Water                 | Fighting              |  91                   |  72                   |  90                   | 129                   |  90                   | 108                   | 5                     | False                 |\n",
       "| Keldeo Resolute Forme | Water                 | Fighting              |  91                   |  72                   |  90                   | 129                   |  90                   | 108                   | 5                     | False                 |\n",
       "| Froakie               | Water                 |                       |  41                   |  56                   |  40                   |  62                   |  44                   |  71                   | 6                     | False                 |\n",
       "| Frogadier             | Water                 |                       |  54                   |  63                   |  52                   |  83                   |  56                   |  97                   | 6                     | False                 |\n",
       "| Greninja              | Water                 | Dark                  |  72                   |  95                   |  67                   | 103                   |  71                   | 122                   | 6                     | False                 |\n",
       "| Clauncher             | Water                 |                       |  50                   |  53                   |  62                   |  58                   |  63                   |  44                   | 6                     | False                 |\n",
       "| Clawitzer             | Water                 |                       |  71                   |  73                   |  88                   | 120                   |  89                   |  59                   | 6                     | False                 |\n",
       "\n"
      ],
      "text/plain": [
       "    Name                  Primary_Type Secondary_Type Health_Points Attack\n",
       "1   Squirtle              Water                        44            48   \n",
       "2   Wartortle             Water                        59            63   \n",
       "3   Blastoise             Water                        79            83   \n",
       "4   Mega Blastoise        Water                        79           103   \n",
       "5   Psyduck               Water                        50            52   \n",
       "6   Golduck               Water                        80            82   \n",
       "7   Poliwag               Water                        40            50   \n",
       "8   Poliwhirl             Water                        65            65   \n",
       "9   Poliwrath             Water        Fighting        90            95   \n",
       "10  Tentacool             Water        Poison          40            40   \n",
       "11  Tentacruel            Water        Poison          80            70   \n",
       "12  Slowpoke              Water        Psychic         90            65   \n",
       "13  Slowbro               Water        Psychic         95            75   \n",
       "14  Mega Slowbro          Water        Psychic         95            75   \n",
       "15  Seel                  Water                        65            45   \n",
       "16  Dewgong               Water        Ice             90            70   \n",
       "17  Shellder              Water                        30            65   \n",
       "18  Cloyster              Water        Ice             50            95   \n",
       "19  Krabby                Water                        30           105   \n",
       "20  Kingler               Water                        55           130   \n",
       "21  Horsea                Water                        30            40   \n",
       "22  Seadra                Water                        55            65   \n",
       "23  Goldeen               Water                        45            67   \n",
       "24  Seaking               Water                        80            92   \n",
       "25  Staryu                Water                        30            45   \n",
       "26  Starmie               Water        Psychic         60            75   \n",
       "27  Magikarp              Water                        20            10   \n",
       "28  Gyarados              Water        Flying          95           125   \n",
       "29  Mega Gyarados         Water        Dark            95           155   \n",
       "30  Lapras                Water        Ice            130            85   \n",
       "... ...                   ...          ...            ...           ...   \n",
       "83  Gastrodon             Water        Ground         111            83   \n",
       "84  Finneon               Water                        49            49   \n",
       "85  Lumineon              Water                        69            69   \n",
       "86  Mantyke               Water        Flying          45            20   \n",
       "87  Palkia                Water        Dragon          90           120   \n",
       "88  Phione                Water                        80            80   \n",
       "89  Manaphy               Water                       100           100   \n",
       "90  Oshawott              Water                        55            55   \n",
       "91  Dewott                Water                        75            75   \n",
       "92  Samurott              Water                        95           100   \n",
       "93  Panpour               Water                        50            53   \n",
       "94  Simipour              Water                        75            98   \n",
       "95  Tympole               Water                        50            50   \n",
       "96  Palpitoad             Water        Ground          75            65   \n",
       "97  Seismitoad            Water        Ground         105            95   \n",
       "98  Basculin              Water                        70            92   \n",
       "99  Tirtouga              Water        Rock            54            78   \n",
       "100 Carracosta            Water        Rock            74           108   \n",
       "101 Ducklett              Water        Flying          62            44   \n",
       "102 Swanna                Water        Flying          75            87   \n",
       "103 Frillish              Water        Ghost           55            40   \n",
       "104 Jellicent             Water        Ghost          100            60   \n",
       "105 Alomomola             Water                       165            75   \n",
       "106 Keldeo Ordinary Forme Water        Fighting        91            72   \n",
       "107 Keldeo Resolute Forme Water        Fighting        91            72   \n",
       "108 Froakie               Water                        41            56   \n",
       "109 Frogadier             Water                        54            63   \n",
       "110 Greninja              Water        Dark            72            95   \n",
       "111 Clauncher             Water                        50            53   \n",
       "112 Clawitzer             Water                        71            73   \n",
       "    Defense Special_Attack Special_Defence Speed Generation Legendary\n",
       "1    65      50             64              43   1          False    \n",
       "2    80      65             80              58   1          False    \n",
       "3   100      85            105              78   1          False    \n",
       "4   120     135            115              78   1          False    \n",
       "5    48      65             50              55   1          False    \n",
       "6    78      95             80              85   1          False    \n",
       "7    40      40             40              90   1          False    \n",
       "8    65      50             50              90   1          False    \n",
       "9    95      70             90              70   1          False    \n",
       "10   35      50            100              70   1          False    \n",
       "11   65      80            120             100   1          False    \n",
       "12   65      40             40              15   1          False    \n",
       "13  110     100             80              30   1          False    \n",
       "14  180     130             80              30   1          False    \n",
       "15   55      45             70              45   1          False    \n",
       "16   80      70             95              70   1          False    \n",
       "17  100      45             25              40   1          False    \n",
       "18  180      85             45              70   1          False    \n",
       "19   90      25             25              50   1          False    \n",
       "20  115      50             50              75   1          False    \n",
       "21   70      70             25              60   1          False    \n",
       "22   95      95             45              85   1          False    \n",
       "23   60      35             50              63   1          False    \n",
       "24   65      65             80              68   1          False    \n",
       "25   55      70             55              85   1          False    \n",
       "26   85     100             85             115   1          False    \n",
       "27   55      15             20              80   1          False    \n",
       "28   79      60            100              81   1          False    \n",
       "29  109      70            130              81   1          False    \n",
       "30   80      85             95              60   1          False    \n",
       "... ...     ...            ...             ...   ...        ...      \n",
       "83   68      92             82              39   4          False    \n",
       "84   56      49             61              66   4          False    \n",
       "85   76      69             86              91   4          False    \n",
       "86   50      60            120              50   4          False    \n",
       "87  100     150            120             100   4          True     \n",
       "88   80      80             80              80   4          False    \n",
       "89  100     100            100             100   4          False    \n",
       "90   45      63             45              45   5          False    \n",
       "91   60      83             60              60   5          False    \n",
       "92   85     108             70              70   5          False    \n",
       "93   48      53             48              64   5          False    \n",
       "94   63      98             63             101   5          False    \n",
       "95   40      50             40              64   5          False    \n",
       "96   55      65             55              69   5          False    \n",
       "97   75      85             75              74   5          False    \n",
       "98   65      80             55              98   5          False    \n",
       "99  103      53             45              22   5          False    \n",
       "100 133      83             65              32   5          False    \n",
       "101  50      44             50              55   5          False    \n",
       "102  63      87             63              98   5          False    \n",
       "103  50      65             85              40   5          False    \n",
       "104  70      85            105              60   5          False    \n",
       "105  80      40             45              65   5          False    \n",
       "106  90     129             90             108   5          False    \n",
       "107  90     129             90             108   5          False    \n",
       "108  40      62             44              71   6          False    \n",
       "109  52      83             56              97   6          False    \n",
       "110  67     103             71             122   6          False    \n",
       "111  62      58             63              44   6          False    \n",
       "112  88     120             89              59   6          False    "
      ]
     },
     "metadata": {},
     "output_type": "display_data"
    }
   ],
   "source": [
    "Water_pokemon"
   ]
  },
  {
   "cell_type": "code",
   "execution_count": 24,
   "metadata": {},
   "outputs": [
    {
     "data": {
      "text/html": [
       "112"
      ],
      "text/latex": [
       "112"
      ],
      "text/markdown": [
       "112"
      ],
      "text/plain": [
       "[1] 112"
      ]
     },
     "metadata": {},
     "output_type": "display_data"
    }
   ],
   "source": [
    "nrow(Water_pokemon)"
   ]
  },
  {
   "cell_type": "code",
   "execution_count": 25,
   "metadata": {},
   "outputs": [],
   "source": [
    "Water_Psychic_pokemon <- Water_pokemon %>% filter(Secondary_Type==\"Psychic\")"
   ]
  },
  {
   "cell_type": "code",
   "execution_count": 26,
   "metadata": {},
   "outputs": [
    {
     "data": {
      "text/html": [
       "<table>\n",
       "<thead><tr><th scope=col>Name</th><th scope=col>Primary_Type</th><th scope=col>Secondary_Type</th><th scope=col>Health_Points</th><th scope=col>Attack</th><th scope=col>Defense</th><th scope=col>Special_Attack</th><th scope=col>Special_Defence</th><th scope=col>Speed</th><th scope=col>Generation</th><th scope=col>Legendary</th></tr></thead>\n",
       "<tbody>\n",
       "\t<tr><td>Slowpoke    </td><td>Water       </td><td>Psychic     </td><td>90          </td><td>65          </td><td> 65         </td><td> 40         </td><td> 40         </td><td> 15         </td><td>1           </td><td>False       </td></tr>\n",
       "\t<tr><td>Slowbro     </td><td>Water       </td><td>Psychic     </td><td>95          </td><td>75          </td><td>110         </td><td>100         </td><td> 80         </td><td> 30         </td><td>1           </td><td>False       </td></tr>\n",
       "\t<tr><td>Mega Slowbro</td><td>Water       </td><td>Psychic     </td><td>95          </td><td>75          </td><td>180         </td><td>130         </td><td> 80         </td><td> 30         </td><td>1           </td><td>False       </td></tr>\n",
       "\t<tr><td>Starmie     </td><td>Water       </td><td>Psychic     </td><td>60          </td><td>75          </td><td> 85         </td><td>100         </td><td> 85         </td><td>115         </td><td>1           </td><td>False       </td></tr>\n",
       "\t<tr><td>Slowking    </td><td>Water       </td><td>Psychic     </td><td>95          </td><td>75          </td><td> 80         </td><td>100         </td><td>110         </td><td> 30         </td><td>2           </td><td>False       </td></tr>\n",
       "</tbody>\n",
       "</table>\n"
      ],
      "text/latex": [
       "\\begin{tabular}{r|lllllllllll}\n",
       " Name & Primary\\_Type & Secondary\\_Type & Health\\_Points & Attack & Defense & Special\\_Attack & Special\\_Defence & Speed & Generation & Legendary\\\\\n",
       "\\hline\n",
       "\t Slowpoke     & Water        & Psychic      & 90           & 65           &  65          &  40          &  40          &  15          & 1            & False       \\\\\n",
       "\t Slowbro      & Water        & Psychic      & 95           & 75           & 110          & 100          &  80          &  30          & 1            & False       \\\\\n",
       "\t Mega Slowbro & Water        & Psychic      & 95           & 75           & 180          & 130          &  80          &  30          & 1            & False       \\\\\n",
       "\t Starmie      & Water        & Psychic      & 60           & 75           &  85          & 100          &  85          & 115          & 1            & False       \\\\\n",
       "\t Slowking     & Water        & Psychic      & 95           & 75           &  80          & 100          & 110          &  30          & 2            & False       \\\\\n",
       "\\end{tabular}\n"
      ],
      "text/markdown": [
       "\n",
       "| Name | Primary_Type | Secondary_Type | Health_Points | Attack | Defense | Special_Attack | Special_Defence | Speed | Generation | Legendary |\n",
       "|---|---|---|---|---|---|---|---|---|---|---|\n",
       "| Slowpoke     | Water        | Psychic      | 90           | 65           |  65          |  40          |  40          |  15          | 1            | False        |\n",
       "| Slowbro      | Water        | Psychic      | 95           | 75           | 110          | 100          |  80          |  30          | 1            | False        |\n",
       "| Mega Slowbro | Water        | Psychic      | 95           | 75           | 180          | 130          |  80          |  30          | 1            | False        |\n",
       "| Starmie      | Water        | Psychic      | 60           | 75           |  85          | 100          |  85          | 115          | 1            | False        |\n",
       "| Slowking     | Water        | Psychic      | 95           | 75           |  80          | 100          | 110          |  30          | 2            | False        |\n",
       "\n"
      ],
      "text/plain": [
       "  Name         Primary_Type Secondary_Type Health_Points Attack Defense\n",
       "1 Slowpoke     Water        Psychic        90            65      65    \n",
       "2 Slowbro      Water        Psychic        95            75     110    \n",
       "3 Mega Slowbro Water        Psychic        95            75     180    \n",
       "4 Starmie      Water        Psychic        60            75      85    \n",
       "5 Slowking     Water        Psychic        95            75      80    \n",
       "  Special_Attack Special_Defence Speed Generation Legendary\n",
       "1  40             40              15   1          False    \n",
       "2 100             80              30   1          False    \n",
       "3 130             80              30   1          False    \n",
       "4 100             85             115   1          False    \n",
       "5 100            110              30   2          False    "
      ]
     },
     "metadata": {},
     "output_type": "display_data"
    }
   ],
   "source": [
    "Water_Psychic_pokemon"
   ]
  },
  {
   "cell_type": "code",
   "execution_count": 27,
   "metadata": {},
   "outputs": [
    {
     "data": {
      "text/html": [
       "<ol class=list-inline>\n",
       "\t<li>65</li>\n",
       "\t<li>180</li>\n",
       "</ol>\n"
      ],
      "text/latex": [
       "\\begin{enumerate*}\n",
       "\\item 65\n",
       "\\item 180\n",
       "\\end{enumerate*}\n"
      ],
      "text/markdown": [
       "1. 65\n",
       "2. 180\n",
       "\n",
       "\n"
      ],
      "text/plain": [
       "[1]  65 180"
      ]
     },
     "metadata": {},
     "output_type": "display_data"
    }
   ],
   "source": [
    "range(Water_Psychic_pokemon$Defense)"
   ]
  },
  {
   "cell_type": "markdown",
   "metadata": {},
   "source": [
    "So here the Maximum Defense value is 180 we will select that pokemon"
   ]
  },
  {
   "cell_type": "code",
   "execution_count": 28,
   "metadata": {},
   "outputs": [],
   "source": [
    "My_Water_Pokemon <- Water_Psychic_pokemon %>% filter(Defense==180)"
   ]
  },
  {
   "cell_type": "code",
   "execution_count": 29,
   "metadata": {},
   "outputs": [
    {
     "data": {
      "text/html": [
       "<table>\n",
       "<thead><tr><th scope=col>Name</th><th scope=col>Primary_Type</th><th scope=col>Secondary_Type</th><th scope=col>Health_Points</th><th scope=col>Attack</th><th scope=col>Defense</th><th scope=col>Special_Attack</th><th scope=col>Special_Defence</th><th scope=col>Speed</th><th scope=col>Generation</th><th scope=col>Legendary</th></tr></thead>\n",
       "<tbody>\n",
       "\t<tr><td>Mega Slowbro</td><td>Water       </td><td>Psychic     </td><td>95          </td><td>75          </td><td>180         </td><td>130         </td><td>80          </td><td>30          </td><td>1           </td><td>False       </td></tr>\n",
       "</tbody>\n",
       "</table>\n"
      ],
      "text/latex": [
       "\\begin{tabular}{r|lllllllllll}\n",
       " Name & Primary\\_Type & Secondary\\_Type & Health\\_Points & Attack & Defense & Special\\_Attack & Special\\_Defence & Speed & Generation & Legendary\\\\\n",
       "\\hline\n",
       "\t Mega Slowbro & Water        & Psychic      & 95           & 75           & 180          & 130          & 80           & 30           & 1            & False       \\\\\n",
       "\\end{tabular}\n"
      ],
      "text/markdown": [
       "\n",
       "| Name | Primary_Type | Secondary_Type | Health_Points | Attack | Defense | Special_Attack | Special_Defence | Speed | Generation | Legendary |\n",
       "|---|---|---|---|---|---|---|---|---|---|---|\n",
       "| Mega Slowbro | Water        | Psychic      | 95           | 75           | 180          | 130          | 80           | 30           | 1            | False        |\n",
       "\n"
      ],
      "text/plain": [
       "  Name         Primary_Type Secondary_Type Health_Points Attack Defense\n",
       "1 Mega Slowbro Water        Psychic        95            75     180    \n",
       "  Special_Attack Special_Defence Speed Generation Legendary\n",
       "1 130            80              30    1          False    "
      ]
     },
     "metadata": {},
     "output_type": "display_data"
    }
   ],
   "source": [
    "My_Water_Pokemon"
   ]
  },
  {
   "cell_type": "markdown",
   "metadata": {},
   "source": [
    "So our Water Pokemon is Mega Slowbro."
   ]
  },
  {
   "cell_type": "markdown",
   "metadata": {},
   "source": [
    "__Now we will select our last Fire Pokemon__"
   ]
  },
  {
   "cell_type": "code",
   "execution_count": 30,
   "metadata": {},
   "outputs": [],
   "source": [
    "Fire_pokemon <- pokemon %>% filter(Primary_Type==\"Fire\")"
   ]
  },
  {
   "cell_type": "code",
   "execution_count": 31,
   "metadata": {},
   "outputs": [
    {
     "data": {
      "text/html": [
       "<table>\n",
       "<thead><tr><th scope=col>Name</th><th scope=col>Primary_Type</th><th scope=col>Secondary_Type</th><th scope=col>Health_Points</th><th scope=col>Attack</th><th scope=col>Defense</th><th scope=col>Special_Attack</th><th scope=col>Special_Defence</th><th scope=col>Speed</th><th scope=col>Generation</th><th scope=col>Legendary</th></tr></thead>\n",
       "<tbody>\n",
       "\t<tr><td>Charmander              </td><td>Fire                    </td><td>                        </td><td> 39                     </td><td> 52                     </td><td> 43                     </td><td> 60                     </td><td> 50                     </td><td> 65                     </td><td>1                       </td><td>False                   </td></tr>\n",
       "\t<tr><td>Charmeleon              </td><td>Fire                    </td><td>                        </td><td> 58                     </td><td> 64                     </td><td> 58                     </td><td> 80                     </td><td> 65                     </td><td> 80                     </td><td>1                       </td><td>False                   </td></tr>\n",
       "\t<tr><td>Charizard               </td><td>Fire                    </td><td>Flying                  </td><td> 78                     </td><td> 84                     </td><td> 78                     </td><td>109                     </td><td> 85                     </td><td>100                     </td><td>1                       </td><td>False                   </td></tr>\n",
       "\t<tr><td>Mega Charizard X        </td><td>Fire                    </td><td>Dragon                  </td><td> 78                     </td><td>130                     </td><td>111                     </td><td>130                     </td><td> 85                     </td><td>100                     </td><td>1                       </td><td>False                   </td></tr>\n",
       "\t<tr><td>Mega Charizard Y        </td><td>Fire                    </td><td>Flying                  </td><td> 78                     </td><td>104                     </td><td> 78                     </td><td>159                     </td><td>115                     </td><td>100                     </td><td>1                       </td><td>False                   </td></tr>\n",
       "\t<tr><td>Vulpix                  </td><td>Fire                    </td><td>                        </td><td> 38                     </td><td> 41                     </td><td> 40                     </td><td> 50                     </td><td> 65                     </td><td> 65                     </td><td>1                       </td><td>False                   </td></tr>\n",
       "\t<tr><td>Ninetales               </td><td>Fire                    </td><td>                        </td><td> 73                     </td><td> 76                     </td><td> 75                     </td><td> 81                     </td><td>100                     </td><td>100                     </td><td>1                       </td><td>False                   </td></tr>\n",
       "\t<tr><td>Growlithe               </td><td>Fire                    </td><td>                        </td><td> 55                     </td><td> 70                     </td><td> 45                     </td><td> 70                     </td><td> 50                     </td><td> 60                     </td><td>1                       </td><td>False                   </td></tr>\n",
       "\t<tr><td>Arcanine                </td><td>Fire                    </td><td>                        </td><td> 90                     </td><td>110                     </td><td> 80                     </td><td>100                     </td><td> 80                     </td><td> 95                     </td><td>1                       </td><td>False                   </td></tr>\n",
       "\t<tr><td>Ponyta                  </td><td>Fire                    </td><td>                        </td><td> 50                     </td><td> 85                     </td><td> 55                     </td><td> 65                     </td><td> 65                     </td><td> 90                     </td><td>1                       </td><td>False                   </td></tr>\n",
       "\t<tr><td>Rapidash                </td><td>Fire                    </td><td>                        </td><td> 65                     </td><td>100                     </td><td> 70                     </td><td> 80                     </td><td> 80                     </td><td>105                     </td><td>1                       </td><td>False                   </td></tr>\n",
       "\t<tr><td>Magmar                  </td><td>Fire                    </td><td>                        </td><td> 65                     </td><td> 95                     </td><td> 57                     </td><td>100                     </td><td> 85                     </td><td> 93                     </td><td>1                       </td><td>False                   </td></tr>\n",
       "\t<tr><td>Flareon                 </td><td>Fire                    </td><td>                        </td><td> 65                     </td><td>130                     </td><td> 60                     </td><td> 95                     </td><td>110                     </td><td> 65                     </td><td>1                       </td><td>False                   </td></tr>\n",
       "\t<tr><td>Moltres                 </td><td>Fire                    </td><td>Flying                  </td><td> 90                     </td><td>100                     </td><td> 90                     </td><td>125                     </td><td> 85                     </td><td> 90                     </td><td>1                       </td><td>True                    </td></tr>\n",
       "\t<tr><td>Cyndaquil               </td><td>Fire                    </td><td>                        </td><td> 39                     </td><td> 52                     </td><td> 43                     </td><td> 60                     </td><td> 50                     </td><td> 65                     </td><td>2                       </td><td>False                   </td></tr>\n",
       "\t<tr><td>Quilava                 </td><td>Fire                    </td><td>                        </td><td> 58                     </td><td> 64                     </td><td> 58                     </td><td> 80                     </td><td> 65                     </td><td> 80                     </td><td>2                       </td><td>False                   </td></tr>\n",
       "\t<tr><td>Typhlosion              </td><td>Fire                    </td><td>                        </td><td> 78                     </td><td> 84                     </td><td> 78                     </td><td>109                     </td><td> 85                     </td><td>100                     </td><td>2                       </td><td>False                   </td></tr>\n",
       "\t<tr><td>Slugma                  </td><td>Fire                    </td><td>                        </td><td> 40                     </td><td> 40                     </td><td> 40                     </td><td> 70                     </td><td> 40                     </td><td> 20                     </td><td>2                       </td><td>False                   </td></tr>\n",
       "\t<tr><td>Magcargo                </td><td>Fire                    </td><td>Rock                    </td><td> 50                     </td><td> 50                     </td><td>120                     </td><td> 80                     </td><td> 80                     </td><td> 30                     </td><td>2                       </td><td>False                   </td></tr>\n",
       "\t<tr><td>Magby                   </td><td>Fire                    </td><td>                        </td><td> 45                     </td><td> 75                     </td><td> 37                     </td><td> 70                     </td><td> 55                     </td><td> 83                     </td><td>2                       </td><td>False                   </td></tr>\n",
       "\t<tr><td>Entei                   </td><td>Fire                    </td><td>                        </td><td>115                     </td><td>115                     </td><td> 85                     </td><td> 90                     </td><td> 75                     </td><td>100                     </td><td>2                       </td><td>True                    </td></tr>\n",
       "\t<tr><td>Ho-oh                   </td><td>Fire                    </td><td>Flying                  </td><td>106                     </td><td>130                     </td><td> 90                     </td><td>110                     </td><td>154                     </td><td> 90                     </td><td>2                       </td><td>True                    </td></tr>\n",
       "\t<tr><td>Torchic                 </td><td>Fire                    </td><td>                        </td><td> 45                     </td><td> 60                     </td><td> 40                     </td><td> 70                     </td><td> 50                     </td><td> 45                     </td><td>3                       </td><td>False                   </td></tr>\n",
       "\t<tr><td>Combusken               </td><td>Fire                    </td><td>Fighting                </td><td> 60                     </td><td> 85                     </td><td> 60                     </td><td> 85                     </td><td> 60                     </td><td> 55                     </td><td>3                       </td><td>False                   </td></tr>\n",
       "\t<tr><td>Blaziken                </td><td>Fire                    </td><td>Fighting                </td><td> 80                     </td><td>120                     </td><td> 70                     </td><td>110                     </td><td> 70                     </td><td> 80                     </td><td>3                       </td><td>False                   </td></tr>\n",
       "\t<tr><td>Mega Blaziken           </td><td>Fire                    </td><td>Fighting                </td><td> 80                     </td><td>160                     </td><td> 80                     </td><td>130                     </td><td> 80                     </td><td>100                     </td><td>3                       </td><td>False                   </td></tr>\n",
       "\t<tr><td>Numel                   </td><td>Fire                    </td><td>Ground                  </td><td> 60                     </td><td> 60                     </td><td> 40                     </td><td> 65                     </td><td> 45                     </td><td> 35                     </td><td>3                       </td><td>False                   </td></tr>\n",
       "\t<tr><td>Camerupt                </td><td>Fire                    </td><td>Ground                  </td><td> 70                     </td><td>100                     </td><td> 70                     </td><td>105                     </td><td> 75                     </td><td> 40                     </td><td>3                       </td><td>False                   </td></tr>\n",
       "\t<tr><td>Mega Camerupt           </td><td>Fire                    </td><td>Ground                  </td><td> 70                     </td><td>120                     </td><td>100                     </td><td>145                     </td><td>105                     </td><td> 20                     </td><td>3                       </td><td>False                   </td></tr>\n",
       "\t<tr><td>Torkoal                 </td><td>Fire                    </td><td>                        </td><td> 70                     </td><td> 85                     </td><td>140                     </td><td> 85                     </td><td> 70                     </td><td> 20                     </td><td>3                       </td><td>False                   </td></tr>\n",
       "\t<tr><td>Chimchar                </td><td>Fire                    </td><td>                        </td><td> 44                     </td><td> 58                     </td><td> 44                     </td><td> 58                     </td><td> 44                     </td><td> 61                     </td><td>4                       </td><td>False                   </td></tr>\n",
       "\t<tr><td>Monferno                </td><td>Fire                    </td><td>Fighting                </td><td> 64                     </td><td> 78                     </td><td> 52                     </td><td> 78                     </td><td> 52                     </td><td> 81                     </td><td>4                       </td><td>False                   </td></tr>\n",
       "\t<tr><td>Infernape               </td><td>Fire                    </td><td>Fighting                </td><td> 76                     </td><td>104                     </td><td> 71                     </td><td>104                     </td><td> 71                     </td><td>108                     </td><td>4                       </td><td>False                   </td></tr>\n",
       "\t<tr><td>Magmortar               </td><td>Fire                    </td><td>                        </td><td> 75                     </td><td> 95                     </td><td> 67                     </td><td>125                     </td><td> 95                     </td><td> 83                     </td><td>4                       </td><td>False                   </td></tr>\n",
       "\t<tr><td>Heatran                 </td><td>Fire                    </td><td>Steel                   </td><td> 91                     </td><td> 90                     </td><td>106                     </td><td>130                     </td><td>106                     </td><td> 77                     </td><td>4                       </td><td>True                    </td></tr>\n",
       "\t<tr><td>Tepig                   </td><td>Fire                    </td><td>                        </td><td> 65                     </td><td> 63                     </td><td> 45                     </td><td> 45                     </td><td> 45                     </td><td> 45                     </td><td>5                       </td><td>False                   </td></tr>\n",
       "\t<tr><td>Pignite                 </td><td>Fire                    </td><td>Fighting                </td><td> 90                     </td><td> 93                     </td><td> 55                     </td><td> 70                     </td><td> 55                     </td><td> 55                     </td><td>5                       </td><td>False                   </td></tr>\n",
       "\t<tr><td>Emboar                  </td><td>Fire                    </td><td>Fighting                </td><td>110                     </td><td>123                     </td><td> 65                     </td><td>100                     </td><td> 65                     </td><td> 65                     </td><td>5                       </td><td>False                   </td></tr>\n",
       "\t<tr><td>Pansear                 </td><td>Fire                    </td><td>                        </td><td> 50                     </td><td> 53                     </td><td> 48                     </td><td> 53                     </td><td> 48                     </td><td> 64                     </td><td>5                       </td><td>False                   </td></tr>\n",
       "\t<tr><td>Simisear                </td><td>Fire                    </td><td>                        </td><td> 75                     </td><td> 98                     </td><td> 63                     </td><td> 98                     </td><td> 63                     </td><td>101                     </td><td>5                       </td><td>False                   </td></tr>\n",
       "\t<tr><td>Darumaka                </td><td>Fire                    </td><td>                        </td><td> 70                     </td><td> 90                     </td><td> 45                     </td><td> 15                     </td><td> 45                     </td><td> 50                     </td><td>5                       </td><td>False                   </td></tr>\n",
       "\t<tr><td>Darmanitan Standard Mode</td><td>Fire                    </td><td>                        </td><td>105                     </td><td>140                     </td><td> 55                     </td><td> 30                     </td><td> 55                     </td><td> 95                     </td><td>5                       </td><td>False                   </td></tr>\n",
       "\t<tr><td>Darmanitan Zen Mode     </td><td>Fire                    </td><td>Psychic                 </td><td>105                     </td><td> 30                     </td><td>105                     </td><td>140                     </td><td>105                     </td><td> 55                     </td><td>5                       </td><td>False                   </td></tr>\n",
       "\t<tr><td>Heatmor                 </td><td>Fire                    </td><td>                        </td><td> 85                     </td><td> 97                     </td><td> 66                     </td><td>105                     </td><td> 66                     </td><td> 65                     </td><td>5                       </td><td>False                   </td></tr>\n",
       "\t<tr><td>Fennekin                </td><td>Fire                    </td><td>                        </td><td> 40                     </td><td> 45                     </td><td> 40                     </td><td> 62                     </td><td> 60                     </td><td> 60                     </td><td>6                       </td><td>False                   </td></tr>\n",
       "\t<tr><td>Braixen                 </td><td>Fire                    </td><td>                        </td><td> 59                     </td><td> 59                     </td><td> 58                     </td><td> 90                     </td><td> 70                     </td><td> 73                     </td><td>6                       </td><td>False                   </td></tr>\n",
       "\t<tr><td>Delphox                 </td><td>Fire                    </td><td>Psychic                 </td><td> 75                     </td><td> 69                     </td><td> 72                     </td><td>114                     </td><td>100                     </td><td>104                     </td><td>6                       </td><td>False                   </td></tr>\n",
       "\t<tr><td>Fletchinder             </td><td>Fire                    </td><td>Flying                  </td><td> 62                     </td><td> 73                     </td><td> 55                     </td><td> 56                     </td><td> 52                     </td><td> 84                     </td><td>6                       </td><td>False                   </td></tr>\n",
       "\t<tr><td>Talonflame              </td><td>Fire                    </td><td>Flying                  </td><td> 78                     </td><td> 81                     </td><td> 71                     </td><td> 74                     </td><td> 69                     </td><td>126                     </td><td>6                       </td><td>False                   </td></tr>\n",
       "\t<tr><td>Litleo                  </td><td>Fire                    </td><td>Normal                  </td><td> 62                     </td><td> 50                     </td><td> 58                     </td><td> 73                     </td><td> 54                     </td><td> 72                     </td><td>6                       </td><td>False                   </td></tr>\n",
       "\t<tr><td>Pyroar                  </td><td>Fire                    </td><td>Normal                  </td><td> 86                     </td><td> 68                     </td><td> 72                     </td><td>109                     </td><td> 66                     </td><td>106                     </td><td>6                       </td><td>False                   </td></tr>\n",
       "\t<tr><td>Volcanion               </td><td>Fire                    </td><td>Water                   </td><td> 80                     </td><td>110                     </td><td>120                     </td><td>130                     </td><td> 90                     </td><td> 70                     </td><td>6                       </td><td>True                    </td></tr>\n",
       "</tbody>\n",
       "</table>\n"
      ],
      "text/latex": [
       "\\begin{tabular}{r|lllllllllll}\n",
       " Name & Primary\\_Type & Secondary\\_Type & Health\\_Points & Attack & Defense & Special\\_Attack & Special\\_Defence & Speed & Generation & Legendary\\\\\n",
       "\\hline\n",
       "\t Charmander               & Fire                     &                          &  39                      &  52                      &  43                      &  60                      &  50                      &  65                      & 1                        & False                   \\\\\n",
       "\t Charmeleon               & Fire                     &                          &  58                      &  64                      &  58                      &  80                      &  65                      &  80                      & 1                        & False                   \\\\\n",
       "\t Charizard                & Fire                     & Flying                   &  78                      &  84                      &  78                      & 109                      &  85                      & 100                      & 1                        & False                   \\\\\n",
       "\t Mega Charizard X         & Fire                     & Dragon                   &  78                      & 130                      & 111                      & 130                      &  85                      & 100                      & 1                        & False                   \\\\\n",
       "\t Mega Charizard Y         & Fire                     & Flying                   &  78                      & 104                      &  78                      & 159                      & 115                      & 100                      & 1                        & False                   \\\\\n",
       "\t Vulpix                   & Fire                     &                          &  38                      &  41                      &  40                      &  50                      &  65                      &  65                      & 1                        & False                   \\\\\n",
       "\t Ninetales                & Fire                     &                          &  73                      &  76                      &  75                      &  81                      & 100                      & 100                      & 1                        & False                   \\\\\n",
       "\t Growlithe                & Fire                     &                          &  55                      &  70                      &  45                      &  70                      &  50                      &  60                      & 1                        & False                   \\\\\n",
       "\t Arcanine                 & Fire                     &                          &  90                      & 110                      &  80                      & 100                      &  80                      &  95                      & 1                        & False                   \\\\\n",
       "\t Ponyta                   & Fire                     &                          &  50                      &  85                      &  55                      &  65                      &  65                      &  90                      & 1                        & False                   \\\\\n",
       "\t Rapidash                 & Fire                     &                          &  65                      & 100                      &  70                      &  80                      &  80                      & 105                      & 1                        & False                   \\\\\n",
       "\t Magmar                   & Fire                     &                          &  65                      &  95                      &  57                      & 100                      &  85                      &  93                      & 1                        & False                   \\\\\n",
       "\t Flareon                  & Fire                     &                          &  65                      & 130                      &  60                      &  95                      & 110                      &  65                      & 1                        & False                   \\\\\n",
       "\t Moltres                  & Fire                     & Flying                   &  90                      & 100                      &  90                      & 125                      &  85                      &  90                      & 1                        & True                    \\\\\n",
       "\t Cyndaquil                & Fire                     &                          &  39                      &  52                      &  43                      &  60                      &  50                      &  65                      & 2                        & False                   \\\\\n",
       "\t Quilava                  & Fire                     &                          &  58                      &  64                      &  58                      &  80                      &  65                      &  80                      & 2                        & False                   \\\\\n",
       "\t Typhlosion               & Fire                     &                          &  78                      &  84                      &  78                      & 109                      &  85                      & 100                      & 2                        & False                   \\\\\n",
       "\t Slugma                   & Fire                     &                          &  40                      &  40                      &  40                      &  70                      &  40                      &  20                      & 2                        & False                   \\\\\n",
       "\t Magcargo                 & Fire                     & Rock                     &  50                      &  50                      & 120                      &  80                      &  80                      &  30                      & 2                        & False                   \\\\\n",
       "\t Magby                    & Fire                     &                          &  45                      &  75                      &  37                      &  70                      &  55                      &  83                      & 2                        & False                   \\\\\n",
       "\t Entei                    & Fire                     &                          & 115                      & 115                      &  85                      &  90                      &  75                      & 100                      & 2                        & True                    \\\\\n",
       "\t Ho-oh                    & Fire                     & Flying                   & 106                      & 130                      &  90                      & 110                      & 154                      &  90                      & 2                        & True                    \\\\\n",
       "\t Torchic                  & Fire                     &                          &  45                      &  60                      &  40                      &  70                      &  50                      &  45                      & 3                        & False                   \\\\\n",
       "\t Combusken                & Fire                     & Fighting                 &  60                      &  85                      &  60                      &  85                      &  60                      &  55                      & 3                        & False                   \\\\\n",
       "\t Blaziken                 & Fire                     & Fighting                 &  80                      & 120                      &  70                      & 110                      &  70                      &  80                      & 3                        & False                   \\\\\n",
       "\t Mega Blaziken            & Fire                     & Fighting                 &  80                      & 160                      &  80                      & 130                      &  80                      & 100                      & 3                        & False                   \\\\\n",
       "\t Numel                    & Fire                     & Ground                   &  60                      &  60                      &  40                      &  65                      &  45                      &  35                      & 3                        & False                   \\\\\n",
       "\t Camerupt                 & Fire                     & Ground                   &  70                      & 100                      &  70                      & 105                      &  75                      &  40                      & 3                        & False                   \\\\\n",
       "\t Mega Camerupt            & Fire                     & Ground                   &  70                      & 120                      & 100                      & 145                      & 105                      &  20                      & 3                        & False                   \\\\\n",
       "\t Torkoal                  & Fire                     &                          &  70                      &  85                      & 140                      &  85                      &  70                      &  20                      & 3                        & False                   \\\\\n",
       "\t Chimchar                 & Fire                     &                          &  44                      &  58                      &  44                      &  58                      &  44                      &  61                      & 4                        & False                   \\\\\n",
       "\t Monferno                 & Fire                     & Fighting                 &  64                      &  78                      &  52                      &  78                      &  52                      &  81                      & 4                        & False                   \\\\\n",
       "\t Infernape                & Fire                     & Fighting                 &  76                      & 104                      &  71                      & 104                      &  71                      & 108                      & 4                        & False                   \\\\\n",
       "\t Magmortar                & Fire                     &                          &  75                      &  95                      &  67                      & 125                      &  95                      &  83                      & 4                        & False                   \\\\\n",
       "\t Heatran                  & Fire                     & Steel                    &  91                      &  90                      & 106                      & 130                      & 106                      &  77                      & 4                        & True                    \\\\\n",
       "\t Tepig                    & Fire                     &                          &  65                      &  63                      &  45                      &  45                      &  45                      &  45                      & 5                        & False                   \\\\\n",
       "\t Pignite                  & Fire                     & Fighting                 &  90                      &  93                      &  55                      &  70                      &  55                      &  55                      & 5                        & False                   \\\\\n",
       "\t Emboar                   & Fire                     & Fighting                 & 110                      & 123                      &  65                      & 100                      &  65                      &  65                      & 5                        & False                   \\\\\n",
       "\t Pansear                  & Fire                     &                          &  50                      &  53                      &  48                      &  53                      &  48                      &  64                      & 5                        & False                   \\\\\n",
       "\t Simisear                 & Fire                     &                          &  75                      &  98                      &  63                      &  98                      &  63                      & 101                      & 5                        & False                   \\\\\n",
       "\t Darumaka                 & Fire                     &                          &  70                      &  90                      &  45                      &  15                      &  45                      &  50                      & 5                        & False                   \\\\\n",
       "\t Darmanitan Standard Mode & Fire                     &                          & 105                      & 140                      &  55                      &  30                      &  55                      &  95                      & 5                        & False                   \\\\\n",
       "\t Darmanitan Zen Mode      & Fire                     & Psychic                  & 105                      &  30                      & 105                      & 140                      & 105                      &  55                      & 5                        & False                   \\\\\n",
       "\t Heatmor                  & Fire                     &                          &  85                      &  97                      &  66                      & 105                      &  66                      &  65                      & 5                        & False                   \\\\\n",
       "\t Fennekin                 & Fire                     &                          &  40                      &  45                      &  40                      &  62                      &  60                      &  60                      & 6                        & False                   \\\\\n",
       "\t Braixen                  & Fire                     &                          &  59                      &  59                      &  58                      &  90                      &  70                      &  73                      & 6                        & False                   \\\\\n",
       "\t Delphox                  & Fire                     & Psychic                  &  75                      &  69                      &  72                      & 114                      & 100                      & 104                      & 6                        & False                   \\\\\n",
       "\t Fletchinder              & Fire                     & Flying                   &  62                      &  73                      &  55                      &  56                      &  52                      &  84                      & 6                        & False                   \\\\\n",
       "\t Talonflame               & Fire                     & Flying                   &  78                      &  81                      &  71                      &  74                      &  69                      & 126                      & 6                        & False                   \\\\\n",
       "\t Litleo                   & Fire                     & Normal                   &  62                      &  50                      &  58                      &  73                      &  54                      &  72                      & 6                        & False                   \\\\\n",
       "\t Pyroar                   & Fire                     & Normal                   &  86                      &  68                      &  72                      & 109                      &  66                      & 106                      & 6                        & False                   \\\\\n",
       "\t Volcanion                & Fire                     & Water                    &  80                      & 110                      & 120                      & 130                      &  90                      &  70                      & 6                        & True                    \\\\\n",
       "\\end{tabular}\n"
      ],
      "text/markdown": [
       "\n",
       "| Name | Primary_Type | Secondary_Type | Health_Points | Attack | Defense | Special_Attack | Special_Defence | Speed | Generation | Legendary |\n",
       "|---|---|---|---|---|---|---|---|---|---|---|\n",
       "| Charmander               | Fire                     |                          |  39                      |  52                      |  43                      |  60                      |  50                      |  65                      | 1                        | False                    |\n",
       "| Charmeleon               | Fire                     |                          |  58                      |  64                      |  58                      |  80                      |  65                      |  80                      | 1                        | False                    |\n",
       "| Charizard                | Fire                     | Flying                   |  78                      |  84                      |  78                      | 109                      |  85                      | 100                      | 1                        | False                    |\n",
       "| Mega Charizard X         | Fire                     | Dragon                   |  78                      | 130                      | 111                      | 130                      |  85                      | 100                      | 1                        | False                    |\n",
       "| Mega Charizard Y         | Fire                     | Flying                   |  78                      | 104                      |  78                      | 159                      | 115                      | 100                      | 1                        | False                    |\n",
       "| Vulpix                   | Fire                     |                          |  38                      |  41                      |  40                      |  50                      |  65                      |  65                      | 1                        | False                    |\n",
       "| Ninetales                | Fire                     |                          |  73                      |  76                      |  75                      |  81                      | 100                      | 100                      | 1                        | False                    |\n",
       "| Growlithe                | Fire                     |                          |  55                      |  70                      |  45                      |  70                      |  50                      |  60                      | 1                        | False                    |\n",
       "| Arcanine                 | Fire                     |                          |  90                      | 110                      |  80                      | 100                      |  80                      |  95                      | 1                        | False                    |\n",
       "| Ponyta                   | Fire                     |                          |  50                      |  85                      |  55                      |  65                      |  65                      |  90                      | 1                        | False                    |\n",
       "| Rapidash                 | Fire                     |                          |  65                      | 100                      |  70                      |  80                      |  80                      | 105                      | 1                        | False                    |\n",
       "| Magmar                   | Fire                     |                          |  65                      |  95                      |  57                      | 100                      |  85                      |  93                      | 1                        | False                    |\n",
       "| Flareon                  | Fire                     |                          |  65                      | 130                      |  60                      |  95                      | 110                      |  65                      | 1                        | False                    |\n",
       "| Moltres                  | Fire                     | Flying                   |  90                      | 100                      |  90                      | 125                      |  85                      |  90                      | 1                        | True                     |\n",
       "| Cyndaquil                | Fire                     |                          |  39                      |  52                      |  43                      |  60                      |  50                      |  65                      | 2                        | False                    |\n",
       "| Quilava                  | Fire                     |                          |  58                      |  64                      |  58                      |  80                      |  65                      |  80                      | 2                        | False                    |\n",
       "| Typhlosion               | Fire                     |                          |  78                      |  84                      |  78                      | 109                      |  85                      | 100                      | 2                        | False                    |\n",
       "| Slugma                   | Fire                     |                          |  40                      |  40                      |  40                      |  70                      |  40                      |  20                      | 2                        | False                    |\n",
       "| Magcargo                 | Fire                     | Rock                     |  50                      |  50                      | 120                      |  80                      |  80                      |  30                      | 2                        | False                    |\n",
       "| Magby                    | Fire                     |                          |  45                      |  75                      |  37                      |  70                      |  55                      |  83                      | 2                        | False                    |\n",
       "| Entei                    | Fire                     |                          | 115                      | 115                      |  85                      |  90                      |  75                      | 100                      | 2                        | True                     |\n",
       "| Ho-oh                    | Fire                     | Flying                   | 106                      | 130                      |  90                      | 110                      | 154                      |  90                      | 2                        | True                     |\n",
       "| Torchic                  | Fire                     |                          |  45                      |  60                      |  40                      |  70                      |  50                      |  45                      | 3                        | False                    |\n",
       "| Combusken                | Fire                     | Fighting                 |  60                      |  85                      |  60                      |  85                      |  60                      |  55                      | 3                        | False                    |\n",
       "| Blaziken                 | Fire                     | Fighting                 |  80                      | 120                      |  70                      | 110                      |  70                      |  80                      | 3                        | False                    |\n",
       "| Mega Blaziken            | Fire                     | Fighting                 |  80                      | 160                      |  80                      | 130                      |  80                      | 100                      | 3                        | False                    |\n",
       "| Numel                    | Fire                     | Ground                   |  60                      |  60                      |  40                      |  65                      |  45                      |  35                      | 3                        | False                    |\n",
       "| Camerupt                 | Fire                     | Ground                   |  70                      | 100                      |  70                      | 105                      |  75                      |  40                      | 3                        | False                    |\n",
       "| Mega Camerupt            | Fire                     | Ground                   |  70                      | 120                      | 100                      | 145                      | 105                      |  20                      | 3                        | False                    |\n",
       "| Torkoal                  | Fire                     |                          |  70                      |  85                      | 140                      |  85                      |  70                      |  20                      | 3                        | False                    |\n",
       "| Chimchar                 | Fire                     |                          |  44                      |  58                      |  44                      |  58                      |  44                      |  61                      | 4                        | False                    |\n",
       "| Monferno                 | Fire                     | Fighting                 |  64                      |  78                      |  52                      |  78                      |  52                      |  81                      | 4                        | False                    |\n",
       "| Infernape                | Fire                     | Fighting                 |  76                      | 104                      |  71                      | 104                      |  71                      | 108                      | 4                        | False                    |\n",
       "| Magmortar                | Fire                     |                          |  75                      |  95                      |  67                      | 125                      |  95                      |  83                      | 4                        | False                    |\n",
       "| Heatran                  | Fire                     | Steel                    |  91                      |  90                      | 106                      | 130                      | 106                      |  77                      | 4                        | True                     |\n",
       "| Tepig                    | Fire                     |                          |  65                      |  63                      |  45                      |  45                      |  45                      |  45                      | 5                        | False                    |\n",
       "| Pignite                  | Fire                     | Fighting                 |  90                      |  93                      |  55                      |  70                      |  55                      |  55                      | 5                        | False                    |\n",
       "| Emboar                   | Fire                     | Fighting                 | 110                      | 123                      |  65                      | 100                      |  65                      |  65                      | 5                        | False                    |\n",
       "| Pansear                  | Fire                     |                          |  50                      |  53                      |  48                      |  53                      |  48                      |  64                      | 5                        | False                    |\n",
       "| Simisear                 | Fire                     |                          |  75                      |  98                      |  63                      |  98                      |  63                      | 101                      | 5                        | False                    |\n",
       "| Darumaka                 | Fire                     |                          |  70                      |  90                      |  45                      |  15                      |  45                      |  50                      | 5                        | False                    |\n",
       "| Darmanitan Standard Mode | Fire                     |                          | 105                      | 140                      |  55                      |  30                      |  55                      |  95                      | 5                        | False                    |\n",
       "| Darmanitan Zen Mode      | Fire                     | Psychic                  | 105                      |  30                      | 105                      | 140                      | 105                      |  55                      | 5                        | False                    |\n",
       "| Heatmor                  | Fire                     |                          |  85                      |  97                      |  66                      | 105                      |  66                      |  65                      | 5                        | False                    |\n",
       "| Fennekin                 | Fire                     |                          |  40                      |  45                      |  40                      |  62                      |  60                      |  60                      | 6                        | False                    |\n",
       "| Braixen                  | Fire                     |                          |  59                      |  59                      |  58                      |  90                      |  70                      |  73                      | 6                        | False                    |\n",
       "| Delphox                  | Fire                     | Psychic                  |  75                      |  69                      |  72                      | 114                      | 100                      | 104                      | 6                        | False                    |\n",
       "| Fletchinder              | Fire                     | Flying                   |  62                      |  73                      |  55                      |  56                      |  52                      |  84                      | 6                        | False                    |\n",
       "| Talonflame               | Fire                     | Flying                   |  78                      |  81                      |  71                      |  74                      |  69                      | 126                      | 6                        | False                    |\n",
       "| Litleo                   | Fire                     | Normal                   |  62                      |  50                      |  58                      |  73                      |  54                      |  72                      | 6                        | False                    |\n",
       "| Pyroar                   | Fire                     | Normal                   |  86                      |  68                      |  72                      | 109                      |  66                      | 106                      | 6                        | False                    |\n",
       "| Volcanion                | Fire                     | Water                    |  80                      | 110                      | 120                      | 130                      |  90                      |  70                      | 6                        | True                     |\n",
       "\n"
      ],
      "text/plain": [
       "   Name                     Primary_Type Secondary_Type Health_Points Attack\n",
       "1  Charmander               Fire                         39            52   \n",
       "2  Charmeleon               Fire                         58            64   \n",
       "3  Charizard                Fire         Flying          78            84   \n",
       "4  Mega Charizard X         Fire         Dragon          78           130   \n",
       "5  Mega Charizard Y         Fire         Flying          78           104   \n",
       "6  Vulpix                   Fire                         38            41   \n",
       "7  Ninetales                Fire                         73            76   \n",
       "8  Growlithe                Fire                         55            70   \n",
       "9  Arcanine                 Fire                         90           110   \n",
       "10 Ponyta                   Fire                         50            85   \n",
       "11 Rapidash                 Fire                         65           100   \n",
       "12 Magmar                   Fire                         65            95   \n",
       "13 Flareon                  Fire                         65           130   \n",
       "14 Moltres                  Fire         Flying          90           100   \n",
       "15 Cyndaquil                Fire                         39            52   \n",
       "16 Quilava                  Fire                         58            64   \n",
       "17 Typhlosion               Fire                         78            84   \n",
       "18 Slugma                   Fire                         40            40   \n",
       "19 Magcargo                 Fire         Rock            50            50   \n",
       "20 Magby                    Fire                         45            75   \n",
       "21 Entei                    Fire                        115           115   \n",
       "22 Ho-oh                    Fire         Flying         106           130   \n",
       "23 Torchic                  Fire                         45            60   \n",
       "24 Combusken                Fire         Fighting        60            85   \n",
       "25 Blaziken                 Fire         Fighting        80           120   \n",
       "26 Mega Blaziken            Fire         Fighting        80           160   \n",
       "27 Numel                    Fire         Ground          60            60   \n",
       "28 Camerupt                 Fire         Ground          70           100   \n",
       "29 Mega Camerupt            Fire         Ground          70           120   \n",
       "30 Torkoal                  Fire                         70            85   \n",
       "31 Chimchar                 Fire                         44            58   \n",
       "32 Monferno                 Fire         Fighting        64            78   \n",
       "33 Infernape                Fire         Fighting        76           104   \n",
       "34 Magmortar                Fire                         75            95   \n",
       "35 Heatran                  Fire         Steel           91            90   \n",
       "36 Tepig                    Fire                         65            63   \n",
       "37 Pignite                  Fire         Fighting        90            93   \n",
       "38 Emboar                   Fire         Fighting       110           123   \n",
       "39 Pansear                  Fire                         50            53   \n",
       "40 Simisear                 Fire                         75            98   \n",
       "41 Darumaka                 Fire                         70            90   \n",
       "42 Darmanitan Standard Mode Fire                        105           140   \n",
       "43 Darmanitan Zen Mode      Fire         Psychic        105            30   \n",
       "44 Heatmor                  Fire                         85            97   \n",
       "45 Fennekin                 Fire                         40            45   \n",
       "46 Braixen                  Fire                         59            59   \n",
       "47 Delphox                  Fire         Psychic         75            69   \n",
       "48 Fletchinder              Fire         Flying          62            73   \n",
       "49 Talonflame               Fire         Flying          78            81   \n",
       "50 Litleo                   Fire         Normal          62            50   \n",
       "51 Pyroar                   Fire         Normal          86            68   \n",
       "52 Volcanion                Fire         Water           80           110   \n",
       "   Defense Special_Attack Special_Defence Speed Generation Legendary\n",
       "1   43      60             50              65   1          False    \n",
       "2   58      80             65              80   1          False    \n",
       "3   78     109             85             100   1          False    \n",
       "4  111     130             85             100   1          False    \n",
       "5   78     159            115             100   1          False    \n",
       "6   40      50             65              65   1          False    \n",
       "7   75      81            100             100   1          False    \n",
       "8   45      70             50              60   1          False    \n",
       "9   80     100             80              95   1          False    \n",
       "10  55      65             65              90   1          False    \n",
       "11  70      80             80             105   1          False    \n",
       "12  57     100             85              93   1          False    \n",
       "13  60      95            110              65   1          False    \n",
       "14  90     125             85              90   1          True     \n",
       "15  43      60             50              65   2          False    \n",
       "16  58      80             65              80   2          False    \n",
       "17  78     109             85             100   2          False    \n",
       "18  40      70             40              20   2          False    \n",
       "19 120      80             80              30   2          False    \n",
       "20  37      70             55              83   2          False    \n",
       "21  85      90             75             100   2          True     \n",
       "22  90     110            154              90   2          True     \n",
       "23  40      70             50              45   3          False    \n",
       "24  60      85             60              55   3          False    \n",
       "25  70     110             70              80   3          False    \n",
       "26  80     130             80             100   3          False    \n",
       "27  40      65             45              35   3          False    \n",
       "28  70     105             75              40   3          False    \n",
       "29 100     145            105              20   3          False    \n",
       "30 140      85             70              20   3          False    \n",
       "31  44      58             44              61   4          False    \n",
       "32  52      78             52              81   4          False    \n",
       "33  71     104             71             108   4          False    \n",
       "34  67     125             95              83   4          False    \n",
       "35 106     130            106              77   4          True     \n",
       "36  45      45             45              45   5          False    \n",
       "37  55      70             55              55   5          False    \n",
       "38  65     100             65              65   5          False    \n",
       "39  48      53             48              64   5          False    \n",
       "40  63      98             63             101   5          False    \n",
       "41  45      15             45              50   5          False    \n",
       "42  55      30             55              95   5          False    \n",
       "43 105     140            105              55   5          False    \n",
       "44  66     105             66              65   5          False    \n",
       "45  40      62             60              60   6          False    \n",
       "46  58      90             70              73   6          False    \n",
       "47  72     114            100             104   6          False    \n",
       "48  55      56             52              84   6          False    \n",
       "49  71      74             69             126   6          False    \n",
       "50  58      73             54              72   6          False    \n",
       "51  72     109             66             106   6          False    \n",
       "52 120     130             90              70   6          True     "
      ]
     },
     "metadata": {},
     "output_type": "display_data"
    }
   ],
   "source": [
    "Fire_pokemon"
   ]
  },
  {
   "cell_type": "code",
   "execution_count": 32,
   "metadata": {},
   "outputs": [],
   "source": [
    "Fire_Fighting_pokemon <- Fire_pokemon %>% filter(Secondary_Type==\"Fighting\")"
   ]
  },
  {
   "cell_type": "code",
   "execution_count": 33,
   "metadata": {},
   "outputs": [
    {
     "data": {
      "text/html": [
       "<table>\n",
       "<thead><tr><th scope=col>Name</th><th scope=col>Primary_Type</th><th scope=col>Secondary_Type</th><th scope=col>Health_Points</th><th scope=col>Attack</th><th scope=col>Defense</th><th scope=col>Special_Attack</th><th scope=col>Special_Defence</th><th scope=col>Speed</th><th scope=col>Generation</th><th scope=col>Legendary</th></tr></thead>\n",
       "<tbody>\n",
       "\t<tr><td>Combusken    </td><td>Fire         </td><td>Fighting     </td><td> 60          </td><td> 85          </td><td>60           </td><td> 85          </td><td>60           </td><td> 55          </td><td>3            </td><td>False        </td></tr>\n",
       "\t<tr><td>Blaziken     </td><td>Fire         </td><td>Fighting     </td><td> 80          </td><td>120          </td><td>70           </td><td>110          </td><td>70           </td><td> 80          </td><td>3            </td><td>False        </td></tr>\n",
       "\t<tr><td>Mega Blaziken</td><td>Fire         </td><td>Fighting     </td><td> 80          </td><td>160          </td><td>80           </td><td>130          </td><td>80           </td><td>100          </td><td>3            </td><td>False        </td></tr>\n",
       "\t<tr><td>Monferno     </td><td>Fire         </td><td>Fighting     </td><td> 64          </td><td> 78          </td><td>52           </td><td> 78          </td><td>52           </td><td> 81          </td><td>4            </td><td>False        </td></tr>\n",
       "\t<tr><td>Infernape    </td><td>Fire         </td><td>Fighting     </td><td> 76          </td><td>104          </td><td>71           </td><td>104          </td><td>71           </td><td>108          </td><td>4            </td><td>False        </td></tr>\n",
       "\t<tr><td>Pignite      </td><td>Fire         </td><td>Fighting     </td><td> 90          </td><td> 93          </td><td>55           </td><td> 70          </td><td>55           </td><td> 55          </td><td>5            </td><td>False        </td></tr>\n",
       "\t<tr><td>Emboar       </td><td>Fire         </td><td>Fighting     </td><td>110          </td><td>123          </td><td>65           </td><td>100          </td><td>65           </td><td> 65          </td><td>5            </td><td>False        </td></tr>\n",
       "</tbody>\n",
       "</table>\n"
      ],
      "text/latex": [
       "\\begin{tabular}{r|lllllllllll}\n",
       " Name & Primary\\_Type & Secondary\\_Type & Health\\_Points & Attack & Defense & Special\\_Attack & Special\\_Defence & Speed & Generation & Legendary\\\\\n",
       "\\hline\n",
       "\t Combusken     & Fire          & Fighting      &  60           &  85           & 60            &  85           & 60            &  55           & 3             & False        \\\\\n",
       "\t Blaziken      & Fire          & Fighting      &  80           & 120           & 70            & 110           & 70            &  80           & 3             & False        \\\\\n",
       "\t Mega Blaziken & Fire          & Fighting      &  80           & 160           & 80            & 130           & 80            & 100           & 3             & False        \\\\\n",
       "\t Monferno      & Fire          & Fighting      &  64           &  78           & 52            &  78           & 52            &  81           & 4             & False        \\\\\n",
       "\t Infernape     & Fire          & Fighting      &  76           & 104           & 71            & 104           & 71            & 108           & 4             & False        \\\\\n",
       "\t Pignite       & Fire          & Fighting      &  90           &  93           & 55            &  70           & 55            &  55           & 5             & False        \\\\\n",
       "\t Emboar        & Fire          & Fighting      & 110           & 123           & 65            & 100           & 65            &  65           & 5             & False        \\\\\n",
       "\\end{tabular}\n"
      ],
      "text/markdown": [
       "\n",
       "| Name | Primary_Type | Secondary_Type | Health_Points | Attack | Defense | Special_Attack | Special_Defence | Speed | Generation | Legendary |\n",
       "|---|---|---|---|---|---|---|---|---|---|---|\n",
       "| Combusken     | Fire          | Fighting      |  60           |  85           | 60            |  85           | 60            |  55           | 3             | False         |\n",
       "| Blaziken      | Fire          | Fighting      |  80           | 120           | 70            | 110           | 70            |  80           | 3             | False         |\n",
       "| Mega Blaziken | Fire          | Fighting      |  80           | 160           | 80            | 130           | 80            | 100           | 3             | False         |\n",
       "| Monferno      | Fire          | Fighting      |  64           |  78           | 52            |  78           | 52            |  81           | 4             | False         |\n",
       "| Infernape     | Fire          | Fighting      |  76           | 104           | 71            | 104           | 71            | 108           | 4             | False         |\n",
       "| Pignite       | Fire          | Fighting      |  90           |  93           | 55            |  70           | 55            |  55           | 5             | False         |\n",
       "| Emboar        | Fire          | Fighting      | 110           | 123           | 65            | 100           | 65            |  65           | 5             | False         |\n",
       "\n"
      ],
      "text/plain": [
       "  Name          Primary_Type Secondary_Type Health_Points Attack Defense\n",
       "1 Combusken     Fire         Fighting        60            85    60     \n",
       "2 Blaziken      Fire         Fighting        80           120    70     \n",
       "3 Mega Blaziken Fire         Fighting        80           160    80     \n",
       "4 Monferno      Fire         Fighting        64            78    52     \n",
       "5 Infernape     Fire         Fighting        76           104    71     \n",
       "6 Pignite       Fire         Fighting        90            93    55     \n",
       "7 Emboar        Fire         Fighting       110           123    65     \n",
       "  Special_Attack Special_Defence Speed Generation Legendary\n",
       "1  85            60               55   3          False    \n",
       "2 110            70               80   3          False    \n",
       "3 130            80              100   3          False    \n",
       "4  78            52               81   4          False    \n",
       "5 104            71              108   4          False    \n",
       "6  70            55               55   5          False    \n",
       "7 100            65               65   5          False    "
      ]
     },
     "metadata": {},
     "output_type": "display_data"
    }
   ],
   "source": [
    "Fire_Fighting_pokemon"
   ]
  },
  {
   "cell_type": "code",
   "execution_count": 34,
   "metadata": {},
   "outputs": [
    {
     "data": {
      "text/html": [
       "<ol class=list-inline>\n",
       "\t<li>78</li>\n",
       "\t<li>160</li>\n",
       "</ol>\n"
      ],
      "text/latex": [
       "\\begin{enumerate*}\n",
       "\\item 78\n",
       "\\item 160\n",
       "\\end{enumerate*}\n"
      ],
      "text/markdown": [
       "1. 78\n",
       "2. 160\n",
       "\n",
       "\n"
      ],
      "text/plain": [
       "[1]  78 160"
      ]
     },
     "metadata": {},
     "output_type": "display_data"
    }
   ],
   "source": [
    "range(Fire_Fighting_pokemon$Attack)"
   ]
  },
  {
   "cell_type": "code",
   "execution_count": 35,
   "metadata": {},
   "outputs": [],
   "source": [
    "My_Fire_Pokemon <- Fire_Fighting_pokemon %>% filter(Attack==160)"
   ]
  },
  {
   "cell_type": "code",
   "execution_count": 36,
   "metadata": {},
   "outputs": [
    {
     "data": {
      "text/html": [
       "<table>\n",
       "<thead><tr><th scope=col>Name</th><th scope=col>Primary_Type</th><th scope=col>Secondary_Type</th><th scope=col>Health_Points</th><th scope=col>Attack</th><th scope=col>Defense</th><th scope=col>Special_Attack</th><th scope=col>Special_Defence</th><th scope=col>Speed</th><th scope=col>Generation</th><th scope=col>Legendary</th></tr></thead>\n",
       "<tbody>\n",
       "\t<tr><td>Mega Blaziken</td><td>Fire         </td><td>Fighting     </td><td>80           </td><td>160          </td><td>80           </td><td>130          </td><td>80           </td><td>100          </td><td>3            </td><td>False        </td></tr>\n",
       "</tbody>\n",
       "</table>\n"
      ],
      "text/latex": [
       "\\begin{tabular}{r|lllllllllll}\n",
       " Name & Primary\\_Type & Secondary\\_Type & Health\\_Points & Attack & Defense & Special\\_Attack & Special\\_Defence & Speed & Generation & Legendary\\\\\n",
       "\\hline\n",
       "\t Mega Blaziken & Fire          & Fighting      & 80            & 160           & 80            & 130           & 80            & 100           & 3             & False        \\\\\n",
       "\\end{tabular}\n"
      ],
      "text/markdown": [
       "\n",
       "| Name | Primary_Type | Secondary_Type | Health_Points | Attack | Defense | Special_Attack | Special_Defence | Speed | Generation | Legendary |\n",
       "|---|---|---|---|---|---|---|---|---|---|---|\n",
       "| Mega Blaziken | Fire          | Fighting      | 80            | 160           | 80            | 130           | 80            | 100           | 3             | False         |\n",
       "\n"
      ],
      "text/plain": [
       "  Name          Primary_Type Secondary_Type Health_Points Attack Defense\n",
       "1 Mega Blaziken Fire         Fighting       80            160    80     \n",
       "  Special_Attack Special_Defence Speed Generation Legendary\n",
       "1 130            80              100   3          False    "
      ]
     },
     "metadata": {},
     "output_type": "display_data"
    }
   ],
   "source": [
    "My_Fire_Pokemon"
   ]
  },
  {
   "cell_type": "markdown",
   "metadata": {},
   "source": [
    "We selected our final Fire Pokemon that is Mega Blaziken."
   ]
  },
  {
   "cell_type": "markdown",
   "metadata": {},
   "source": [
    "We can now bind all our three pokemon in My pokemon \n",
    "\n",
    "and see our result in one place"
   ]
  },
  {
   "cell_type": "code",
   "execution_count": 37,
   "metadata": {},
   "outputs": [],
   "source": [
    "My_Pokemons <- rbind(My_Grass_Pokemon,My_Water_Pokemon,My_Fire_Pokemon)"
   ]
  },
  {
   "cell_type": "code",
   "execution_count": 38,
   "metadata": {},
   "outputs": [
    {
     "data": {
      "text/html": [
       "<table>\n",
       "<thead><tr><th scope=col>Name</th><th scope=col>Primary_Type</th><th scope=col>Secondary_Type</th><th scope=col>Health_Points</th><th scope=col>Attack</th><th scope=col>Defense</th><th scope=col>Special_Attack</th><th scope=col>Special_Defence</th><th scope=col>Speed</th><th scope=col>Generation</th><th scope=col>Legendary</th></tr></thead>\n",
       "<tbody>\n",
       "\t<tr><td>Roserade     </td><td>Grass        </td><td>Poison       </td><td>60           </td><td> 70          </td><td> 65          </td><td>125          </td><td>105          </td><td> 90          </td><td>4            </td><td>False        </td></tr>\n",
       "\t<tr><td>Mega Slowbro </td><td>Water        </td><td>Psychic      </td><td>95           </td><td> 75          </td><td>180          </td><td>130          </td><td> 80          </td><td> 30          </td><td>1            </td><td>False        </td></tr>\n",
       "\t<tr><td>Mega Blaziken</td><td>Fire         </td><td>Fighting     </td><td>80           </td><td>160          </td><td> 80          </td><td>130          </td><td> 80          </td><td>100          </td><td>3            </td><td>False        </td></tr>\n",
       "</tbody>\n",
       "</table>\n"
      ],
      "text/latex": [
       "\\begin{tabular}{r|lllllllllll}\n",
       " Name & Primary\\_Type & Secondary\\_Type & Health\\_Points & Attack & Defense & Special\\_Attack & Special\\_Defence & Speed & Generation & Legendary\\\\\n",
       "\\hline\n",
       "\t Roserade      & Grass         & Poison        & 60            &  70           &  65           & 125           & 105           &  90           & 4             & False        \\\\\n",
       "\t Mega Slowbro  & Water         & Psychic       & 95            &  75           & 180           & 130           &  80           &  30           & 1             & False        \\\\\n",
       "\t Mega Blaziken & Fire          & Fighting      & 80            & 160           &  80           & 130           &  80           & 100           & 3             & False        \\\\\n",
       "\\end{tabular}\n"
      ],
      "text/markdown": [
       "\n",
       "| Name | Primary_Type | Secondary_Type | Health_Points | Attack | Defense | Special_Attack | Special_Defence | Speed | Generation | Legendary |\n",
       "|---|---|---|---|---|---|---|---|---|---|---|\n",
       "| Roserade      | Grass         | Poison        | 60            |  70           |  65           | 125           | 105           |  90           | 4             | False         |\n",
       "| Mega Slowbro  | Water         | Psychic       | 95            |  75           | 180           | 130           |  80           |  30           | 1             | False         |\n",
       "| Mega Blaziken | Fire          | Fighting      | 80            | 160           |  80           | 130           |  80           | 100           | 3             | False         |\n",
       "\n"
      ],
      "text/plain": [
       "  Name          Primary_Type Secondary_Type Health_Points Attack Defense\n",
       "1 Roserade      Grass        Poison         60             70     65    \n",
       "2 Mega Slowbro  Water        Psychic        95             75    180    \n",
       "3 Mega Blaziken Fire         Fighting       80            160     80    \n",
       "  Special_Attack Special_Defence Speed Generation Legendary\n",
       "1 125            105              90   4          False    \n",
       "2 130             80              30   1          False    \n",
       "3 130             80             100   3          False    "
      ]
     },
     "metadata": {},
     "output_type": "display_data"
    }
   ],
   "source": [
    "My_Pokemons"
   ]
  },
  {
   "cell_type": "markdown",
   "metadata": {},
   "source": [
    "## (REGRESSION)\n",
    "### Understand what are the factors influencing a Pokemon's attack! "
   ]
  },
  {
   "cell_type": "markdown",
   "metadata": {},
   "source": [
    "So here we are using __Linear Regression__ "
   ]
  },
  {
   "cell_type": "code",
   "execution_count": 39,
   "metadata": {},
   "outputs": [
    {
     "name": "stderr",
     "output_type": "stream",
     "text": [
      "Warning message:\n",
      "\"package 'caTools' was built under R version 3.6.3\""
     ]
    }
   ],
   "source": [
    "# Splitting data into train and test sets\n",
    "#library(MASS)\n",
    "library(caTools)"
   ]
  },
  {
   "cell_type": "code",
   "execution_count": 40,
   "metadata": {},
   "outputs": [],
   "source": [
    "split_index <- sample.split(pokemon$Attack,SplitRatio =0.65)"
   ]
  },
  {
   "cell_type": "code",
   "execution_count": 41,
   "metadata": {},
   "outputs": [],
   "source": [
    "train1 <- subset(pokemon,split_index==T)"
   ]
  },
  {
   "cell_type": "code",
   "execution_count": 42,
   "metadata": {},
   "outputs": [],
   "source": [
    "test1 <- subset(pokemon,split_index==F)"
   ]
  },
  {
   "cell_type": "markdown",
   "metadata": {},
   "source": [
    "#### Building Model 1 \n",
    "#### Attack VS Defense"
   ]
  },
  {
   "cell_type": "code",
   "execution_count": 43,
   "metadata": {},
   "outputs": [],
   "source": [
    "mod_regress <- lm(Attack~Defense,data = train1)"
   ]
  },
  {
   "cell_type": "code",
   "execution_count": 44,
   "metadata": {},
   "outputs": [],
   "source": [
    "result_regress <- predict(mod_regress,test1)"
   ]
  },
  {
   "cell_type": "code",
   "execution_count": 45,
   "metadata": {},
   "outputs": [],
   "source": [
    "Final_data <- cbind(Actual = test1$Attack, predicted=result_regress)"
   ]
  },
  {
   "cell_type": "code",
   "execution_count": 46,
   "metadata": {},
   "outputs": [],
   "source": [
    "Final_data <- as.data.frame(Final_data)"
   ]
  },
  {
   "cell_type": "code",
   "execution_count": 47,
   "metadata": {},
   "outputs": [
    {
     "data": {
      "text/html": [
       "<table>\n",
       "<thead><tr><th></th><th scope=col>Actual</th><th scope=col>predicted</th></tr></thead>\n",
       "<tbody>\n",
       "\t<tr><th scope=row>1</th><td> 49      </td><td> 67.28371</td></tr>\n",
       "\t<tr><th scope=row>3</th><td> 82      </td><td> 83.63845</td></tr>\n",
       "\t<tr><th scope=row>4</th><td>100      </td><td>102.87932</td></tr>\n",
       "\t<tr><th scope=row>6</th><td> 64      </td><td> 71.61290</td></tr>\n",
       "\t<tr><th scope=row>8</th><td>130      </td><td> 97.10706</td></tr>\n",
       "\t<tr><th scope=row>14</th><td> 30      </td><td> 60.54940</td></tr>\n",
       "\t<tr><th scope=row>21</th><td> 45      </td><td> 62.95451</td></tr>\n",
       "\t<tr><th scope=row>23</th><td> 80      </td><td> 79.79027</td></tr>\n",
       "\t<tr><th scope=row>24</th><td> 80      </td><td> 82.19538</td></tr>\n",
       "\t<tr><th scope=row>29</th><td> 60      </td><td> 64.87860</td></tr>\n",
       "\t<tr><th scope=row>32</th><td> 90      </td><td> 70.16984</td></tr>\n",
       "\t<tr><th scope=row>33</th><td> 75      </td><td> 84.60049</td></tr>\n",
       "\t<tr><th scope=row>34</th><td>100      </td><td> 96.62604</td></tr>\n",
       "\t<tr><th scope=row>35</th><td> 47      </td><td> 68.72677</td></tr>\n",
       "\t<tr><th scope=row>38</th><td> 57      </td><td> 62.95451</td></tr>\n",
       "\t<tr><th scope=row>41</th><td> 45      </td><td> 66.80269</td></tr>\n",
       "\t<tr><th scope=row>43</th><td> 41      </td><td> 62.95451</td></tr>\n",
       "\t<tr><th scope=row>47</th><td> 45      </td><td> 60.54940</td></tr>\n",
       "\t<tr><th scope=row>49</th><td> 50      </td><td> 70.16984</td></tr>\n",
       "\t<tr><th scope=row>56</th><td> 55      </td><td> 55.73919</td></tr>\n",
       "\t<tr><th scope=row>60</th><td> 52      </td><td> 66.80269</td></tr>\n",
       "\t<tr><th scope=row>61</th><td> 82      </td><td> 81.23334</td></tr>\n",
       "\t<tr><th scope=row>63</th><td>105      </td><td> 72.57495</td></tr>\n",
       "\t<tr><th scope=row>64</th><td> 70      </td><td> 65.35962</td></tr>\n",
       "\t<tr><th scope=row>66</th><td> 50      </td><td> 62.95451</td></tr>\n",
       "\t<tr><th scope=row>68</th><td> 95      </td><td> 89.41071</td></tr>\n",
       "\t<tr><th scope=row>74</th><td>100      </td><td> 77.38517</td></tr>\n",
       "\t<tr><th scope=row>76</th><td> 75      </td><td> 60.54940</td></tr>\n",
       "\t<tr><th scope=row>82</th><td> 95      </td><td> 99.03115</td></tr>\n",
       "\t<tr><th scope=row>91</th><td> 65      </td><td> 70.16984</td></tr>\n",
       "\t<tr><th scope=row>...</th><td>...</td><td>...</td></tr>\n",
       "\t<tr><th scope=row>698</th><td> 85      </td><td> 70.16984</td></tr>\n",
       "\t<tr><th scope=row>700</th><td> 90      </td><td>105.76545</td></tr>\n",
       "\t<tr><th scope=row>702</th><td> 90      </td><td> 78.34721</td></tr>\n",
       "\t<tr><th scope=row>708</th><td>150      </td><td>101.43625</td></tr>\n",
       "\t<tr><th scope=row>715</th><td> 72      </td><td> 87.00560</td></tr>\n",
       "\t<tr><th scope=row>716</th><td> 77      </td><td> 80.75232</td></tr>\n",
       "\t<tr><th scope=row>719</th><td> 61      </td><td> 74.98006</td></tr>\n",
       "\t<tr><th scope=row>726</th><td> 63      </td><td> 68.72677</td></tr>\n",
       "\t<tr><th scope=row>727</th><td> 95      </td><td> 75.94210</td></tr>\n",
       "\t<tr><th scope=row>729</th><td> 56      </td><td> 80.75232</td></tr>\n",
       "\t<tr><th scope=row>732</th><td> 81      </td><td> 77.86619</td></tr>\n",
       "\t<tr><th scope=row>735</th><td> 52      </td><td> 67.76473</td></tr>\n",
       "\t<tr><th scope=row>742</th><td>100      </td><td> 73.53699</td></tr>\n",
       "\t<tr><th scope=row>745</th><td> 80      </td><td> 72.57495</td></tr>\n",
       "\t<tr><th scope=row>746</th><td> 48      </td><td> 69.68882</td></tr>\n",
       "\t<tr><th scope=row>749</th><td> 80      </td><td> 91.81582</td></tr>\n",
       "\t<tr><th scope=row>751</th><td>150      </td><td> 67.76473</td></tr>\n",
       "\t<tr><th scope=row>752</th><td> 50      </td><td>115.86691</td></tr>\n",
       "\t<tr><th scope=row>764</th><td> 73      </td><td> 86.04356</td></tr>\n",
       "\t<tr><th scope=row>765</th><td> 38      </td><td> 59.58736</td></tr>\n",
       "\t<tr><th scope=row>767</th><td> 89      </td><td> 80.75232</td></tr>\n",
       "\t<tr><th scope=row>769</th><td> 59      </td><td> 67.76473</td></tr>\n",
       "\t<tr><th scope=row>778</th><td> 80      </td><td> 87.48662</td></tr>\n",
       "\t<tr><th scope=row>784</th><td> 66      </td><td> 77.38517</td></tr>\n",
       "\t<tr><th scope=row>786</th><td> 85      </td><td>102.39830</td></tr>\n",
       "\t<tr><th scope=row>788</th><td>100      </td><td>102.39830</td></tr>\n",
       "\t<tr><th scope=row>790</th><td>117      </td><td>132.22165</td></tr>\n",
       "\t<tr><th scope=row>794</th><td>131      </td><td> 89.41071</td></tr>\n",
       "\t<tr><th scope=row>799</th><td>160      </td><td> 72.57495</td></tr>\n",
       "\t<tr><th scope=row>800</th><td>110      </td><td>101.43625</td></tr>\n",
       "</tbody>\n",
       "</table>\n"
      ],
      "text/latex": [
       "\\begin{tabular}{r|ll}\n",
       "  & Actual & predicted\\\\\n",
       "\\hline\n",
       "\t1 &  49       &  67.28371\\\\\n",
       "\t3 &  82       &  83.63845\\\\\n",
       "\t4 & 100       & 102.87932\\\\\n",
       "\t6 &  64       &  71.61290\\\\\n",
       "\t8 & 130       &  97.10706\\\\\n",
       "\t14 &  30       &  60.54940\\\\\n",
       "\t21 &  45       &  62.95451\\\\\n",
       "\t23 &  80       &  79.79027\\\\\n",
       "\t24 &  80       &  82.19538\\\\\n",
       "\t29 &  60       &  64.87860\\\\\n",
       "\t32 &  90       &  70.16984\\\\\n",
       "\t33 &  75       &  84.60049\\\\\n",
       "\t34 & 100       &  96.62604\\\\\n",
       "\t35 &  47       &  68.72677\\\\\n",
       "\t38 &  57       &  62.95451\\\\\n",
       "\t41 &  45       &  66.80269\\\\\n",
       "\t43 &  41       &  62.95451\\\\\n",
       "\t47 &  45       &  60.54940\\\\\n",
       "\t49 &  50       &  70.16984\\\\\n",
       "\t56 &  55       &  55.73919\\\\\n",
       "\t60 &  52       &  66.80269\\\\\n",
       "\t61 &  82       &  81.23334\\\\\n",
       "\t63 & 105       &  72.57495\\\\\n",
       "\t64 &  70       &  65.35962\\\\\n",
       "\t66 &  50       &  62.95451\\\\\n",
       "\t68 &  95       &  89.41071\\\\\n",
       "\t74 & 100       &  77.38517\\\\\n",
       "\t76 &  75       &  60.54940\\\\\n",
       "\t82 &  95       &  99.03115\\\\\n",
       "\t91 &  65       &  70.16984\\\\\n",
       "\t... & ... & ...\\\\\n",
       "\t698 &  85       &  70.16984\\\\\n",
       "\t700 &  90       & 105.76545\\\\\n",
       "\t702 &  90       &  78.34721\\\\\n",
       "\t708 & 150       & 101.43625\\\\\n",
       "\t715 &  72       &  87.00560\\\\\n",
       "\t716 &  77       &  80.75232\\\\\n",
       "\t719 &  61       &  74.98006\\\\\n",
       "\t726 &  63       &  68.72677\\\\\n",
       "\t727 &  95       &  75.94210\\\\\n",
       "\t729 &  56       &  80.75232\\\\\n",
       "\t732 &  81       &  77.86619\\\\\n",
       "\t735 &  52       &  67.76473\\\\\n",
       "\t742 & 100       &  73.53699\\\\\n",
       "\t745 &  80       &  72.57495\\\\\n",
       "\t746 &  48       &  69.68882\\\\\n",
       "\t749 &  80       &  91.81582\\\\\n",
       "\t751 & 150       &  67.76473\\\\\n",
       "\t752 &  50       & 115.86691\\\\\n",
       "\t764 &  73       &  86.04356\\\\\n",
       "\t765 &  38       &  59.58736\\\\\n",
       "\t767 &  89       &  80.75232\\\\\n",
       "\t769 &  59       &  67.76473\\\\\n",
       "\t778 &  80       &  87.48662\\\\\n",
       "\t784 &  66       &  77.38517\\\\\n",
       "\t786 &  85       & 102.39830\\\\\n",
       "\t788 & 100       & 102.39830\\\\\n",
       "\t790 & 117       & 132.22165\\\\\n",
       "\t794 & 131       &  89.41071\\\\\n",
       "\t799 & 160       &  72.57495\\\\\n",
       "\t800 & 110       & 101.43625\\\\\n",
       "\\end{tabular}\n"
      ],
      "text/markdown": [
       "\n",
       "| <!--/--> | Actual | predicted |\n",
       "|---|---|---|\n",
       "| 1 |  49       |  67.28371 |\n",
       "| 3 |  82       |  83.63845 |\n",
       "| 4 | 100       | 102.87932 |\n",
       "| 6 |  64       |  71.61290 |\n",
       "| 8 | 130       |  97.10706 |\n",
       "| 14 |  30       |  60.54940 |\n",
       "| 21 |  45       |  62.95451 |\n",
       "| 23 |  80       |  79.79027 |\n",
       "| 24 |  80       |  82.19538 |\n",
       "| 29 |  60       |  64.87860 |\n",
       "| 32 |  90       |  70.16984 |\n",
       "| 33 |  75       |  84.60049 |\n",
       "| 34 | 100       |  96.62604 |\n",
       "| 35 |  47       |  68.72677 |\n",
       "| 38 |  57       |  62.95451 |\n",
       "| 41 |  45       |  66.80269 |\n",
       "| 43 |  41       |  62.95451 |\n",
       "| 47 |  45       |  60.54940 |\n",
       "| 49 |  50       |  70.16984 |\n",
       "| 56 |  55       |  55.73919 |\n",
       "| 60 |  52       |  66.80269 |\n",
       "| 61 |  82       |  81.23334 |\n",
       "| 63 | 105       |  72.57495 |\n",
       "| 64 |  70       |  65.35962 |\n",
       "| 66 |  50       |  62.95451 |\n",
       "| 68 |  95       |  89.41071 |\n",
       "| 74 | 100       |  77.38517 |\n",
       "| 76 |  75       |  60.54940 |\n",
       "| 82 |  95       |  99.03115 |\n",
       "| 91 |  65       |  70.16984 |\n",
       "| ... | ... | ... |\n",
       "| 698 |  85       |  70.16984 |\n",
       "| 700 |  90       | 105.76545 |\n",
       "| 702 |  90       |  78.34721 |\n",
       "| 708 | 150       | 101.43625 |\n",
       "| 715 |  72       |  87.00560 |\n",
       "| 716 |  77       |  80.75232 |\n",
       "| 719 |  61       |  74.98006 |\n",
       "| 726 |  63       |  68.72677 |\n",
       "| 727 |  95       |  75.94210 |\n",
       "| 729 |  56       |  80.75232 |\n",
       "| 732 |  81       |  77.86619 |\n",
       "| 735 |  52       |  67.76473 |\n",
       "| 742 | 100       |  73.53699 |\n",
       "| 745 |  80       |  72.57495 |\n",
       "| 746 |  48       |  69.68882 |\n",
       "| 749 |  80       |  91.81582 |\n",
       "| 751 | 150       |  67.76473 |\n",
       "| 752 |  50       | 115.86691 |\n",
       "| 764 |  73       |  86.04356 |\n",
       "| 765 |  38       |  59.58736 |\n",
       "| 767 |  89       |  80.75232 |\n",
       "| 769 |  59       |  67.76473 |\n",
       "| 778 |  80       |  87.48662 |\n",
       "| 784 |  66       |  77.38517 |\n",
       "| 786 |  85       | 102.39830 |\n",
       "| 788 | 100       | 102.39830 |\n",
       "| 790 | 117       | 132.22165 |\n",
       "| 794 | 131       |  89.41071 |\n",
       "| 799 | 160       |  72.57495 |\n",
       "| 800 | 110       | 101.43625 |\n",
       "\n"
      ],
      "text/plain": [
       "    Actual predicted\n",
       "1    49     67.28371\n",
       "3    82     83.63845\n",
       "4   100    102.87932\n",
       "6    64     71.61290\n",
       "8   130     97.10706\n",
       "14   30     60.54940\n",
       "21   45     62.95451\n",
       "23   80     79.79027\n",
       "24   80     82.19538\n",
       "29   60     64.87860\n",
       "32   90     70.16984\n",
       "33   75     84.60049\n",
       "34  100     96.62604\n",
       "35   47     68.72677\n",
       "38   57     62.95451\n",
       "41   45     66.80269\n",
       "43   41     62.95451\n",
       "47   45     60.54940\n",
       "49   50     70.16984\n",
       "56   55     55.73919\n",
       "60   52     66.80269\n",
       "61   82     81.23334\n",
       "63  105     72.57495\n",
       "64   70     65.35962\n",
       "66   50     62.95451\n",
       "68   95     89.41071\n",
       "74  100     77.38517\n",
       "76   75     60.54940\n",
       "82   95     99.03115\n",
       "91   65     70.16984\n",
       "... ...    ...      \n",
       "698  85     70.16984\n",
       "700  90    105.76545\n",
       "702  90     78.34721\n",
       "708 150    101.43625\n",
       "715  72     87.00560\n",
       "716  77     80.75232\n",
       "719  61     74.98006\n",
       "726  63     68.72677\n",
       "727  95     75.94210\n",
       "729  56     80.75232\n",
       "732  81     77.86619\n",
       "735  52     67.76473\n",
       "742 100     73.53699\n",
       "745  80     72.57495\n",
       "746  48     69.68882\n",
       "749  80     91.81582\n",
       "751 150     67.76473\n",
       "752  50    115.86691\n",
       "764  73     86.04356\n",
       "765  38     59.58736\n",
       "767  89     80.75232\n",
       "769  59     67.76473\n",
       "778  80     87.48662\n",
       "784  66     77.38517\n",
       "786  85    102.39830\n",
       "788 100    102.39830\n",
       "790 117    132.22165\n",
       "794 131     89.41071\n",
       "799 160     72.57495\n",
       "800 110    101.43625"
      ]
     },
     "metadata": {},
     "output_type": "display_data"
    }
   ],
   "source": [
    "Final_data"
   ]
  },
  {
   "cell_type": "markdown",
   "metadata": {},
   "source": [
    "Now we will find the error in prediction"
   ]
  },
  {
   "cell_type": "code",
   "execution_count": 48,
   "metadata": {},
   "outputs": [],
   "source": [
    "error <- (Final_data$Actual - Final_data$predicted)"
   ]
  },
  {
   "cell_type": "code",
   "execution_count": 49,
   "metadata": {},
   "outputs": [],
   "source": [
    "Final_data <- cbind(Final_data,error)"
   ]
  },
  {
   "cell_type": "code",
   "execution_count": 50,
   "metadata": {},
   "outputs": [
    {
     "data": {
      "text/html": [
       "<table>\n",
       "<thead><tr><th></th><th scope=col>Actual</th><th scope=col>predicted</th><th scope=col>error</th></tr></thead>\n",
       "<tbody>\n",
       "\t<tr><th scope=row>1</th><td> 49        </td><td> 67.28371  </td><td>-18.2837085</td></tr>\n",
       "\t<tr><th scope=row>3</th><td> 82        </td><td> 83.63845  </td><td> -1.6384490</td></tr>\n",
       "\t<tr><th scope=row>4</th><td>100        </td><td>102.87932  </td><td> -2.8793201</td></tr>\n",
       "\t<tr><th scope=row>6</th><td> 64        </td><td> 71.61290  </td><td> -7.6129045</td></tr>\n",
       "\t<tr><th scope=row>8</th><td>130        </td><td> 97.10706  </td><td> 32.8929412</td></tr>\n",
       "\t<tr><th scope=row>14</th><td> 30        </td><td> 60.54940  </td><td>-30.5494036</td></tr>\n",
       "\t<tr><th scope=row>21</th><td> 45        </td><td> 62.95451  </td><td>-17.9545125</td></tr>\n",
       "\t<tr><th scope=row>23</th><td> 80        </td><td> 79.79027  </td><td>  0.2097253</td></tr>\n",
       "\t<tr><th scope=row>24</th><td> 80        </td><td> 82.19538  </td><td> -2.1953836</td></tr>\n",
       "\t<tr><th scope=row>29</th><td> 60        </td><td> 64.87860  </td><td> -4.8785996</td></tr>\n",
       "\t<tr><th scope=row>32</th><td> 90        </td><td> 70.16984  </td><td> 19.8301608</td></tr>\n",
       "\t<tr><th scope=row>33</th><td> 75        </td><td> 84.60049  </td><td> -9.6004925</td></tr>\n",
       "\t<tr><th scope=row>34</th><td>100        </td><td> 96.62604  </td><td>  3.3739630</td></tr>\n",
       "\t<tr><th scope=row>35</th><td> 47        </td><td> 68.72677  </td><td>-21.7267739</td></tr>\n",
       "\t<tr><th scope=row>38</th><td> 57        </td><td> 62.95451  </td><td> -5.9545125</td></tr>\n",
       "\t<tr><th scope=row>41</th><td> 45        </td><td> 66.80269  </td><td>-21.8026867</td></tr>\n",
       "\t<tr><th scope=row>43</th><td> 41        </td><td> 62.95451  </td><td>-21.9545125</td></tr>\n",
       "\t<tr><th scope=row>47</th><td> 45        </td><td> 60.54940  </td><td>-15.5494036</td></tr>\n",
       "\t<tr><th scope=row>49</th><td> 50        </td><td> 70.16984  </td><td>-20.1698392</td></tr>\n",
       "\t<tr><th scope=row>56</th><td> 55        </td><td> 55.73919  </td><td> -0.7391858</td></tr>\n",
       "\t<tr><th scope=row>60</th><td> 52        </td><td> 66.80269  </td><td>-14.8026867</td></tr>\n",
       "\t<tr><th scope=row>61</th><td> 82        </td><td> 81.23334  </td><td>  0.7666599</td></tr>\n",
       "\t<tr><th scope=row>63</th><td>105        </td><td> 72.57495  </td><td> 32.4250519</td></tr>\n",
       "\t<tr><th scope=row>64</th><td> 70        </td><td> 65.35962  </td><td>  4.6403786</td></tr>\n",
       "\t<tr><th scope=row>66</th><td> 50        </td><td> 62.95451  </td><td>-12.9545125</td></tr>\n",
       "\t<tr><th scope=row>68</th><td> 95        </td><td> 89.41071  </td><td>  5.5892897</td></tr>\n",
       "\t<tr><th scope=row>74</th><td>100        </td><td> 77.38517  </td><td> 22.6148341</td></tr>\n",
       "\t<tr><th scope=row>76</th><td> 75        </td><td> 60.54940  </td><td> 14.4505964</td></tr>\n",
       "\t<tr><th scope=row>82</th><td> 95        </td><td> 99.03115  </td><td> -4.0311459</td></tr>\n",
       "\t<tr><th scope=row>91</th><td> 65        </td><td> 70.16984  </td><td> -5.1698392</td></tr>\n",
       "\t<tr><th scope=row>...</th><td>...</td><td>...</td><td>...</td></tr>\n",
       "\t<tr><th scope=row>698</th><td> 85       </td><td> 70.16984 </td><td> 14.830161</td></tr>\n",
       "\t<tr><th scope=row>700</th><td> 90       </td><td>105.76545 </td><td>-15.765451</td></tr>\n",
       "\t<tr><th scope=row>702</th><td> 90       </td><td> 78.34721 </td><td> 11.652791</td></tr>\n",
       "\t<tr><th scope=row>708</th><td>150       </td><td>101.43625 </td><td> 48.563745</td></tr>\n",
       "\t<tr><th scope=row>715</th><td> 72       </td><td> 87.00560 </td><td>-15.005601</td></tr>\n",
       "\t<tr><th scope=row>716</th><td> 77       </td><td> 80.75232 </td><td> -3.752318</td></tr>\n",
       "\t<tr><th scope=row>719</th><td> 61       </td><td> 74.98006 </td><td>-13.980057</td></tr>\n",
       "\t<tr><th scope=row>726</th><td> 63       </td><td> 68.72677 </td><td> -5.726774</td></tr>\n",
       "\t<tr><th scope=row>727</th><td> 95       </td><td> 75.94210 </td><td> 19.057899</td></tr>\n",
       "\t<tr><th scope=row>729</th><td> 56       </td><td> 80.75232 </td><td>-24.752318</td></tr>\n",
       "\t<tr><th scope=row>732</th><td> 81       </td><td> 77.86619 </td><td>  3.133812</td></tr>\n",
       "\t<tr><th scope=row>735</th><td> 52       </td><td> 67.76473 </td><td>-15.764730</td></tr>\n",
       "\t<tr><th scope=row>742</th><td>100       </td><td> 73.53699 </td><td> 26.463008</td></tr>\n",
       "\t<tr><th scope=row>745</th><td> 80       </td><td> 72.57495 </td><td>  7.425052</td></tr>\n",
       "\t<tr><th scope=row>746</th><td> 48       </td><td> 69.68882 </td><td>-21.688817</td></tr>\n",
       "\t<tr><th scope=row>749</th><td> 80       </td><td> 91.81582 </td><td>-11.815819</td></tr>\n",
       "\t<tr><th scope=row>751</th><td>150       </td><td> 67.76473 </td><td> 82.235270</td></tr>\n",
       "\t<tr><th scope=row>752</th><td> 50       </td><td>115.86691 </td><td>-65.866908</td></tr>\n",
       "\t<tr><th scope=row>764</th><td> 73       </td><td> 86.04356 </td><td>-13.043558</td></tr>\n",
       "\t<tr><th scope=row>765</th><td> 38       </td><td> 59.58736 </td><td>-21.587360</td></tr>\n",
       "\t<tr><th scope=row>767</th><td> 89       </td><td> 80.75232 </td><td>  8.247682</td></tr>\n",
       "\t<tr><th scope=row>769</th><td> 59       </td><td> 67.76473 </td><td> -8.764730</td></tr>\n",
       "\t<tr><th scope=row>778</th><td> 80       </td><td> 87.48662 </td><td> -7.486623</td></tr>\n",
       "\t<tr><th scope=row>784</th><td> 66       </td><td> 77.38517 </td><td>-11.385166</td></tr>\n",
       "\t<tr><th scope=row>786</th><td> 85       </td><td>102.39830 </td><td>-17.398298</td></tr>\n",
       "\t<tr><th scope=row>788</th><td>100       </td><td>102.39830 </td><td> -2.398298</td></tr>\n",
       "\t<tr><th scope=row>790</th><td>117       </td><td>132.22165 </td><td>-15.221649</td></tr>\n",
       "\t<tr><th scope=row>794</th><td>131       </td><td> 89.41071 </td><td> 41.589290</td></tr>\n",
       "\t<tr><th scope=row>799</th><td>160       </td><td> 72.57495 </td><td> 87.425052</td></tr>\n",
       "\t<tr><th scope=row>800</th><td>110       </td><td>101.43625 </td><td>  8.563745</td></tr>\n",
       "</tbody>\n",
       "</table>\n"
      ],
      "text/latex": [
       "\\begin{tabular}{r|lll}\n",
       "  & Actual & predicted & error\\\\\n",
       "\\hline\n",
       "\t1 &  49         &  67.28371   & -18.2837085\\\\\n",
       "\t3 &  82         &  83.63845   &  -1.6384490\\\\\n",
       "\t4 & 100         & 102.87932   &  -2.8793201\\\\\n",
       "\t6 &  64         &  71.61290   &  -7.6129045\\\\\n",
       "\t8 & 130         &  97.10706   &  32.8929412\\\\\n",
       "\t14 &  30         &  60.54940   & -30.5494036\\\\\n",
       "\t21 &  45         &  62.95451   & -17.9545125\\\\\n",
       "\t23 &  80         &  79.79027   &   0.2097253\\\\\n",
       "\t24 &  80         &  82.19538   &  -2.1953836\\\\\n",
       "\t29 &  60         &  64.87860   &  -4.8785996\\\\\n",
       "\t32 &  90         &  70.16984   &  19.8301608\\\\\n",
       "\t33 &  75         &  84.60049   &  -9.6004925\\\\\n",
       "\t34 & 100         &  96.62604   &   3.3739630\\\\\n",
       "\t35 &  47         &  68.72677   & -21.7267739\\\\\n",
       "\t38 &  57         &  62.95451   &  -5.9545125\\\\\n",
       "\t41 &  45         &  66.80269   & -21.8026867\\\\\n",
       "\t43 &  41         &  62.95451   & -21.9545125\\\\\n",
       "\t47 &  45         &  60.54940   & -15.5494036\\\\\n",
       "\t49 &  50         &  70.16984   & -20.1698392\\\\\n",
       "\t56 &  55         &  55.73919   &  -0.7391858\\\\\n",
       "\t60 &  52         &  66.80269   & -14.8026867\\\\\n",
       "\t61 &  82         &  81.23334   &   0.7666599\\\\\n",
       "\t63 & 105         &  72.57495   &  32.4250519\\\\\n",
       "\t64 &  70         &  65.35962   &   4.6403786\\\\\n",
       "\t66 &  50         &  62.95451   & -12.9545125\\\\\n",
       "\t68 &  95         &  89.41071   &   5.5892897\\\\\n",
       "\t74 & 100         &  77.38517   &  22.6148341\\\\\n",
       "\t76 &  75         &  60.54940   &  14.4505964\\\\\n",
       "\t82 &  95         &  99.03115   &  -4.0311459\\\\\n",
       "\t91 &  65         &  70.16984   &  -5.1698392\\\\\n",
       "\t... & ... & ... & ...\\\\\n",
       "\t698 &  85        &  70.16984  &  14.830161\\\\\n",
       "\t700 &  90        & 105.76545  & -15.765451\\\\\n",
       "\t702 &  90        &  78.34721  &  11.652791\\\\\n",
       "\t708 & 150        & 101.43625  &  48.563745\\\\\n",
       "\t715 &  72        &  87.00560  & -15.005601\\\\\n",
       "\t716 &  77        &  80.75232  &  -3.752318\\\\\n",
       "\t719 &  61        &  74.98006  & -13.980057\\\\\n",
       "\t726 &  63        &  68.72677  &  -5.726774\\\\\n",
       "\t727 &  95        &  75.94210  &  19.057899\\\\\n",
       "\t729 &  56        &  80.75232  & -24.752318\\\\\n",
       "\t732 &  81        &  77.86619  &   3.133812\\\\\n",
       "\t735 &  52        &  67.76473  & -15.764730\\\\\n",
       "\t742 & 100        &  73.53699  &  26.463008\\\\\n",
       "\t745 &  80        &  72.57495  &   7.425052\\\\\n",
       "\t746 &  48        &  69.68882  & -21.688817\\\\\n",
       "\t749 &  80        &  91.81582  & -11.815819\\\\\n",
       "\t751 & 150        &  67.76473  &  82.235270\\\\\n",
       "\t752 &  50        & 115.86691  & -65.866908\\\\\n",
       "\t764 &  73        &  86.04356  & -13.043558\\\\\n",
       "\t765 &  38        &  59.58736  & -21.587360\\\\\n",
       "\t767 &  89        &  80.75232  &   8.247682\\\\\n",
       "\t769 &  59        &  67.76473  &  -8.764730\\\\\n",
       "\t778 &  80        &  87.48662  &  -7.486623\\\\\n",
       "\t784 &  66        &  77.38517  & -11.385166\\\\\n",
       "\t786 &  85        & 102.39830  & -17.398298\\\\\n",
       "\t788 & 100        & 102.39830  &  -2.398298\\\\\n",
       "\t790 & 117        & 132.22165  & -15.221649\\\\\n",
       "\t794 & 131        &  89.41071  &  41.589290\\\\\n",
       "\t799 & 160        &  72.57495  &  87.425052\\\\\n",
       "\t800 & 110        & 101.43625  &   8.563745\\\\\n",
       "\\end{tabular}\n"
      ],
      "text/markdown": [
       "\n",
       "| <!--/--> | Actual | predicted | error |\n",
       "|---|---|---|---|\n",
       "| 1 |  49         |  67.28371   | -18.2837085 |\n",
       "| 3 |  82         |  83.63845   |  -1.6384490 |\n",
       "| 4 | 100         | 102.87932   |  -2.8793201 |\n",
       "| 6 |  64         |  71.61290   |  -7.6129045 |\n",
       "| 8 | 130         |  97.10706   |  32.8929412 |\n",
       "| 14 |  30         |  60.54940   | -30.5494036 |\n",
       "| 21 |  45         |  62.95451   | -17.9545125 |\n",
       "| 23 |  80         |  79.79027   |   0.2097253 |\n",
       "| 24 |  80         |  82.19538   |  -2.1953836 |\n",
       "| 29 |  60         |  64.87860   |  -4.8785996 |\n",
       "| 32 |  90         |  70.16984   |  19.8301608 |\n",
       "| 33 |  75         |  84.60049   |  -9.6004925 |\n",
       "| 34 | 100         |  96.62604   |   3.3739630 |\n",
       "| 35 |  47         |  68.72677   | -21.7267739 |\n",
       "| 38 |  57         |  62.95451   |  -5.9545125 |\n",
       "| 41 |  45         |  66.80269   | -21.8026867 |\n",
       "| 43 |  41         |  62.95451   | -21.9545125 |\n",
       "| 47 |  45         |  60.54940   | -15.5494036 |\n",
       "| 49 |  50         |  70.16984   | -20.1698392 |\n",
       "| 56 |  55         |  55.73919   |  -0.7391858 |\n",
       "| 60 |  52         |  66.80269   | -14.8026867 |\n",
       "| 61 |  82         |  81.23334   |   0.7666599 |\n",
       "| 63 | 105         |  72.57495   |  32.4250519 |\n",
       "| 64 |  70         |  65.35962   |   4.6403786 |\n",
       "| 66 |  50         |  62.95451   | -12.9545125 |\n",
       "| 68 |  95         |  89.41071   |   5.5892897 |\n",
       "| 74 | 100         |  77.38517   |  22.6148341 |\n",
       "| 76 |  75         |  60.54940   |  14.4505964 |\n",
       "| 82 |  95         |  99.03115   |  -4.0311459 |\n",
       "| 91 |  65         |  70.16984   |  -5.1698392 |\n",
       "| ... | ... | ... | ... |\n",
       "| 698 |  85        |  70.16984  |  14.830161 |\n",
       "| 700 |  90        | 105.76545  | -15.765451 |\n",
       "| 702 |  90        |  78.34721  |  11.652791 |\n",
       "| 708 | 150        | 101.43625  |  48.563745 |\n",
       "| 715 |  72        |  87.00560  | -15.005601 |\n",
       "| 716 |  77        |  80.75232  |  -3.752318 |\n",
       "| 719 |  61        |  74.98006  | -13.980057 |\n",
       "| 726 |  63        |  68.72677  |  -5.726774 |\n",
       "| 727 |  95        |  75.94210  |  19.057899 |\n",
       "| 729 |  56        |  80.75232  | -24.752318 |\n",
       "| 732 |  81        |  77.86619  |   3.133812 |\n",
       "| 735 |  52        |  67.76473  | -15.764730 |\n",
       "| 742 | 100        |  73.53699  |  26.463008 |\n",
       "| 745 |  80        |  72.57495  |   7.425052 |\n",
       "| 746 |  48        |  69.68882  | -21.688817 |\n",
       "| 749 |  80        |  91.81582  | -11.815819 |\n",
       "| 751 | 150        |  67.76473  |  82.235270 |\n",
       "| 752 |  50        | 115.86691  | -65.866908 |\n",
       "| 764 |  73        |  86.04356  | -13.043558 |\n",
       "| 765 |  38        |  59.58736  | -21.587360 |\n",
       "| 767 |  89        |  80.75232  |   8.247682 |\n",
       "| 769 |  59        |  67.76473  |  -8.764730 |\n",
       "| 778 |  80        |  87.48662  |  -7.486623 |\n",
       "| 784 |  66        |  77.38517  | -11.385166 |\n",
       "| 786 |  85        | 102.39830  | -17.398298 |\n",
       "| 788 | 100        | 102.39830  |  -2.398298 |\n",
       "| 790 | 117        | 132.22165  | -15.221649 |\n",
       "| 794 | 131        |  89.41071  |  41.589290 |\n",
       "| 799 | 160        |  72.57495  |  87.425052 |\n",
       "| 800 | 110        | 101.43625  |   8.563745 |\n",
       "\n"
      ],
      "text/plain": [
       "    Actual predicted error      \n",
       "1    49     67.28371 -18.2837085\n",
       "3    82     83.63845  -1.6384490\n",
       "4   100    102.87932  -2.8793201\n",
       "6    64     71.61290  -7.6129045\n",
       "8   130     97.10706  32.8929412\n",
       "14   30     60.54940 -30.5494036\n",
       "21   45     62.95451 -17.9545125\n",
       "23   80     79.79027   0.2097253\n",
       "24   80     82.19538  -2.1953836\n",
       "29   60     64.87860  -4.8785996\n",
       "32   90     70.16984  19.8301608\n",
       "33   75     84.60049  -9.6004925\n",
       "34  100     96.62604   3.3739630\n",
       "35   47     68.72677 -21.7267739\n",
       "38   57     62.95451  -5.9545125\n",
       "41   45     66.80269 -21.8026867\n",
       "43   41     62.95451 -21.9545125\n",
       "47   45     60.54940 -15.5494036\n",
       "49   50     70.16984 -20.1698392\n",
       "56   55     55.73919  -0.7391858\n",
       "60   52     66.80269 -14.8026867\n",
       "61   82     81.23334   0.7666599\n",
       "63  105     72.57495  32.4250519\n",
       "64   70     65.35962   4.6403786\n",
       "66   50     62.95451 -12.9545125\n",
       "68   95     89.41071   5.5892897\n",
       "74  100     77.38517  22.6148341\n",
       "76   75     60.54940  14.4505964\n",
       "82   95     99.03115  -4.0311459\n",
       "91   65     70.16984  -5.1698392\n",
       "... ...    ...       ...        \n",
       "698  85     70.16984  14.830161 \n",
       "700  90    105.76545 -15.765451 \n",
       "702  90     78.34721  11.652791 \n",
       "708 150    101.43625  48.563745 \n",
       "715  72     87.00560 -15.005601 \n",
       "716  77     80.75232  -3.752318 \n",
       "719  61     74.98006 -13.980057 \n",
       "726  63     68.72677  -5.726774 \n",
       "727  95     75.94210  19.057899 \n",
       "729  56     80.75232 -24.752318 \n",
       "732  81     77.86619   3.133812 \n",
       "735  52     67.76473 -15.764730 \n",
       "742 100     73.53699  26.463008 \n",
       "745  80     72.57495   7.425052 \n",
       "746  48     69.68882 -21.688817 \n",
       "749  80     91.81582 -11.815819 \n",
       "751 150     67.76473  82.235270 \n",
       "752  50    115.86691 -65.866908 \n",
       "764  73     86.04356 -13.043558 \n",
       "765  38     59.58736 -21.587360 \n",
       "767  89     80.75232   8.247682 \n",
       "769  59     67.76473  -8.764730 \n",
       "778  80     87.48662  -7.486623 \n",
       "784  66     77.38517 -11.385166 \n",
       "786  85    102.39830 -17.398298 \n",
       "788 100    102.39830  -2.398298 \n",
       "790 117    132.22165 -15.221649 \n",
       "794 131     89.41071  41.589290 \n",
       "799 160     72.57495  87.425052 \n",
       "800 110    101.43625   8.563745 "
      ]
     },
     "metadata": {},
     "output_type": "display_data"
    }
   ],
   "source": [
    "Final_data"
   ]
  },
  {
   "cell_type": "markdown",
   "metadata": {},
   "source": [
    "Now we will find the aggregate error in prediction"
   ]
  },
  {
   "cell_type": "markdown",
   "metadata": {},
   "source": [
    "We can do that by using root mean square error"
   ]
  },
  {
   "cell_type": "code",
   "execution_count": 51,
   "metadata": {},
   "outputs": [],
   "source": [
    "rmse1 <- sqrt(mean(Final_data$error^2))"
   ]
  },
  {
   "cell_type": "code",
   "execution_count": 52,
   "metadata": {},
   "outputs": [
    {
     "data": {
      "text/html": [
       "28.8557649569263"
      ],
      "text/latex": [
       "28.8557649569263"
      ],
      "text/markdown": [
       "28.8557649569263"
      ],
      "text/plain": [
       "[1] 28.85576"
      ]
     },
     "metadata": {},
     "output_type": "display_data"
    }
   ],
   "source": [
    "rmse1"
   ]
  },
  {
   "cell_type": "markdown",
   "metadata": {},
   "source": [
    "28 is the root mean square error"
   ]
  },
  {
   "cell_type": "markdown",
   "metadata": {},
   "source": [
    "__We checked how Defense influence the Attack of the pokemon__\n",
    "\n",
    "__Now we will see how Defense, Speed and Health points influence the Attack of the pokemon__"
   ]
  },
  {
   "cell_type": "code",
   "execution_count": 53,
   "metadata": {},
   "outputs": [],
   "source": [
    "mod_regress2 <- lm(Attack~Defense+Speed+Health_Points, data=train1)"
   ]
  },
  {
   "cell_type": "code",
   "execution_count": 54,
   "metadata": {},
   "outputs": [],
   "source": [
    "result_regress2 <- predict(mod_regress2,test1)"
   ]
  },
  {
   "cell_type": "code",
   "execution_count": 55,
   "metadata": {},
   "outputs": [],
   "source": [
    "Final_data2 <- cbind(Actual = test1$Attack, Predicted = result_regress2)"
   ]
  },
  {
   "cell_type": "code",
   "execution_count": 56,
   "metadata": {},
   "outputs": [],
   "source": [
    "Final_data2 <- as.data.frame(Final_data2)"
   ]
  },
  {
   "cell_type": "code",
   "execution_count": 57,
   "metadata": {},
   "outputs": [
    {
     "data": {
      "text/html": [
       "<table>\n",
       "<thead><tr><th></th><th scope=col>Actual</th><th scope=col>Predicted</th></tr></thead>\n",
       "<tbody>\n",
       "\t<tr><th scope=row>1</th><td> 49      </td><td> 51.55948</td></tr>\n",
       "\t<tr><th scope=row>3</th><td> 82      </td><td> 91.08791</td></tr>\n",
       "\t<tr><th scope=row>4</th><td>100      </td><td>106.89622</td></tr>\n",
       "\t<tr><th scope=row>6</th><td> 64      </td><td> 73.28386</td></tr>\n",
       "\t<tr><th scope=row>8</th><td>130      </td><td>109.13922</td></tr>\n",
       "\t<tr><th scope=row>14</th><td> 30      </td><td> 46.02658</td></tr>\n",
       "\t<tr><th scope=row>21</th><td> 45      </td><td> 50.43995</td></tr>\n",
       "\t<tr><th scope=row>23</th><td> 80      </td><td> 97.09792</td></tr>\n",
       "\t<tr><th scope=row>24</th><td> 80      </td><td>106.77980</td></tr>\n",
       "\t<tr><th scope=row>29</th><td> 60      </td><td> 49.83461</td></tr>\n",
       "\t<tr><th scope=row>32</th><td> 90      </td><td> 84.37736</td></tr>\n",
       "\t<tr><th scope=row>33</th><td> 75      </td><td> 65.66137</td></tr>\n",
       "\t<tr><th scope=row>34</th><td>100      </td><td> 94.17826</td></tr>\n",
       "\t<tr><th scope=row>35</th><td> 47      </td><td> 54.80569</td></tr>\n",
       "\t<tr><th scope=row>38</th><td> 57      </td><td> 50.28925</td></tr>\n",
       "\t<tr><th scope=row>41</th><td> 45      </td><td> 56.31574</td></tr>\n",
       "\t<tr><th scope=row>43</th><td> 41      </td><td> 53.18723</td></tr>\n",
       "\t<tr><th scope=row>47</th><td> 45      </td><td> 48.07862</td></tr>\n",
       "\t<tr><th scope=row>49</th><td> 50      </td><td> 48.15134</td></tr>\n",
       "\t<tr><th scope=row>56</th><td> 55      </td><td> 48.73297</td></tr>\n",
       "\t<tr><th scope=row>60</th><td> 52      </td><td> 56.81808</td></tr>\n",
       "\t<tr><th scope=row>61</th><td> 82      </td><td> 91.03834</td></tr>\n",
       "\t<tr><th scope=row>63</th><td>105      </td><td> 82.37489</td></tr>\n",
       "\t<tr><th scope=row>64</th><td> 70      </td><td> 59.35979</td></tr>\n",
       "\t<tr><th scope=row>66</th><td> 50      </td><td> 63.53989</td></tr>\n",
       "\t<tr><th scope=row>68</th><td> 95      </td><td> 95.57924</td></tr>\n",
       "\t<tr><th scope=row>74</th><td>100      </td><td> 72.46499</td></tr>\n",
       "\t<tr><th scope=row>76</th><td> 75      </td><td> 45.90099</td></tr>\n",
       "\t<tr><th scope=row>82</th><td> 95      </td><td> 77.39202</td></tr>\n",
       "\t<tr><th scope=row>91</th><td> 65      </td><td> 62.23134</td></tr>\n",
       "\t<tr><th scope=row>...</th><td>...</td><td>...</td></tr>\n",
       "\t<tr><th scope=row>698</th><td> 85      </td><td> 63.31187</td></tr>\n",
       "\t<tr><th scope=row>700</th><td> 90      </td><td>124.01758</td></tr>\n",
       "\t<tr><th scope=row>702</th><td> 90      </td><td>101.49075</td></tr>\n",
       "\t<tr><th scope=row>708</th><td>150      </td><td>116.76703</td></tr>\n",
       "\t<tr><th scope=row>715</th><td> 72      </td><td>108.60448</td></tr>\n",
       "\t<tr><th scope=row>716</th><td> 77      </td><td> 99.77310</td></tr>\n",
       "\t<tr><th scope=row>719</th><td> 61      </td><td> 59.14769</td></tr>\n",
       "\t<tr><th scope=row>726</th><td> 63      </td><td> 76.02189</td></tr>\n",
       "\t<tr><th scope=row>727</th><td> 95      </td><td> 98.06547</td></tr>\n",
       "\t<tr><th scope=row>729</th><td> 56      </td><td> 89.74696</td></tr>\n",
       "\t<tr><th scope=row>732</th><td> 81      </td><td>103.34852</td></tr>\n",
       "\t<tr><th scope=row>735</th><td> 52      </td><td> 81.51369</td></tr>\n",
       "\t<tr><th scope=row>742</th><td>100      </td><td> 93.65259</td></tr>\n",
       "\t<tr><th scope=row>745</th><td> 80      </td><td> 88.67369</td></tr>\n",
       "\t<tr><th scope=row>746</th><td> 48      </td><td> 68.52023</td></tr>\n",
       "\t<tr><th scope=row>749</th><td> 80      </td><td> 65.16510</td></tr>\n",
       "\t<tr><th scope=row>751</th><td>150      </td><td> 63.13671</td></tr>\n",
       "\t<tr><th scope=row>752</th><td> 50      </td><td>102.65747</td></tr>\n",
       "\t<tr><th scope=row>764</th><td> 73      </td><td> 81.73124</td></tr>\n",
       "\t<tr><th scope=row>765</th><td> 38      </td><td> 54.50829</td></tr>\n",
       "\t<tr><th scope=row>767</th><td> 89      </td><td> 68.46345</td></tr>\n",
       "\t<tr><th scope=row>769</th><td> 59      </td><td> 63.86560</td></tr>\n",
       "\t<tr><th scope=row>778</th><td> 80      </td><td> 84.03908</td></tr>\n",
       "\t<tr><th scope=row>784</th><td> 66      </td><td> 63.36013</td></tr>\n",
       "\t<tr><th scope=row>786</th><td> 85      </td><td>104.81718</td></tr>\n",
       "\t<tr><th scope=row>788</th><td>100      </td><td> 98.28429</td></tr>\n",
       "\t<tr><th scope=row>790</th><td>117      </td><td>116.37132</td></tr>\n",
       "\t<tr><th scope=row>794</th><td>131      </td><td>119.71903</td></tr>\n",
       "\t<tr><th scope=row>799</th><td>160      </td><td> 81.99814</td></tr>\n",
       "\t<tr><th scope=row>800</th><td>110      </td><td>101.85767</td></tr>\n",
       "</tbody>\n",
       "</table>\n"
      ],
      "text/latex": [
       "\\begin{tabular}{r|ll}\n",
       "  & Actual & Predicted\\\\\n",
       "\\hline\n",
       "\t1 &  49       &  51.55948\\\\\n",
       "\t3 &  82       &  91.08791\\\\\n",
       "\t4 & 100       & 106.89622\\\\\n",
       "\t6 &  64       &  73.28386\\\\\n",
       "\t8 & 130       & 109.13922\\\\\n",
       "\t14 &  30       &  46.02658\\\\\n",
       "\t21 &  45       &  50.43995\\\\\n",
       "\t23 &  80       &  97.09792\\\\\n",
       "\t24 &  80       & 106.77980\\\\\n",
       "\t29 &  60       &  49.83461\\\\\n",
       "\t32 &  90       &  84.37736\\\\\n",
       "\t33 &  75       &  65.66137\\\\\n",
       "\t34 & 100       &  94.17826\\\\\n",
       "\t35 &  47       &  54.80569\\\\\n",
       "\t38 &  57       &  50.28925\\\\\n",
       "\t41 &  45       &  56.31574\\\\\n",
       "\t43 &  41       &  53.18723\\\\\n",
       "\t47 &  45       &  48.07862\\\\\n",
       "\t49 &  50       &  48.15134\\\\\n",
       "\t56 &  55       &  48.73297\\\\\n",
       "\t60 &  52       &  56.81808\\\\\n",
       "\t61 &  82       &  91.03834\\\\\n",
       "\t63 & 105       &  82.37489\\\\\n",
       "\t64 &  70       &  59.35979\\\\\n",
       "\t66 &  50       &  63.53989\\\\\n",
       "\t68 &  95       &  95.57924\\\\\n",
       "\t74 & 100       &  72.46499\\\\\n",
       "\t76 &  75       &  45.90099\\\\\n",
       "\t82 &  95       &  77.39202\\\\\n",
       "\t91 &  65       &  62.23134\\\\\n",
       "\t... & ... & ...\\\\\n",
       "\t698 &  85       &  63.31187\\\\\n",
       "\t700 &  90       & 124.01758\\\\\n",
       "\t702 &  90       & 101.49075\\\\\n",
       "\t708 & 150       & 116.76703\\\\\n",
       "\t715 &  72       & 108.60448\\\\\n",
       "\t716 &  77       &  99.77310\\\\\n",
       "\t719 &  61       &  59.14769\\\\\n",
       "\t726 &  63       &  76.02189\\\\\n",
       "\t727 &  95       &  98.06547\\\\\n",
       "\t729 &  56       &  89.74696\\\\\n",
       "\t732 &  81       & 103.34852\\\\\n",
       "\t735 &  52       &  81.51369\\\\\n",
       "\t742 & 100       &  93.65259\\\\\n",
       "\t745 &  80       &  88.67369\\\\\n",
       "\t746 &  48       &  68.52023\\\\\n",
       "\t749 &  80       &  65.16510\\\\\n",
       "\t751 & 150       &  63.13671\\\\\n",
       "\t752 &  50       & 102.65747\\\\\n",
       "\t764 &  73       &  81.73124\\\\\n",
       "\t765 &  38       &  54.50829\\\\\n",
       "\t767 &  89       &  68.46345\\\\\n",
       "\t769 &  59       &  63.86560\\\\\n",
       "\t778 &  80       &  84.03908\\\\\n",
       "\t784 &  66       &  63.36013\\\\\n",
       "\t786 &  85       & 104.81718\\\\\n",
       "\t788 & 100       &  98.28429\\\\\n",
       "\t790 & 117       & 116.37132\\\\\n",
       "\t794 & 131       & 119.71903\\\\\n",
       "\t799 & 160       &  81.99814\\\\\n",
       "\t800 & 110       & 101.85767\\\\\n",
       "\\end{tabular}\n"
      ],
      "text/markdown": [
       "\n",
       "| <!--/--> | Actual | Predicted |\n",
       "|---|---|---|\n",
       "| 1 |  49       |  51.55948 |\n",
       "| 3 |  82       |  91.08791 |\n",
       "| 4 | 100       | 106.89622 |\n",
       "| 6 |  64       |  73.28386 |\n",
       "| 8 | 130       | 109.13922 |\n",
       "| 14 |  30       |  46.02658 |\n",
       "| 21 |  45       |  50.43995 |\n",
       "| 23 |  80       |  97.09792 |\n",
       "| 24 |  80       | 106.77980 |\n",
       "| 29 |  60       |  49.83461 |\n",
       "| 32 |  90       |  84.37736 |\n",
       "| 33 |  75       |  65.66137 |\n",
       "| 34 | 100       |  94.17826 |\n",
       "| 35 |  47       |  54.80569 |\n",
       "| 38 |  57       |  50.28925 |\n",
       "| 41 |  45       |  56.31574 |\n",
       "| 43 |  41       |  53.18723 |\n",
       "| 47 |  45       |  48.07862 |\n",
       "| 49 |  50       |  48.15134 |\n",
       "| 56 |  55       |  48.73297 |\n",
       "| 60 |  52       |  56.81808 |\n",
       "| 61 |  82       |  91.03834 |\n",
       "| 63 | 105       |  82.37489 |\n",
       "| 64 |  70       |  59.35979 |\n",
       "| 66 |  50       |  63.53989 |\n",
       "| 68 |  95       |  95.57924 |\n",
       "| 74 | 100       |  72.46499 |\n",
       "| 76 |  75       |  45.90099 |\n",
       "| 82 |  95       |  77.39202 |\n",
       "| 91 |  65       |  62.23134 |\n",
       "| ... | ... | ... |\n",
       "| 698 |  85       |  63.31187 |\n",
       "| 700 |  90       | 124.01758 |\n",
       "| 702 |  90       | 101.49075 |\n",
       "| 708 | 150       | 116.76703 |\n",
       "| 715 |  72       | 108.60448 |\n",
       "| 716 |  77       |  99.77310 |\n",
       "| 719 |  61       |  59.14769 |\n",
       "| 726 |  63       |  76.02189 |\n",
       "| 727 |  95       |  98.06547 |\n",
       "| 729 |  56       |  89.74696 |\n",
       "| 732 |  81       | 103.34852 |\n",
       "| 735 |  52       |  81.51369 |\n",
       "| 742 | 100       |  93.65259 |\n",
       "| 745 |  80       |  88.67369 |\n",
       "| 746 |  48       |  68.52023 |\n",
       "| 749 |  80       |  65.16510 |\n",
       "| 751 | 150       |  63.13671 |\n",
       "| 752 |  50       | 102.65747 |\n",
       "| 764 |  73       |  81.73124 |\n",
       "| 765 |  38       |  54.50829 |\n",
       "| 767 |  89       |  68.46345 |\n",
       "| 769 |  59       |  63.86560 |\n",
       "| 778 |  80       |  84.03908 |\n",
       "| 784 |  66       |  63.36013 |\n",
       "| 786 |  85       | 104.81718 |\n",
       "| 788 | 100       |  98.28429 |\n",
       "| 790 | 117       | 116.37132 |\n",
       "| 794 | 131       | 119.71903 |\n",
       "| 799 | 160       |  81.99814 |\n",
       "| 800 | 110       | 101.85767 |\n",
       "\n"
      ],
      "text/plain": [
       "    Actual Predicted\n",
       "1    49     51.55948\n",
       "3    82     91.08791\n",
       "4   100    106.89622\n",
       "6    64     73.28386\n",
       "8   130    109.13922\n",
       "14   30     46.02658\n",
       "21   45     50.43995\n",
       "23   80     97.09792\n",
       "24   80    106.77980\n",
       "29   60     49.83461\n",
       "32   90     84.37736\n",
       "33   75     65.66137\n",
       "34  100     94.17826\n",
       "35   47     54.80569\n",
       "38   57     50.28925\n",
       "41   45     56.31574\n",
       "43   41     53.18723\n",
       "47   45     48.07862\n",
       "49   50     48.15134\n",
       "56   55     48.73297\n",
       "60   52     56.81808\n",
       "61   82     91.03834\n",
       "63  105     82.37489\n",
       "64   70     59.35979\n",
       "66   50     63.53989\n",
       "68   95     95.57924\n",
       "74  100     72.46499\n",
       "76   75     45.90099\n",
       "82   95     77.39202\n",
       "91   65     62.23134\n",
       "... ...    ...      \n",
       "698  85     63.31187\n",
       "700  90    124.01758\n",
       "702  90    101.49075\n",
       "708 150    116.76703\n",
       "715  72    108.60448\n",
       "716  77     99.77310\n",
       "719  61     59.14769\n",
       "726  63     76.02189\n",
       "727  95     98.06547\n",
       "729  56     89.74696\n",
       "732  81    103.34852\n",
       "735  52     81.51369\n",
       "742 100     93.65259\n",
       "745  80     88.67369\n",
       "746  48     68.52023\n",
       "749  80     65.16510\n",
       "751 150     63.13671\n",
       "752  50    102.65747\n",
       "764  73     81.73124\n",
       "765  38     54.50829\n",
       "767  89     68.46345\n",
       "769  59     63.86560\n",
       "778  80     84.03908\n",
       "784  66     63.36013\n",
       "786  85    104.81718\n",
       "788 100     98.28429\n",
       "790 117    116.37132\n",
       "794 131    119.71903\n",
       "799 160     81.99814\n",
       "800 110    101.85767"
      ]
     },
     "metadata": {},
     "output_type": "display_data"
    }
   ],
   "source": [
    "Final_data2"
   ]
  },
  {
   "cell_type": "markdown",
   "metadata": {},
   "source": [
    "Find error"
   ]
  },
  {
   "cell_type": "code",
   "execution_count": 58,
   "metadata": {},
   "outputs": [],
   "source": [
    "error2 <- (Final_data2$Actual - Final_data2$Predicted)"
   ]
  },
  {
   "cell_type": "code",
   "execution_count": 59,
   "metadata": {},
   "outputs": [],
   "source": [
    "Final_data2 <- cbind(Final_data2,error2)"
   ]
  },
  {
   "cell_type": "code",
   "execution_count": 60,
   "metadata": {},
   "outputs": [
    {
     "data": {
      "text/html": [
       "<table>\n",
       "<thead><tr><th></th><th scope=col>Actual</th><th scope=col>Predicted</th><th scope=col>error2</th></tr></thead>\n",
       "<tbody>\n",
       "\t<tr><th scope=row>1</th><td> 49        </td><td> 51.55948  </td><td> -2.5594835</td></tr>\n",
       "\t<tr><th scope=row>3</th><td> 82        </td><td> 91.08791  </td><td> -9.0879148</td></tr>\n",
       "\t<tr><th scope=row>4</th><td>100        </td><td>106.89622  </td><td> -6.8962195</td></tr>\n",
       "\t<tr><th scope=row>6</th><td> 64        </td><td> 73.28386  </td><td> -9.2838639</td></tr>\n",
       "\t<tr><th scope=row>8</th><td>130        </td><td>109.13922  </td><td> 20.8607768</td></tr>\n",
       "\t<tr><th scope=row>14</th><td> 30        </td><td> 46.02658  </td><td>-16.0265768</td></tr>\n",
       "\t<tr><th scope=row>21</th><td> 45        </td><td> 50.43995  </td><td> -5.4399529</td></tr>\n",
       "\t<tr><th scope=row>23</th><td> 80        </td><td> 97.09792  </td><td>-17.0979188</td></tr>\n",
       "\t<tr><th scope=row>24</th><td> 80        </td><td>106.77980  </td><td>-26.7798030</td></tr>\n",
       "\t<tr><th scope=row>29</th><td> 60        </td><td> 49.83461  </td><td> 10.1653863</td></tr>\n",
       "\t<tr><th scope=row>32</th><td> 90        </td><td> 84.37736  </td><td>  5.6226388</td></tr>\n",
       "\t<tr><th scope=row>33</th><td> 75        </td><td> 65.66137  </td><td>  9.3386265</td></tr>\n",
       "\t<tr><th scope=row>34</th><td>100        </td><td> 94.17826  </td><td>  5.8217415</td></tr>\n",
       "\t<tr><th scope=row>35</th><td> 47        </td><td> 54.80569  </td><td> -7.8056919</td></tr>\n",
       "\t<tr><th scope=row>38</th><td> 57        </td><td> 50.28925  </td><td>  6.7107481</td></tr>\n",
       "\t<tr><th scope=row>41</th><td> 45        </td><td> 56.31574  </td><td>-11.3157397</td></tr>\n",
       "\t<tr><th scope=row>43</th><td> 41        </td><td> 53.18723  </td><td>-12.1872327</td></tr>\n",
       "\t<tr><th scope=row>47</th><td> 45        </td><td> 48.07862  </td><td> -3.0786225</td></tr>\n",
       "\t<tr><th scope=row>49</th><td> 50        </td><td> 48.15134  </td><td>  1.8486554</td></tr>\n",
       "\t<tr><th scope=row>56</th><td> 55        </td><td> 48.73297  </td><td>  6.2670257</td></tr>\n",
       "\t<tr><th scope=row>60</th><td> 52        </td><td> 56.81808  </td><td> -4.8180763</td></tr>\n",
       "\t<tr><th scope=row>61</th><td> 82        </td><td> 91.03834  </td><td> -9.0383383</td></tr>\n",
       "\t<tr><th scope=row>63</th><td>105        </td><td> 82.37489  </td><td> 22.6251079</td></tr>\n",
       "\t<tr><th scope=row>64</th><td> 70        </td><td> 59.35979  </td><td> 10.6402076</td></tr>\n",
       "\t<tr><th scope=row>66</th><td> 50        </td><td> 63.53989  </td><td>-13.5398913</td></tr>\n",
       "\t<tr><th scope=row>68</th><td> 95        </td><td> 95.57924  </td><td> -0.5792379</td></tr>\n",
       "\t<tr><th scope=row>74</th><td>100        </td><td> 72.46499  </td><td> 27.5350149</td></tr>\n",
       "\t<tr><th scope=row>76</th><td> 75        </td><td> 45.90099  </td><td> 29.0990073</td></tr>\n",
       "\t<tr><th scope=row>82</th><td> 95        </td><td> 77.39202  </td><td> 17.6079822</td></tr>\n",
       "\t<tr><th scope=row>91</th><td> 65        </td><td> 62.23134  </td><td>  2.7686579</td></tr>\n",
       "\t<tr><th scope=row>...</th><td>...</td><td>...</td><td>...</td></tr>\n",
       "\t<tr><th scope=row>698</th><td> 85        </td><td> 63.31187  </td><td> 21.6881315</td></tr>\n",
       "\t<tr><th scope=row>700</th><td> 90        </td><td>124.01758  </td><td>-34.0175800</td></tr>\n",
       "\t<tr><th scope=row>702</th><td> 90        </td><td>101.49075  </td><td>-11.4907459</td></tr>\n",
       "\t<tr><th scope=row>708</th><td>150        </td><td>116.76703  </td><td> 33.2329708</td></tr>\n",
       "\t<tr><th scope=row>715</th><td> 72        </td><td>108.60448  </td><td>-36.6044830</td></tr>\n",
       "\t<tr><th scope=row>716</th><td> 77        </td><td> 99.77310  </td><td>-22.7731017</td></tr>\n",
       "\t<tr><th scope=row>719</th><td> 61        </td><td> 59.14769  </td><td>  1.8523106</td></tr>\n",
       "\t<tr><th scope=row>726</th><td> 63        </td><td> 76.02189  </td><td>-13.0218855</td></tr>\n",
       "\t<tr><th scope=row>727</th><td> 95        </td><td> 98.06547  </td><td> -3.0654660</td></tr>\n",
       "\t<tr><th scope=row>729</th><td> 56        </td><td> 89.74696  </td><td>-33.7469619</td></tr>\n",
       "\t<tr><th scope=row>732</th><td> 81        </td><td>103.34852  </td><td>-22.3485186</td></tr>\n",
       "\t<tr><th scope=row>735</th><td> 52        </td><td> 81.51369  </td><td>-29.5136942</td></tr>\n",
       "\t<tr><th scope=row>742</th><td>100        </td><td> 93.65259  </td><td>  6.3474073</td></tr>\n",
       "\t<tr><th scope=row>745</th><td> 80        </td><td> 88.67369  </td><td> -8.6736930</td></tr>\n",
       "\t<tr><th scope=row>746</th><td> 48        </td><td> 68.52023  </td><td>-20.5202277</td></tr>\n",
       "\t<tr><th scope=row>749</th><td> 80        </td><td> 65.16510  </td><td> 14.8348973</td></tr>\n",
       "\t<tr><th scope=row>751</th><td>150        </td><td> 63.13671  </td><td> 86.8632922</td></tr>\n",
       "\t<tr><th scope=row>752</th><td> 50        </td><td>102.65747  </td><td>-52.6574694</td></tr>\n",
       "\t<tr><th scope=row>764</th><td> 73        </td><td> 81.73124  </td><td> -8.7312352</td></tr>\n",
       "\t<tr><th scope=row>765</th><td> 38        </td><td> 54.50829  </td><td>-16.5082938</td></tr>\n",
       "\t<tr><th scope=row>767</th><td> 89        </td><td> 68.46345  </td><td> 20.5365452</td></tr>\n",
       "\t<tr><th scope=row>769</th><td> 59        </td><td> 63.86560  </td><td> -4.8655986</td></tr>\n",
       "\t<tr><th scope=row>778</th><td> 80        </td><td> 84.03908  </td><td> -4.0390783</td></tr>\n",
       "\t<tr><th scope=row>784</th><td> 66        </td><td> 63.36013  </td><td>  2.6398691</td></tr>\n",
       "\t<tr><th scope=row>786</th><td> 85        </td><td>104.81718  </td><td>-19.8171787</td></tr>\n",
       "\t<tr><th scope=row>788</th><td>100        </td><td> 98.28429  </td><td>  1.7157107</td></tr>\n",
       "\t<tr><th scope=row>790</th><td>117        </td><td>116.37132  </td><td>  0.6286837</td></tr>\n",
       "\t<tr><th scope=row>794</th><td>131        </td><td>119.71903  </td><td> 11.2809680</td></tr>\n",
       "\t<tr><th scope=row>799</th><td>160        </td><td> 81.99814  </td><td> 78.0018603</td></tr>\n",
       "\t<tr><th scope=row>800</th><td>110        </td><td>101.85767  </td><td>  8.1423265</td></tr>\n",
       "</tbody>\n",
       "</table>\n"
      ],
      "text/latex": [
       "\\begin{tabular}{r|lll}\n",
       "  & Actual & Predicted & error2\\\\\n",
       "\\hline\n",
       "\t1 &  49         &  51.55948   &  -2.5594835\\\\\n",
       "\t3 &  82         &  91.08791   &  -9.0879148\\\\\n",
       "\t4 & 100         & 106.89622   &  -6.8962195\\\\\n",
       "\t6 &  64         &  73.28386   &  -9.2838639\\\\\n",
       "\t8 & 130         & 109.13922   &  20.8607768\\\\\n",
       "\t14 &  30         &  46.02658   & -16.0265768\\\\\n",
       "\t21 &  45         &  50.43995   &  -5.4399529\\\\\n",
       "\t23 &  80         &  97.09792   & -17.0979188\\\\\n",
       "\t24 &  80         & 106.77980   & -26.7798030\\\\\n",
       "\t29 &  60         &  49.83461   &  10.1653863\\\\\n",
       "\t32 &  90         &  84.37736   &   5.6226388\\\\\n",
       "\t33 &  75         &  65.66137   &   9.3386265\\\\\n",
       "\t34 & 100         &  94.17826   &   5.8217415\\\\\n",
       "\t35 &  47         &  54.80569   &  -7.8056919\\\\\n",
       "\t38 &  57         &  50.28925   &   6.7107481\\\\\n",
       "\t41 &  45         &  56.31574   & -11.3157397\\\\\n",
       "\t43 &  41         &  53.18723   & -12.1872327\\\\\n",
       "\t47 &  45         &  48.07862   &  -3.0786225\\\\\n",
       "\t49 &  50         &  48.15134   &   1.8486554\\\\\n",
       "\t56 &  55         &  48.73297   &   6.2670257\\\\\n",
       "\t60 &  52         &  56.81808   &  -4.8180763\\\\\n",
       "\t61 &  82         &  91.03834   &  -9.0383383\\\\\n",
       "\t63 & 105         &  82.37489   &  22.6251079\\\\\n",
       "\t64 &  70         &  59.35979   &  10.6402076\\\\\n",
       "\t66 &  50         &  63.53989   & -13.5398913\\\\\n",
       "\t68 &  95         &  95.57924   &  -0.5792379\\\\\n",
       "\t74 & 100         &  72.46499   &  27.5350149\\\\\n",
       "\t76 &  75         &  45.90099   &  29.0990073\\\\\n",
       "\t82 &  95         &  77.39202   &  17.6079822\\\\\n",
       "\t91 &  65         &  62.23134   &   2.7686579\\\\\n",
       "\t... & ... & ... & ...\\\\\n",
       "\t698 &  85         &  63.31187   &  21.6881315\\\\\n",
       "\t700 &  90         & 124.01758   & -34.0175800\\\\\n",
       "\t702 &  90         & 101.49075   & -11.4907459\\\\\n",
       "\t708 & 150         & 116.76703   &  33.2329708\\\\\n",
       "\t715 &  72         & 108.60448   & -36.6044830\\\\\n",
       "\t716 &  77         &  99.77310   & -22.7731017\\\\\n",
       "\t719 &  61         &  59.14769   &   1.8523106\\\\\n",
       "\t726 &  63         &  76.02189   & -13.0218855\\\\\n",
       "\t727 &  95         &  98.06547   &  -3.0654660\\\\\n",
       "\t729 &  56         &  89.74696   & -33.7469619\\\\\n",
       "\t732 &  81         & 103.34852   & -22.3485186\\\\\n",
       "\t735 &  52         &  81.51369   & -29.5136942\\\\\n",
       "\t742 & 100         &  93.65259   &   6.3474073\\\\\n",
       "\t745 &  80         &  88.67369   &  -8.6736930\\\\\n",
       "\t746 &  48         &  68.52023   & -20.5202277\\\\\n",
       "\t749 &  80         &  65.16510   &  14.8348973\\\\\n",
       "\t751 & 150         &  63.13671   &  86.8632922\\\\\n",
       "\t752 &  50         & 102.65747   & -52.6574694\\\\\n",
       "\t764 &  73         &  81.73124   &  -8.7312352\\\\\n",
       "\t765 &  38         &  54.50829   & -16.5082938\\\\\n",
       "\t767 &  89         &  68.46345   &  20.5365452\\\\\n",
       "\t769 &  59         &  63.86560   &  -4.8655986\\\\\n",
       "\t778 &  80         &  84.03908   &  -4.0390783\\\\\n",
       "\t784 &  66         &  63.36013   &   2.6398691\\\\\n",
       "\t786 &  85         & 104.81718   & -19.8171787\\\\\n",
       "\t788 & 100         &  98.28429   &   1.7157107\\\\\n",
       "\t790 & 117         & 116.37132   &   0.6286837\\\\\n",
       "\t794 & 131         & 119.71903   &  11.2809680\\\\\n",
       "\t799 & 160         &  81.99814   &  78.0018603\\\\\n",
       "\t800 & 110         & 101.85767   &   8.1423265\\\\\n",
       "\\end{tabular}\n"
      ],
      "text/markdown": [
       "\n",
       "| <!--/--> | Actual | Predicted | error2 |\n",
       "|---|---|---|---|\n",
       "| 1 |  49         |  51.55948   |  -2.5594835 |\n",
       "| 3 |  82         |  91.08791   |  -9.0879148 |\n",
       "| 4 | 100         | 106.89622   |  -6.8962195 |\n",
       "| 6 |  64         |  73.28386   |  -9.2838639 |\n",
       "| 8 | 130         | 109.13922   |  20.8607768 |\n",
       "| 14 |  30         |  46.02658   | -16.0265768 |\n",
       "| 21 |  45         |  50.43995   |  -5.4399529 |\n",
       "| 23 |  80         |  97.09792   | -17.0979188 |\n",
       "| 24 |  80         | 106.77980   | -26.7798030 |\n",
       "| 29 |  60         |  49.83461   |  10.1653863 |\n",
       "| 32 |  90         |  84.37736   |   5.6226388 |\n",
       "| 33 |  75         |  65.66137   |   9.3386265 |\n",
       "| 34 | 100         |  94.17826   |   5.8217415 |\n",
       "| 35 |  47         |  54.80569   |  -7.8056919 |\n",
       "| 38 |  57         |  50.28925   |   6.7107481 |\n",
       "| 41 |  45         |  56.31574   | -11.3157397 |\n",
       "| 43 |  41         |  53.18723   | -12.1872327 |\n",
       "| 47 |  45         |  48.07862   |  -3.0786225 |\n",
       "| 49 |  50         |  48.15134   |   1.8486554 |\n",
       "| 56 |  55         |  48.73297   |   6.2670257 |\n",
       "| 60 |  52         |  56.81808   |  -4.8180763 |\n",
       "| 61 |  82         |  91.03834   |  -9.0383383 |\n",
       "| 63 | 105         |  82.37489   |  22.6251079 |\n",
       "| 64 |  70         |  59.35979   |  10.6402076 |\n",
       "| 66 |  50         |  63.53989   | -13.5398913 |\n",
       "| 68 |  95         |  95.57924   |  -0.5792379 |\n",
       "| 74 | 100         |  72.46499   |  27.5350149 |\n",
       "| 76 |  75         |  45.90099   |  29.0990073 |\n",
       "| 82 |  95         |  77.39202   |  17.6079822 |\n",
       "| 91 |  65         |  62.23134   |   2.7686579 |\n",
       "| ... | ... | ... | ... |\n",
       "| 698 |  85         |  63.31187   |  21.6881315 |\n",
       "| 700 |  90         | 124.01758   | -34.0175800 |\n",
       "| 702 |  90         | 101.49075   | -11.4907459 |\n",
       "| 708 | 150         | 116.76703   |  33.2329708 |\n",
       "| 715 |  72         | 108.60448   | -36.6044830 |\n",
       "| 716 |  77         |  99.77310   | -22.7731017 |\n",
       "| 719 |  61         |  59.14769   |   1.8523106 |\n",
       "| 726 |  63         |  76.02189   | -13.0218855 |\n",
       "| 727 |  95         |  98.06547   |  -3.0654660 |\n",
       "| 729 |  56         |  89.74696   | -33.7469619 |\n",
       "| 732 |  81         | 103.34852   | -22.3485186 |\n",
       "| 735 |  52         |  81.51369   | -29.5136942 |\n",
       "| 742 | 100         |  93.65259   |   6.3474073 |\n",
       "| 745 |  80         |  88.67369   |  -8.6736930 |\n",
       "| 746 |  48         |  68.52023   | -20.5202277 |\n",
       "| 749 |  80         |  65.16510   |  14.8348973 |\n",
       "| 751 | 150         |  63.13671   |  86.8632922 |\n",
       "| 752 |  50         | 102.65747   | -52.6574694 |\n",
       "| 764 |  73         |  81.73124   |  -8.7312352 |\n",
       "| 765 |  38         |  54.50829   | -16.5082938 |\n",
       "| 767 |  89         |  68.46345   |  20.5365452 |\n",
       "| 769 |  59         |  63.86560   |  -4.8655986 |\n",
       "| 778 |  80         |  84.03908   |  -4.0390783 |\n",
       "| 784 |  66         |  63.36013   |   2.6398691 |\n",
       "| 786 |  85         | 104.81718   | -19.8171787 |\n",
       "| 788 | 100         |  98.28429   |   1.7157107 |\n",
       "| 790 | 117         | 116.37132   |   0.6286837 |\n",
       "| 794 | 131         | 119.71903   |  11.2809680 |\n",
       "| 799 | 160         |  81.99814   |  78.0018603 |\n",
       "| 800 | 110         | 101.85767   |   8.1423265 |\n",
       "\n"
      ],
      "text/plain": [
       "    Actual Predicted error2     \n",
       "1    49     51.55948  -2.5594835\n",
       "3    82     91.08791  -9.0879148\n",
       "4   100    106.89622  -6.8962195\n",
       "6    64     73.28386  -9.2838639\n",
       "8   130    109.13922  20.8607768\n",
       "14   30     46.02658 -16.0265768\n",
       "21   45     50.43995  -5.4399529\n",
       "23   80     97.09792 -17.0979188\n",
       "24   80    106.77980 -26.7798030\n",
       "29   60     49.83461  10.1653863\n",
       "32   90     84.37736   5.6226388\n",
       "33   75     65.66137   9.3386265\n",
       "34  100     94.17826   5.8217415\n",
       "35   47     54.80569  -7.8056919\n",
       "38   57     50.28925   6.7107481\n",
       "41   45     56.31574 -11.3157397\n",
       "43   41     53.18723 -12.1872327\n",
       "47   45     48.07862  -3.0786225\n",
       "49   50     48.15134   1.8486554\n",
       "56   55     48.73297   6.2670257\n",
       "60   52     56.81808  -4.8180763\n",
       "61   82     91.03834  -9.0383383\n",
       "63  105     82.37489  22.6251079\n",
       "64   70     59.35979  10.6402076\n",
       "66   50     63.53989 -13.5398913\n",
       "68   95     95.57924  -0.5792379\n",
       "74  100     72.46499  27.5350149\n",
       "76   75     45.90099  29.0990073\n",
       "82   95     77.39202  17.6079822\n",
       "91   65     62.23134   2.7686579\n",
       "... ...    ...       ...        \n",
       "698  85     63.31187  21.6881315\n",
       "700  90    124.01758 -34.0175800\n",
       "702  90    101.49075 -11.4907459\n",
       "708 150    116.76703  33.2329708\n",
       "715  72    108.60448 -36.6044830\n",
       "716  77     99.77310 -22.7731017\n",
       "719  61     59.14769   1.8523106\n",
       "726  63     76.02189 -13.0218855\n",
       "727  95     98.06547  -3.0654660\n",
       "729  56     89.74696 -33.7469619\n",
       "732  81    103.34852 -22.3485186\n",
       "735  52     81.51369 -29.5136942\n",
       "742 100     93.65259   6.3474073\n",
       "745  80     88.67369  -8.6736930\n",
       "746  48     68.52023 -20.5202277\n",
       "749  80     65.16510  14.8348973\n",
       "751 150     63.13671  86.8632922\n",
       "752  50    102.65747 -52.6574694\n",
       "764  73     81.73124  -8.7312352\n",
       "765  38     54.50829 -16.5082938\n",
       "767  89     68.46345  20.5365452\n",
       "769  59     63.86560  -4.8655986\n",
       "778  80     84.03908  -4.0390783\n",
       "784  66     63.36013   2.6398691\n",
       "786  85    104.81718 -19.8171787\n",
       "788 100     98.28429   1.7157107\n",
       "790 117    116.37132   0.6286837\n",
       "794 131    119.71903  11.2809680\n",
       "799 160     81.99814  78.0018603\n",
       "800 110    101.85767   8.1423265"
      ]
     },
     "metadata": {},
     "output_type": "display_data"
    }
   ],
   "source": [
    "Final_data2"
   ]
  },
  {
   "cell_type": "code",
   "execution_count": 61,
   "metadata": {},
   "outputs": [],
   "source": [
    "# Find the aggregate error by implementing rmse"
   ]
  },
  {
   "cell_type": "code",
   "execution_count": 62,
   "metadata": {},
   "outputs": [],
   "source": [
    "rmse2 <- sqrt(mean(Final_data2$error^2))"
   ]
  },
  {
   "cell_type": "code",
   "execution_count": 63,
   "metadata": {},
   "outputs": [
    {
     "data": {
      "text/html": [
       "25.4914212877669"
      ],
      "text/latex": [
       "25.4914212877669"
      ],
      "text/markdown": [
       "25.4914212877669"
      ],
      "text/plain": [
       "[1] 25.49142"
      ]
     },
     "metadata": {},
     "output_type": "display_data"
    }
   ],
   "source": [
    "rmse2"
   ]
  },
  {
   "cell_type": "code",
   "execution_count": 64,
   "metadata": {},
   "outputs": [
    {
     "data": {
      "text/html": [
       "28.8557649569263"
      ],
      "text/latex": [
       "28.8557649569263"
      ],
      "text/markdown": [
       "28.8557649569263"
      ],
      "text/plain": [
       "[1] 28.85576"
      ]
     },
     "metadata": {},
     "output_type": "display_data"
    }
   ],
   "source": [
    "rmse1"
   ]
  },
  {
   "cell_type": "markdown",
   "metadata": {},
   "source": [
    "__Conclusion :__\n",
    "\n",
    "__second model is better than first because rmse2 is lesser as compared to rmse1__"
   ]
  },
  {
   "cell_type": "markdown",
   "metadata": {},
   "source": [
    "## (CLASSIFICATION)\n",
    "### Implement Classification algorithm to find out if the Pokemon is Legendary or Not? "
   ]
  },
  {
   "cell_type": "code",
   "execution_count": 65,
   "metadata": {},
   "outputs": [],
   "source": [
    "Split_values <- sample.split(pokemon$Legendary,SplitRatio = 0.65)"
   ]
  },
  {
   "cell_type": "code",
   "execution_count": 66,
   "metadata": {},
   "outputs": [],
   "source": [
    "train2 <- subset(pokemon,Split_values == T)"
   ]
  },
  {
   "cell_type": "code",
   "execution_count": 67,
   "metadata": {},
   "outputs": [],
   "source": [
    "test2 <- subset(pokemon, Split_values == F)"
   ]
  },
  {
   "cell_type": "code",
   "execution_count": 68,
   "metadata": {},
   "outputs": [
    {
     "data": {
      "text/html": [
       "520"
      ],
      "text/latex": [
       "520"
      ],
      "text/markdown": [
       "520"
      ],
      "text/plain": [
       "[1] 520"
      ]
     },
     "metadata": {},
     "output_type": "display_data"
    }
   ],
   "source": [
    "nrow(train2)"
   ]
  },
  {
   "cell_type": "code",
   "execution_count": 69,
   "metadata": {},
   "outputs": [
    {
     "data": {
      "text/html": [
       "280"
      ],
      "text/latex": [
       "280"
      ],
      "text/markdown": [
       "280"
      ],
      "text/plain": [
       "[1] 280"
      ]
     },
     "metadata": {},
     "output_type": "display_data"
    }
   ],
   "source": [
    "nrow(test2)"
   ]
  },
  {
   "cell_type": "code",
   "execution_count": 70,
   "metadata": {},
   "outputs": [
    {
     "name": "stderr",
     "output_type": "stream",
     "text": [
      "Warning message:\n",
      "\"package 'rpart' was built under R version 3.6.3\""
     ]
    }
   ],
   "source": [
    "# Decision Tree\n",
    "library(rpart)"
   ]
  },
  {
   "cell_type": "markdown",
   "metadata": {},
   "source": [
    "__Building model 1__"
   ]
  },
  {
   "cell_type": "code",
   "execution_count": 71,
   "metadata": {},
   "outputs": [],
   "source": [
    "mod1 <- rpart(Legendary~. ,data = train2)"
   ]
  },
  {
   "cell_type": "code",
   "execution_count": 72,
   "metadata": {},
   "outputs": [],
   "source": [
    "result1 <- predict(mod1, test2,type = \"class\")"
   ]
  },
  {
   "cell_type": "code",
   "execution_count": 73,
   "metadata": {},
   "outputs": [
    {
     "data": {
      "text/plain": [
       "       result1\n",
       "        False True\n",
       "  False   255    2\n",
       "  True     16    7"
      ]
     },
     "metadata": {},
     "output_type": "display_data"
    }
   ],
   "source": [
    "table(test2$Legendary,result1)"
   ]
  },
  {
   "cell_type": "code",
   "execution_count": 74,
   "metadata": {},
   "outputs": [
    {
     "name": "stderr",
     "output_type": "stream",
     "text": [
      "Warning message:\n",
      "\"package 'caret' was built under R version 3.6.3\"Loading required package: lattice\n",
      "Warning message:\n",
      "\"package 'lattice' was built under R version 3.6.3\"Loading required package: ggplot2\n",
      "Warning message:\n",
      "\"package 'ggplot2' was built under R version 3.6.3\""
     ]
    }
   ],
   "source": [
    "#install.packages('caret')\n",
    "library(caret)"
   ]
  },
  {
   "cell_type": "code",
   "execution_count": 75,
   "metadata": {},
   "outputs": [
    {
     "data": {
      "text/plain": [
       "Confusion Matrix and Statistics\n",
       "\n",
       "       result1\n",
       "        False True\n",
       "  False   255    2\n",
       "  True     16    7\n",
       "                                          \n",
       "               Accuracy : 0.9357          \n",
       "                 95% CI : (0.9003, 0.9615)\n",
       "    No Information Rate : 0.9679          \n",
       "    P-Value [Acc > NIR] : 0.997973        \n",
       "                                          \n",
       "                  Kappa : 0.4103          \n",
       "                                          \n",
       " Mcnemar's Test P-Value : 0.002183        \n",
       "                                          \n",
       "            Sensitivity : 0.9410          \n",
       "            Specificity : 0.7778          \n",
       "         Pos Pred Value : 0.9922          \n",
       "         Neg Pred Value : 0.3043          \n",
       "             Prevalence : 0.9679          \n",
       "         Detection Rate : 0.9107          \n",
       "   Detection Prevalence : 0.9179          \n",
       "      Balanced Accuracy : 0.8594          \n",
       "                                          \n",
       "       'Positive' Class : False           \n",
       "                                          "
      ]
     },
     "metadata": {},
     "output_type": "display_data"
    }
   ],
   "source": [
    "confusionMatrix(table(test2$Legendary,result1))"
   ]
  },
  {
   "cell_type": "markdown",
   "metadata": {},
   "source": [
    "__Building model 2__"
   ]
  },
  {
   "cell_type": "code",
   "execution_count": 76,
   "metadata": {},
   "outputs": [],
   "source": [
    "mod2 <- rpart(Legendary~ Defense+Speed+Attack,data = train2)"
   ]
  },
  {
   "cell_type": "code",
   "execution_count": 77,
   "metadata": {},
   "outputs": [],
   "source": [
    "result2 <- predict(mod2,test2,type=\"class\")"
   ]
  },
  {
   "cell_type": "code",
   "execution_count": 78,
   "metadata": {},
   "outputs": [
    {
     "data": {
      "text/plain": [
       "       result2\n",
       "        False True\n",
       "  False   248    9\n",
       "  True     12   11"
      ]
     },
     "metadata": {},
     "output_type": "display_data"
    }
   ],
   "source": [
    "table(test2$Legendary,result2)"
   ]
  },
  {
   "cell_type": "code",
   "execution_count": 79,
   "metadata": {},
   "outputs": [
    {
     "data": {
      "text/plain": [
       "Confusion Matrix and Statistics\n",
       "\n",
       "       result2\n",
       "        False True\n",
       "  False   248    9\n",
       "  True     12   11\n",
       "                                         \n",
       "               Accuracy : 0.925          \n",
       "                 95% CI : (0.8876, 0.953)\n",
       "    No Information Rate : 0.9286         \n",
       "    P-Value [Acc > NIR] : 0.6469         \n",
       "                                         \n",
       "                  Kappa : 0.4712         \n",
       "                                         \n",
       " Mcnemar's Test P-Value : 0.6625         \n",
       "                                         \n",
       "            Sensitivity : 0.9538         \n",
       "            Specificity : 0.5500         \n",
       "         Pos Pred Value : 0.9650         \n",
       "         Neg Pred Value : 0.4783         \n",
       "             Prevalence : 0.9286         \n",
       "         Detection Rate : 0.8857         \n",
       "   Detection Prevalence : 0.9179         \n",
       "      Balanced Accuracy : 0.7519         \n",
       "                                         \n",
       "       'Positive' Class : False          \n",
       "                                         "
      ]
     },
     "metadata": {},
     "output_type": "display_data"
    }
   ],
   "source": [
    "confusionMatrix(table(test2$Legendary,result2))"
   ]
  },
  {
   "cell_type": "markdown",
   "metadata": {},
   "source": [
    "So here Accuracy of Model 1 is 93% and Accuracy of Model 2 is 92%\n",
    "\n",
    "Model 1 > Model 2\n",
    "\n",
    "__Conclusion : Model 1 is Better Model.__\n"
   ]
  },
  {
   "cell_type": "markdown",
   "metadata": {},
   "source": [
    "Note: model performance can vary after re-run or with some minor changes"
   ]
  },
  {
   "cell_type": "code",
   "execution_count": null,
   "metadata": {},
   "outputs": [],
   "source": []
  }
 ],
 "metadata": {
  "kernelspec": {
   "display_name": "R",
   "language": "R",
   "name": "ir"
  },
  "language_info": {
   "codemirror_mode": "r",
   "file_extension": ".r",
   "mimetype": "text/x-r-source",
   "name": "R",
   "pygments_lexer": "r",
   "version": "3.6.1"
  }
 },
 "nbformat": 4,
 "nbformat_minor": 2
}
